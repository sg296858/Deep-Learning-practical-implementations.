{
  "nbformat": 4,
  "nbformat_minor": 0,
  "metadata": {
    "colab": {
      "provenance": []
    },
    "kernelspec": {
      "name": "python3",
      "display_name": "Python 3"
    },
    "language_info": {
      "name": "python"
    }
  },
  "cells": [
    {
      "cell_type": "code",
      "execution_count": null,
      "metadata": {
        "id": "cKVzInXrteyO"
      },
      "outputs": [],
      "source": [
        "import numpy as np\n",
        "import pandas as pd\n",
        "import matplotlib.pyplot as plt"
      ]
    },
    {
      "cell_type": "code",
      "source": [
        "df = pd.read_csv('/content/ushape.csv')"
      ],
      "metadata": {
        "id": "l-CtLegnti3_"
      },
      "execution_count": null,
      "outputs": []
    },
    {
      "cell_type": "code",
      "source": [
        "df.head()"
      ],
      "metadata": {
        "colab": {
          "base_uri": "https://localhost:8080/",
          "height": 206
        },
        "id": "T9P8j9Ubtt9t",
        "outputId": "10a52907-2490-4736-d372-f025b1f02e88"
      },
      "execution_count": null,
      "outputs": [
        {
          "output_type": "execute_result",
          "data": {
            "text/plain": [
              "   3.159499363321345566e-02  9.869877579082642072e-01  \\\n",
              "0                  2.115098                 -0.046244   \n",
              "1                  0.882490                 -0.075756   \n",
              "2                 -0.055144                 -0.037332   \n",
              "3                  0.829545                 -0.539321   \n",
              "4                  2.112857                  0.662084   \n",
              "\n",
              "   0.000000000000000000e+00  \n",
              "0                       1.0  \n",
              "1                       0.0  \n",
              "2                       1.0  \n",
              "3                       1.0  \n",
              "4                       1.0  "
            ],
            "text/html": [
              "\n",
              "  <div id=\"df-7c0b09ff-4b89-4683-b8a4-9c5a45a85b3e\" class=\"colab-df-container\">\n",
              "    <div>\n",
              "<style scoped>\n",
              "    .dataframe tbody tr th:only-of-type {\n",
              "        vertical-align: middle;\n",
              "    }\n",
              "\n",
              "    .dataframe tbody tr th {\n",
              "        vertical-align: top;\n",
              "    }\n",
              "\n",
              "    .dataframe thead th {\n",
              "        text-align: right;\n",
              "    }\n",
              "</style>\n",
              "<table border=\"1\" class=\"dataframe\">\n",
              "  <thead>\n",
              "    <tr style=\"text-align: right;\">\n",
              "      <th></th>\n",
              "      <th>3.159499363321345566e-02</th>\n",
              "      <th>9.869877579082642072e-01</th>\n",
              "      <th>0.000000000000000000e+00</th>\n",
              "    </tr>\n",
              "  </thead>\n",
              "  <tbody>\n",
              "    <tr>\n",
              "      <th>0</th>\n",
              "      <td>2.115098</td>\n",
              "      <td>-0.046244</td>\n",
              "      <td>1.0</td>\n",
              "    </tr>\n",
              "    <tr>\n",
              "      <th>1</th>\n",
              "      <td>0.882490</td>\n",
              "      <td>-0.075756</td>\n",
              "      <td>0.0</td>\n",
              "    </tr>\n",
              "    <tr>\n",
              "      <th>2</th>\n",
              "      <td>-0.055144</td>\n",
              "      <td>-0.037332</td>\n",
              "      <td>1.0</td>\n",
              "    </tr>\n",
              "    <tr>\n",
              "      <th>3</th>\n",
              "      <td>0.829545</td>\n",
              "      <td>-0.539321</td>\n",
              "      <td>1.0</td>\n",
              "    </tr>\n",
              "    <tr>\n",
              "      <th>4</th>\n",
              "      <td>2.112857</td>\n",
              "      <td>0.662084</td>\n",
              "      <td>1.0</td>\n",
              "    </tr>\n",
              "  </tbody>\n",
              "</table>\n",
              "</div>\n",
              "    <div class=\"colab-df-buttons\">\n",
              "\n",
              "  <div class=\"colab-df-container\">\n",
              "    <button class=\"colab-df-convert\" onclick=\"convertToInteractive('df-7c0b09ff-4b89-4683-b8a4-9c5a45a85b3e')\"\n",
              "            title=\"Convert this dataframe to an interactive table.\"\n",
              "            style=\"display:none;\">\n",
              "\n",
              "  <svg xmlns=\"http://www.w3.org/2000/svg\" height=\"24px\" viewBox=\"0 -960 960 960\">\n",
              "    <path d=\"M120-120v-720h720v720H120Zm60-500h600v-160H180v160Zm220 220h160v-160H400v160Zm0 220h160v-160H400v160ZM180-400h160v-160H180v160Zm440 0h160v-160H620v160ZM180-180h160v-160H180v160Zm440 0h160v-160H620v160Z\"/>\n",
              "  </svg>\n",
              "    </button>\n",
              "\n",
              "  <style>\n",
              "    .colab-df-container {\n",
              "      display:flex;\n",
              "      gap: 12px;\n",
              "    }\n",
              "\n",
              "    .colab-df-convert {\n",
              "      background-color: #E8F0FE;\n",
              "      border: none;\n",
              "      border-radius: 50%;\n",
              "      cursor: pointer;\n",
              "      display: none;\n",
              "      fill: #1967D2;\n",
              "      height: 32px;\n",
              "      padding: 0 0 0 0;\n",
              "      width: 32px;\n",
              "    }\n",
              "\n",
              "    .colab-df-convert:hover {\n",
              "      background-color: #E2EBFA;\n",
              "      box-shadow: 0px 1px 2px rgba(60, 64, 67, 0.3), 0px 1px 3px 1px rgba(60, 64, 67, 0.15);\n",
              "      fill: #174EA6;\n",
              "    }\n",
              "\n",
              "    .colab-df-buttons div {\n",
              "      margin-bottom: 4px;\n",
              "    }\n",
              "\n",
              "    [theme=dark] .colab-df-convert {\n",
              "      background-color: #3B4455;\n",
              "      fill: #D2E3FC;\n",
              "    }\n",
              "\n",
              "    [theme=dark] .colab-df-convert:hover {\n",
              "      background-color: #434B5C;\n",
              "      box-shadow: 0px 1px 3px 1px rgba(0, 0, 0, 0.15);\n",
              "      filter: drop-shadow(0px 1px 2px rgba(0, 0, 0, 0.3));\n",
              "      fill: #FFFFFF;\n",
              "    }\n",
              "  </style>\n",
              "\n",
              "    <script>\n",
              "      const buttonEl =\n",
              "        document.querySelector('#df-7c0b09ff-4b89-4683-b8a4-9c5a45a85b3e button.colab-df-convert');\n",
              "      buttonEl.style.display =\n",
              "        google.colab.kernel.accessAllowed ? 'block' : 'none';\n",
              "\n",
              "      async function convertToInteractive(key) {\n",
              "        const element = document.querySelector('#df-7c0b09ff-4b89-4683-b8a4-9c5a45a85b3e');\n",
              "        const dataTable =\n",
              "          await google.colab.kernel.invokeFunction('convertToInteractive',\n",
              "                                                    [key], {});\n",
              "        if (!dataTable) return;\n",
              "\n",
              "        const docLinkHtml = 'Like what you see? Visit the ' +\n",
              "          '<a target=\"_blank\" href=https://colab.research.google.com/notebooks/data_table.ipynb>data table notebook</a>'\n",
              "          + ' to learn more about interactive tables.';\n",
              "        element.innerHTML = '';\n",
              "        dataTable['output_type'] = 'display_data';\n",
              "        await google.colab.output.renderOutput(dataTable, element);\n",
              "        const docLink = document.createElement('div');\n",
              "        docLink.innerHTML = docLinkHtml;\n",
              "        element.appendChild(docLink);\n",
              "      }\n",
              "    </script>\n",
              "  </div>\n",
              "\n",
              "\n",
              "<div id=\"df-6e190515-d68b-4470-89bd-879f67e21ca3\">\n",
              "  <button class=\"colab-df-quickchart\" onclick=\"quickchart('df-6e190515-d68b-4470-89bd-879f67e21ca3')\"\n",
              "            title=\"Suggest charts\"\n",
              "            style=\"display:none;\">\n",
              "\n",
              "<svg xmlns=\"http://www.w3.org/2000/svg\" height=\"24px\"viewBox=\"0 0 24 24\"\n",
              "     width=\"24px\">\n",
              "    <g>\n",
              "        <path d=\"M19 3H5c-1.1 0-2 .9-2 2v14c0 1.1.9 2 2 2h14c1.1 0 2-.9 2-2V5c0-1.1-.9-2-2-2zM9 17H7v-7h2v7zm4 0h-2V7h2v10zm4 0h-2v-4h2v4z\"/>\n",
              "    </g>\n",
              "</svg>\n",
              "  </button>\n",
              "\n",
              "<style>\n",
              "  .colab-df-quickchart {\n",
              "      --bg-color: #E8F0FE;\n",
              "      --fill-color: #1967D2;\n",
              "      --hover-bg-color: #E2EBFA;\n",
              "      --hover-fill-color: #174EA6;\n",
              "      --disabled-fill-color: #AAA;\n",
              "      --disabled-bg-color: #DDD;\n",
              "  }\n",
              "\n",
              "  [theme=dark] .colab-df-quickchart {\n",
              "      --bg-color: #3B4455;\n",
              "      --fill-color: #D2E3FC;\n",
              "      --hover-bg-color: #434B5C;\n",
              "      --hover-fill-color: #FFFFFF;\n",
              "      --disabled-bg-color: #3B4455;\n",
              "      --disabled-fill-color: #666;\n",
              "  }\n",
              "\n",
              "  .colab-df-quickchart {\n",
              "    background-color: var(--bg-color);\n",
              "    border: none;\n",
              "    border-radius: 50%;\n",
              "    cursor: pointer;\n",
              "    display: none;\n",
              "    fill: var(--fill-color);\n",
              "    height: 32px;\n",
              "    padding: 0;\n",
              "    width: 32px;\n",
              "  }\n",
              "\n",
              "  .colab-df-quickchart:hover {\n",
              "    background-color: var(--hover-bg-color);\n",
              "    box-shadow: 0 1px 2px rgba(60, 64, 67, 0.3), 0 1px 3px 1px rgba(60, 64, 67, 0.15);\n",
              "    fill: var(--button-hover-fill-color);\n",
              "  }\n",
              "\n",
              "  .colab-df-quickchart-complete:disabled,\n",
              "  .colab-df-quickchart-complete:disabled:hover {\n",
              "    background-color: var(--disabled-bg-color);\n",
              "    fill: var(--disabled-fill-color);\n",
              "    box-shadow: none;\n",
              "  }\n",
              "\n",
              "  .colab-df-spinner {\n",
              "    border: 2px solid var(--fill-color);\n",
              "    border-color: transparent;\n",
              "    border-bottom-color: var(--fill-color);\n",
              "    animation:\n",
              "      spin 1s steps(1) infinite;\n",
              "  }\n",
              "\n",
              "  @keyframes spin {\n",
              "    0% {\n",
              "      border-color: transparent;\n",
              "      border-bottom-color: var(--fill-color);\n",
              "      border-left-color: var(--fill-color);\n",
              "    }\n",
              "    20% {\n",
              "      border-color: transparent;\n",
              "      border-left-color: var(--fill-color);\n",
              "      border-top-color: var(--fill-color);\n",
              "    }\n",
              "    30% {\n",
              "      border-color: transparent;\n",
              "      border-left-color: var(--fill-color);\n",
              "      border-top-color: var(--fill-color);\n",
              "      border-right-color: var(--fill-color);\n",
              "    }\n",
              "    40% {\n",
              "      border-color: transparent;\n",
              "      border-right-color: var(--fill-color);\n",
              "      border-top-color: var(--fill-color);\n",
              "    }\n",
              "    60% {\n",
              "      border-color: transparent;\n",
              "      border-right-color: var(--fill-color);\n",
              "    }\n",
              "    80% {\n",
              "      border-color: transparent;\n",
              "      border-right-color: var(--fill-color);\n",
              "      border-bottom-color: var(--fill-color);\n",
              "    }\n",
              "    90% {\n",
              "      border-color: transparent;\n",
              "      border-bottom-color: var(--fill-color);\n",
              "    }\n",
              "  }\n",
              "</style>\n",
              "\n",
              "  <script>\n",
              "    async function quickchart(key) {\n",
              "      const quickchartButtonEl =\n",
              "        document.querySelector('#' + key + ' button');\n",
              "      quickchartButtonEl.disabled = true;  // To prevent multiple clicks.\n",
              "      quickchartButtonEl.classList.add('colab-df-spinner');\n",
              "      try {\n",
              "        const charts = await google.colab.kernel.invokeFunction(\n",
              "            'suggestCharts', [key], {});\n",
              "      } catch (error) {\n",
              "        console.error('Error during call to suggestCharts:', error);\n",
              "      }\n",
              "      quickchartButtonEl.classList.remove('colab-df-spinner');\n",
              "      quickchartButtonEl.classList.add('colab-df-quickchart-complete');\n",
              "    }\n",
              "    (() => {\n",
              "      let quickchartButtonEl =\n",
              "        document.querySelector('#df-6e190515-d68b-4470-89bd-879f67e21ca3 button');\n",
              "      quickchartButtonEl.style.display =\n",
              "        google.colab.kernel.accessAllowed ? 'block' : 'none';\n",
              "    })();\n",
              "  </script>\n",
              "</div>\n",
              "\n",
              "    </div>\n",
              "  </div>\n"
            ],
            "application/vnd.google.colaboratory.intrinsic+json": {
              "type": "dataframe",
              "variable_name": "df",
              "summary": "{\n  \"name\": \"df\",\n  \"rows\": 99,\n  \"fields\": [\n    {\n      \"column\": \"3.159499363321345566e-02\",\n      \"properties\": {\n        \"dtype\": \"number\",\n        \"std\": 0.8943130566096504,\n        \"min\": -1.318500344394381,\n        \"max\": 2.181371683049025,\n        \"num_unique_values\": 99,\n        \"samples\": [\n          0.1273314190904385,\n          0.6417403675063451,\n          0.21862323352500593\n        ],\n        \"semantic_type\": \"\",\n        \"description\": \"\"\n      }\n    },\n    {\n      \"column\": \"9.869877579082642072e-01\",\n      \"properties\": {\n        \"dtype\": \"number\",\n        \"std\": 0.5909086142970597,\n        \"min\": -1.0357020680498332,\n        \"max\": 1.5718993127141032,\n        \"num_unique_values\": 99,\n        \"samples\": [\n          -0.3796548967118949,\n          -0.39369468370639576,\n          -0.6525211867631453\n        ],\n        \"semantic_type\": \"\",\n        \"description\": \"\"\n      }\n    },\n    {\n      \"column\": \"0.000000000000000000e+00\",\n      \"properties\": {\n        \"dtype\": \"number\",\n        \"std\": 0.502518907629606,\n        \"min\": 0.0,\n        \"max\": 1.0,\n        \"num_unique_values\": 2,\n        \"samples\": [\n          0.0,\n          1.0\n        ],\n        \"semantic_type\": \"\",\n        \"description\": \"\"\n      }\n    }\n  ]\n}"
            }
          },
          "metadata": {},
          "execution_count": 10
        }
      ]
    },
    {
      "cell_type": "code",
      "source": [
        "df['X']=df['3.159499363321345566e-02']\n",
        "df['Y']=df['9.869877579082642072e-01']\n",
        "df['class']=df['0.000000000000000000e+00']"
      ],
      "metadata": {
        "id": "ow1mOrY1JPgT"
      },
      "execution_count": null,
      "outputs": []
    },
    {
      "cell_type": "code",
      "source": [
        "plt.scatter(df['X'],df['Y'],c=df['class'])"
      ],
      "metadata": {
        "colab": {
          "base_uri": "https://localhost:8080/",
          "height": 447
        },
        "id": "ZuYqGD_mtuQG",
        "outputId": "d93d6421-f2d6-43b0-8bc8-ee33d3e3ca31"
      },
      "execution_count": null,
      "outputs": [
        {
          "output_type": "execute_result",
          "data": {
            "text/plain": [
              "<matplotlib.collections.PathCollection at 0x7834935d39d0>"
            ]
          },
          "metadata": {},
          "execution_count": 12
        },
        {
          "output_type": "display_data",
          "data": {
            "text/plain": [
              "<Figure size 640x480 with 1 Axes>"
            ],
            "image/png": "[encoded data removed]"
          },
          "metadata": {}
        }
      ]
    },
    {
      "cell_type": "code",
      "source": [
        "X = df.iloc[:,0:2].values\n",
        "y = df.iloc[:,-1].values"
      ],
      "metadata": {
        "id": "nwXuHnqhtwEJ"
      },
      "execution_count": null,
      "outputs": []
    },
    {
      "cell_type": "code",
      "source": [
        "import tensorflow\n",
        "from tensorflow import keras\n",
        "from keras import Sequential\n",
        "from keras.layers import Dense"
      ],
      "metadata": {
        "id": "ylDVIM8Ltx0H"
      },
      "execution_count": null,
      "outputs": []
    },
    {
      "cell_type": "markdown",
      "source": [
        "#Xavier/Glorat uses tanh/sigmoid not relu"
      ],
      "metadata": {
        "id": "I05VhWuSJBjD"
      }
    },
    {
      "cell_type": "code",
      "source": [
        "model = Sequential()\n",
        "\n",
        "model.add(Dense(10,activation='tanh',input_dim=2))\n",
        "model.add(Dense(10,activation='tanh'))\n",
        "model.add(Dense(10,activation='tanh'))\n",
        "model.add(Dense(10,activation='tanh'))\n",
        "model.add(Dense(1,activation='sigmoid'))\n",
        "\n",
        "model.summary()"
      ],
      "metadata": {
        "colab": {
          "base_uri": "https://localhost:8080/",
          "height": 361
        },
        "id": "id8rhK5OtzVX",
        "outputId": "f7c58536-301e-4c1c-e9ec-04bde1cda788"
      },
      "execution_count": null,
      "outputs": [
        {
          "output_type": "stream",
          "name": "stderr",
          "text": [
            "/usr/local/lib/python3.10/dist-packages/keras/src/layers/core/dense.py:87: UserWarning: Do not pass an `input_shape`/`input_dim` argument to a layer. When using Sequential models, prefer using an `Input(shape)` object as the first layer in the model instead.\n",
            "  super().__init__(activity_regularizer=activity_regularizer, **kwargs)\n"
          ]
        },
        {
          "output_type": "display_data",
          "data": {
            "text/plain": [
              "\u001b[1mModel: \"sequential\"\u001b[0m\n"
            ],
            "text/html": [
              "<pre style=\"white-space:pre;overflow-x:auto;line-height:normal;font-family:Menlo,'DejaVu Sans Mono',consolas,'Courier New',monospace\"><span style=\"font-weight: bold\">Model: \"sequential\"</span>\n",
              "</pre>\n"
            ]
          },
          "metadata": {}
        },
        {
          "output_type": "display_data",
          "data": {
            "text/plain": [
              "┏━━━━━━━━━━━━━━━━━━━━━━━━━━━━━━━━━━━━━━┳━━━━━━━━━━━━━━━━━━━━━━━━━━━━━┳━━━━━━━━━━━━━━━━━┓\n",
              "┃\u001b[1m \u001b[0m\u001b[1mLayer (type)                        \u001b[0m\u001b[1m \u001b[0m┃\u001b[1m \u001b[0m\u001b[1mOutput Shape               \u001b[0m\u001b[1m \u001b[0m┃\u001b[1m \u001b[0m\u001b[1m        Param #\u001b[0m\u001b[1m \u001b[0m┃\n",
              "┡━━━━━━━━━━━━━━━━━━━━━━━━━━━━━━━━━━━━━━╇━━━━━━━━━━━━━━━━━━━━━━━━━━━━━╇━━━━━━━━━━━━━━━━━┩\n",
              "│ dense (\u001b[38;5;33mDense\u001b[0m)                        │ (\u001b[38;5;45mNone\u001b[0m, \u001b[38;5;34m10\u001b[0m)                  │              \u001b[38;5;34m30\u001b[0m │\n",
              "├──────────────────────────────────────┼─────────────────────────────┼─────────────────┤\n",
              "│ dense_1 (\u001b[38;5;33mDense\u001b[0m)                      │ (\u001b[38;5;45mNone\u001b[0m, \u001b[38;5;34m10\u001b[0m)                  │             \u001b[38;5;34m110\u001b[0m │\n",
              "├──────────────────────────────────────┼─────────────────────────────┼─────────────────┤\n",
              "│ dense_2 (\u001b[38;5;33mDense\u001b[0m)                      │ (\u001b[38;5;45mNone\u001b[0m, \u001b[38;5;34m10\u001b[0m)                  │             \u001b[38;5;34m110\u001b[0m │\n",
              "├──────────────────────────────────────┼─────────────────────────────┼─────────────────┤\n",
              "│ dense_3 (\u001b[38;5;33mDense\u001b[0m)                      │ (\u001b[38;5;45mNone\u001b[0m, \u001b[38;5;34m10\u001b[0m)                  │             \u001b[38;5;34m110\u001b[0m │\n",
              "├──────────────────────────────────────┼─────────────────────────────┼─────────────────┤\n",
              "│ dense_4 (\u001b[38;5;33mDense\u001b[0m)                      │ (\u001b[38;5;45mNone\u001b[0m, \u001b[38;5;34m1\u001b[0m)                   │              \u001b[38;5;34m11\u001b[0m │\n",
              "└──────────────────────────────────────┴─────────────────────────────┴─────────────────┘\n"
            ],
            "text/html": [
              "<pre style=\"white-space:pre;overflow-x:auto;line-height:normal;font-family:Menlo,'DejaVu Sans Mono',consolas,'Courier New',monospace\">┏━━━━━━━━━━━━━━━━━━━━━━━━━━━━━━━━━━━━━━┳━━━━━━━━━━━━━━━━━━━━━━━━━━━━━┳━━━━━━━━━━━━━━━━━┓\n",
              "┃<span style=\"font-weight: bold\"> Layer (type)                         </span>┃<span style=\"font-weight: bold\"> Output Shape                </span>┃<span style=\"font-weight: bold\">         Param # </span>┃\n",
              "┡━━━━━━━━━━━━━━━━━━━━━━━━━━━━━━━━━━━━━━╇━━━━━━━━━━━━━━━━━━━━━━━━━━━━━╇━━━━━━━━━━━━━━━━━┩\n",
              "│ dense (<span style=\"color: #0087ff; text-decoration-color: #0087ff\">Dense</span>)                        │ (<span style=\"color: #00d7ff; text-decoration-color: #00d7ff\">None</span>, <span style=\"color: #00af00; text-decoration-color: #00af00\">10</span>)                  │              <span style=\"color: #00af00; text-decoration-color: #00af00\">30</span> │\n",
              "├──────────────────────────────────────┼─────────────────────────────┼─────────────────┤\n",
              "│ dense_1 (<span style=\"color: #0087ff; text-decoration-color: #0087ff\">Dense</span>)                      │ (<span style=\"color: #00d7ff; text-decoration-color: #00d7ff\">None</span>, <span style=\"color: #00af00; text-decoration-color: #00af00\">10</span>)                  │             <span style=\"color: #00af00; text-decoration-color: #00af00\">110</span> │\n",
              "├──────────────────────────────────────┼─────────────────────────────┼─────────────────┤\n",
              "│ dense_2 (<span style=\"color: #0087ff; text-decoration-color: #0087ff\">Dense</span>)                      │ (<span style=\"color: #00d7ff; text-decoration-color: #00d7ff\">None</span>, <span style=\"color: #00af00; text-decoration-color: #00af00\">10</span>)                  │             <span style=\"color: #00af00; text-decoration-color: #00af00\">110</span> │\n",
              "├──────────────────────────────────────┼─────────────────────────────┼─────────────────┤\n",
              "│ dense_3 (<span style=\"color: #0087ff; text-decoration-color: #0087ff\">Dense</span>)                      │ (<span style=\"color: #00d7ff; text-decoration-color: #00d7ff\">None</span>, <span style=\"color: #00af00; text-decoration-color: #00af00\">10</span>)                  │             <span style=\"color: #00af00; text-decoration-color: #00af00\">110</span> │\n",
              "├──────────────────────────────────────┼─────────────────────────────┼─────────────────┤\n",
              "│ dense_4 (<span style=\"color: #0087ff; text-decoration-color: #0087ff\">Dense</span>)                      │ (<span style=\"color: #00d7ff; text-decoration-color: #00d7ff\">None</span>, <span style=\"color: #00af00; text-decoration-color: #00af00\">1</span>)                   │              <span style=\"color: #00af00; text-decoration-color: #00af00\">11</span> │\n",
              "└──────────────────────────────────────┴─────────────────────────────┴─────────────────┘\n",
              "</pre>\n"
            ]
          },
          "metadata": {}
        },
        {
          "output_type": "display_data",
          "data": {
            "text/plain": [
              "\u001b[1m Total params: \u001b[0m\u001b[38;5;34m371\u001b[0m (1.45 KB)\n"
            ],
            "text/html": [
              "<pre style=\"white-space:pre;overflow-x:auto;line-height:normal;font-family:Menlo,'DejaVu Sans Mono',consolas,'Courier New',monospace\"><span style=\"font-weight: bold\"> Total params: </span><span style=\"color: #00af00; text-decoration-color: #00af00\">371</span> (1.45 KB)\n",
              "</pre>\n"
            ]
          },
          "metadata": {}
        },
        {
          "output_type": "display_data",
          "data": {
            "text/plain": [
              "\u001b[1m Trainable params: \u001b[0m\u001b[38;5;34m371\u001b[0m (1.45 KB)\n"
            ],
            "text/html": [
              "<pre style=\"white-space:pre;overflow-x:auto;line-height:normal;font-family:Menlo,'DejaVu Sans Mono',consolas,'Courier New',monospace\"><span style=\"font-weight: bold\"> Trainable params: </span><span style=\"color: #00af00; text-decoration-color: #00af00\">371</span> (1.45 KB)\n",
              "</pre>\n"
            ]
          },
          "metadata": {}
        },
        {
          "output_type": "display_data",
          "data": {
            "text/plain": [
              "\u001b[1m Non-trainable params: \u001b[0m\u001b[38;5;34m0\u001b[0m (0.00 B)\n"
            ],
            "text/html": [
              "<pre style=\"white-space:pre;overflow-x:auto;line-height:normal;font-family:Menlo,'DejaVu Sans Mono',consolas,'Courier New',monospace\"><span style=\"font-weight: bold\"> Non-trainable params: </span><span style=\"color: #00af00; text-decoration-color: #00af00\">0</span> (0.00 B)\n",
              "</pre>\n"
            ]
          },
          "metadata": {}
        }
      ]
    },
    {
      "cell_type": "code",
      "source": [
        "model.get_weights()"
      ],
      "metadata": {
        "colab": {
          "base_uri": "https://localhost:8080/"
        },
        "id": "YjST2L1qt1UP",
        "outputId": "ed4079fa-fa83-4478-fc18-e1a063c66e37"
      },
      "execution_count": null,
      "outputs": [
        {
          "output_type": "execute_result",
          "data": {
            "text/plain": [
              "[array([[ 0.56909317,  0.6237256 , -0.24302766, -0.32761165, -0.6261848 ,\n",
              "         -0.68905395,  0.2633915 ,  0.6155618 ,  0.48412603, -0.6081202 ],\n",
              "        [ 0.13414568, -0.40178454, -0.28954446, -0.04558098,  0.57200223,\n",
              "         -0.10173792, -0.45479906, -0.44869164,  0.51244766,  0.2851057 ]],\n",
              "       dtype=float32),\n",
              " array([0., 0., 0., 0., 0., 0., 0., 0., 0., 0.], dtype=float32),\n",
              " array([[ 4.14943814e-01, -8.67705047e-02,  1.59637272e-01,\n",
              "         -4.73626733e-01, -2.65197754e-01,  1.76167011e-01,\n",
              "         -4.46703821e-01, -7.77674317e-02,  2.29201376e-01,\n",
              "          1.75136924e-01],\n",
              "        [ 1.02816403e-01,  1.53722703e-01,  6.79467320e-02,\n",
              "          1.89505041e-01, -5.28673172e-01, -2.53897518e-01,\n",
              "         -3.64486217e-01,  3.95193279e-01,  2.23656237e-01,\n",
              "         -3.74425352e-01],\n",
              "        [ 5.86500168e-02,  3.49170268e-01,  4.19073880e-01,\n",
              "          1.27718508e-01,  9.94812250e-02,  3.66375685e-01,\n",
              "         -3.55920345e-01,  3.33684087e-01, -3.60146761e-02,\n",
              "         -2.85533577e-01],\n",
              "        [-3.38372558e-01, -3.91479135e-01,  2.38838971e-01,\n",
              "         -3.46750915e-01, -9.90043283e-02,  4.53799725e-01,\n",
              "         -2.65492797e-02,  4.51314449e-01, -3.12299639e-01,\n",
              "         -1.08086675e-01],\n",
              "        [ 3.51965487e-01,  2.16960907e-05,  4.55802321e-01,\n",
              "          4.50371861e-01, -4.43449706e-01, -2.45426834e-01,\n",
              "          1.13549113e-01, -3.92313838e-01, -9.99653041e-02,\n",
              "         -4.26170021e-01],\n",
              "        [ 1.09716237e-01, -1.35337472e-01, -3.99105817e-01,\n",
              "         -2.29036689e-01,  1.84833407e-02,  4.60935354e-01,\n",
              "         -5.53174019e-02, -4.69182432e-01, -6.76496625e-02,\n",
              "         -4.53119040e-01],\n",
              "        [ 2.39659727e-01, -3.19330066e-01, -3.85762036e-01,\n",
              "         -3.94935250e-01, -2.57029891e-01, -8.45141113e-02,\n",
              "          3.71288240e-01, -1.24127597e-01, -4.50813144e-01,\n",
              "          1.41739249e-01],\n",
              "        [ 3.26375484e-01,  4.72780466e-01, -4.50774610e-01,\n",
              "          2.74728417e-01, -4.00498152e-01, -1.52920008e-01,\n",
              "         -9.36535001e-02, -4.11592036e-01,  4.42882419e-01,\n",
              "         -2.03807235e-01],\n",
              "        [ 1.09330118e-01, -3.81589621e-01,  2.78340459e-01,\n",
              "          3.84618700e-01,  4.67135072e-01, -8.51692557e-02,\n",
              "         -1.25794023e-01, -5.20723283e-01, -9.05311108e-03,\n",
              "         -2.45258212e-02],\n",
              "        [-3.92049551e-03,  1.32505953e-01,  1.01278603e-01,\n",
              "          3.86218429e-01,  4.69459057e-01, -8.61196816e-02,\n",
              "         -8.87233317e-02,  2.99996614e-01, -1.08065009e-02,\n",
              "         -5.45853376e-02]], dtype=float32),\n",
              " array([0., 0., 0., 0., 0., 0., 0., 0., 0., 0.], dtype=float32),\n",
              " array([[-0.16729426,  0.44524348, -0.0843395 ,  0.20986426, -0.19803932,\n",
              "         -0.20583212,  0.43337488,  0.11073416, -0.27873573, -0.01194847],\n",
              "        [ 0.08372575, -0.2958894 , -0.06473288,  0.53508925,  0.45268154,\n",
              "         -0.38359177,  0.3935197 ,  0.4731301 ,  0.27016228,  0.40788835],\n",
              "        [ 0.0851925 , -0.43976152,  0.49694514, -0.3341577 , -0.51347893,\n",
              "          0.34901816, -0.37869868,  0.04046899, -0.34440166, -0.44896573],\n",
              "        [-0.5304738 ,  0.326863  ,  0.1707061 , -0.16971457,  0.40115553,\n",
              "         -0.19674692, -0.40361357,  0.43649244, -0.09200379,  0.50283897],\n",
              "        [ 0.34911007, -0.38600478,  0.26915842,  0.0562126 , -0.31266803,\n",
              "          0.13379705, -0.34238824,  0.5436536 ,  0.37119174,  0.14695662],\n",
              "        [-0.45898136, -0.05348343, -0.02391195,  0.35444552,  0.51969576,\n",
              "         -0.5367133 , -0.23025927, -0.0258137 ,  0.20028925,  0.13355511],\n",
              "        [ 0.02448148,  0.48418546, -0.17018533,  0.29226506, -0.21112615,\n",
              "         -0.25223538,  0.43806458,  0.25436854,  0.46691144,  0.12575918],\n",
              "        [ 0.35522485, -0.54138285,  0.3292684 ,  0.13065344, -0.04502738,\n",
              "         -0.29430002, -0.04684466,  0.42254567,  0.52224815,  0.4666475 ],\n",
              "        [ 0.31978333, -0.07396865,  0.33475804, -0.4334901 ,  0.45087832,\n",
              "          0.00586587,  0.07233906, -0.11767542, -0.3672582 , -0.2680913 ],\n",
              "        [-0.08495393,  0.30196983,  0.21951741, -0.28066227,  0.51939523,\n",
              "         -0.06659323,  0.51702845,  0.4937377 ,  0.44669455, -0.02385396]],\n",
              "       dtype=float32),\n",
              " array([0., 0., 0., 0., 0., 0., 0., 0., 0., 0.], dtype=float32),\n",
              " array([[ 0.4719727 ,  0.53107965, -0.12264571, -0.42013088, -0.47231537,\n",
              "          0.46311307, -0.3260945 , -0.27222255,  0.24795854, -0.02487701],\n",
              "        [-0.18117112, -0.30361283,  0.02617449,  0.39863777,  0.26612788,\n",
              "         -0.51625943, -0.04086739,  0.22589606,  0.46120954, -0.18925565],\n",
              "        [-0.40585274,  0.22586745, -0.1267502 , -0.02858961,  0.5000372 ,\n",
              "         -0.36063534,  0.0395537 ,  0.03551084,  0.22235614, -0.09771308],\n",
              "        [ 0.24784464, -0.16230479, -0.19137391,  0.05879962,  0.05946106,\n",
              "          0.10206008,  0.53415644,  0.43536347, -0.35810193,  0.37314808],\n",
              "        [-0.4585563 , -0.09501359, -0.45408136,  0.2952183 , -0.3657751 ,\n",
              "         -0.2592987 , -0.08552733,  0.1407054 , -0.23278952,  0.49993527],\n",
              "        [-0.3239261 ,  0.40367466, -0.31260353,  0.3112344 ,  0.14746004,\n",
              "          0.42615485, -0.3316751 , -0.07186869,  0.11232042,  0.545089  ],\n",
              "        [-0.4032333 , -0.5087146 ,  0.07614958,  0.24043411,  0.35294193,\n",
              "         -0.49933895,  0.38966292,  0.32239795,  0.18727374, -0.2531328 ],\n",
              "        [ 0.2255311 , -0.13507253, -0.2527055 ,  0.49564636, -0.51394033,\n",
              "          0.32732224,  0.33032107, -0.10286865, -0.54315114, -0.07500526],\n",
              "        [ 0.33783692,  0.42263842,  0.36081463,  0.27112913,  0.4017002 ,\n",
              "          0.48563123,  0.47679043, -0.11214256,  0.07921958,  0.23708922],\n",
              "        [-0.33367455,  0.3081966 , -0.51195776,  0.4659599 , -0.4291823 ,\n",
              "          0.35427666, -0.5043368 , -0.20701224,  0.48219335,  0.18312472]],\n",
              "       dtype=float32),\n",
              " array([0., 0., 0., 0., 0., 0., 0., 0., 0., 0.], dtype=float32),\n",
              " array([[ 0.5760297 ],\n",
              "        [-0.26227787],\n",
              "        [-0.16846341],\n",
              "        [-0.19385082],\n",
              "        [-0.67557925],\n",
              "        [-0.3774953 ],\n",
              "        [-0.7122098 ],\n",
              "        [-0.15121919],\n",
              "        [ 0.03420919],\n",
              "        [ 0.11260664]], dtype=float32),\n",
              " array([0.], dtype=float32)]"
            ]
          },
          "metadata": {},
          "execution_count": 16
        }
      ]
    },
    {
      "cell_type": "code",
      "source": [
        "initial_weights = model.get_weights()"
      ],
      "metadata": {
        "id": "SNnRle4Dt4bc"
      },
      "execution_count": null,
      "outputs": []
    },
    {
      "cell_type": "markdown",
      "source": [
        "#Xavier/Glorat weight initilization implementation technique.\n"
      ],
      "metadata": {
        "id": "XySBnU47IufK"
      }
    },
    {
      "cell_type": "code",
      "source": [
        "initial_weights[0] = np.random.randn(2,10)*np.sqrt(1/2)\n",
        "initial_weights[1] = np.zeros(model.get_weights()[1].shape)\n",
        "initial_weights[2] = np.random.randn(10,10)*np.sqrt(1/10)\n",
        "initial_weights[3] = np.zeros(model.get_weights()[3].shape)\n",
        "initial_weights[4] = np.random.randn(10,10)*np.sqrt(1/10)\n",
        "initial_weights[5] = np.zeros(model.get_weights()[5].shape)\n",
        "initial_weights[6] = np.random.randn(10,10)*np.sqrt(1/10)\n",
        "initial_weights[7] = np.zeros(model.get_weights()[7].shape)\n",
        "initial_weights[8] = np.random.randn(10,1)*np.sqrt(1/10)\n",
        "initial_weights[9] = np.zeros(model.get_weights()[9].shape)"
      ],
      "metadata": {
        "id": "T6mklkSot6GI"
      },
      "execution_count": null,
      "outputs": []
    },
    {
      "cell_type": "code",
      "source": [
        "model.set_weights(initial_weights)"
      ],
      "metadata": {
        "id": "cnoX9yK8ueEM"
      },
      "execution_count": null,
      "outputs": []
    },
    {
      "cell_type": "code",
      "source": [
        "model.get_weights()"
      ],
      "metadata": {
        "colab": {
          "base_uri": "https://localhost:8080/"
        },
        "id": "1guey_KUujTP",
        "outputId": "4b940ced-dcb0-4e92-fe65-47f099e97723"
      },
      "execution_count": null,
      "outputs": [
        {
          "output_type": "execute_result",
          "data": {
            "text/plain": [
              "[array([[-0.5489839 , -0.48228422,  0.06497708, -1.1764058 , -0.9323316 ,\n",
              "         -0.64006037, -1.4498831 , -0.11180546, -0.83230495,  0.45149052],\n",
              "        [-0.215587  , -0.4286999 , -0.06102637,  0.46118563,  0.28055662,\n",
              "          1.0395206 , -0.07937493,  1.9321434 , -0.5339413 ,  0.13305315]],\n",
              "       dtype=float32),\n",
              " array([0., 0., 0., 0., 0., 0., 0., 0., 0., 0.], dtype=float32),\n",
              " array([[ 2.84982413e-01,  9.79761705e-02, -7.97669947e-01,\n",
              "         -2.71537036e-01, -1.00144401e-01, -2.34410405e-01,\n",
              "         -5.00122488e-01, -1.70233086e-01, -1.63923353e-01,\n",
              "          9.79738683e-02],\n",
              "        [-3.95315140e-01, -4.46401387e-02,  5.00432514e-02,\n",
              "          4.82403547e-01,  5.49075603e-01,  2.41850793e-01,\n",
              "         -9.66077596e-02, -2.55026162e-01, -1.51534677e-01,\n",
              "          6.15472436e-01],\n",
              "        [ 1.06935300e-01, -2.29743600e-01,  7.05489516e-01,\n",
              "          3.09068263e-01, -4.15497690e-01, -2.17424378e-01,\n",
              "         -2.05914780e-01,  4.19816941e-01,  2.03123957e-01,\n",
              "         -4.42230314e-01],\n",
              "        [ 1.57229036e-01,  1.85948491e-01,  3.63819927e-01,\n",
              "         -6.90911636e-02,  4.78995517e-02,  7.64710456e-02,\n",
              "         -9.04296115e-02, -6.55301884e-02,  4.25034285e-01,\n",
              "          1.33870125e-01],\n",
              "        [ 2.18640357e-01,  3.26276362e-01, -9.23906937e-02,\n",
              "         -3.66360515e-01, -7.00955749e-01, -7.99317062e-02,\n",
              "         -4.81659919e-01, -2.71079898e-01, -1.96058258e-01,\n",
              "          2.86421346e-05],\n",
              "        [-2.73885846e-01,  7.99466297e-02,  9.60444659e-02,\n",
              "         -1.00817226e-01,  4.41786945e-01, -7.28838325e-01,\n",
              "         -2.21745864e-01, -5.18236041e-01,  9.11662057e-02,\n",
              "         -6.85589984e-02],\n",
              "        [-2.18126133e-01,  7.80004859e-02, -1.33546770e-01,\n",
              "         -6.13263473e-02,  3.54957908e-01, -1.79020360e-01,\n",
              "         -1.02349870e-01,  3.55976462e-01, -3.26303422e-01,\n",
              "         -1.52930766e-01],\n",
              "        [-6.35809749e-02,  3.60671639e-01, -3.76324579e-02,\n",
              "          6.88869283e-02,  1.96446538e-01,  5.47474697e-02,\n",
              "          4.49070185e-02,  6.40689135e-02,  6.32311478e-02,\n",
              "          3.07191852e-02],\n",
              "        [-8.24999362e-02, -6.64301515e-02, -7.70522580e-02,\n",
              "          2.33296946e-01,  1.56547531e-01, -5.06405473e-01,\n",
              "          5.19628286e-01,  2.30723947e-01, -4.30589467e-01,\n",
              "          8.77953097e-02],\n",
              "        [-7.53124714e-01,  2.04656854e-01, -5.76070368e-01,\n",
              "          1.73283920e-01,  4.12993520e-01, -2.82231182e-01,\n",
              "          4.08291817e-01,  6.40966773e-01, -4.55864161e-01,\n",
              "          3.75050247e-01]], dtype=float32),\n",
              " array([0., 0., 0., 0., 0., 0., 0., 0., 0., 0.], dtype=float32),\n",
              " array([[ 0.26818562,  0.7231966 ,  0.7472981 ,  0.09213649,  0.31049883,\n",
              "         -0.713709  ,  0.24113703, -0.30675107,  0.8065522 ,  0.0038426 ],\n",
              "        [ 0.3321335 , -0.0248898 ,  0.27801558, -0.08376903,  0.01903284,\n",
              "         -0.77449155, -0.49330324, -0.23933488, -0.218157  ,  0.00685119],\n",
              "        [ 0.16686898, -0.25415272, -0.51365095, -0.6429317 ,  0.28930536,\n",
              "         -0.13345079,  0.26139757,  0.0744841 ,  0.22130767,  0.34854844],\n",
              "        [-0.29773164, -0.10011919,  0.11657479,  0.02718961, -0.52865034,\n",
              "         -0.03021693,  0.2690308 , -0.25102967, -0.21306622,  0.07157605],\n",
              "        [ 0.2448851 ,  0.10214568,  0.41204518,  0.09930059, -0.19440216,\n",
              "         -0.39678657,  0.03678131, -0.31907165,  0.07226827, -0.16014715],\n",
              "        [ 0.02414988, -0.51984435, -0.04856536, -0.15239747, -0.08323667,\n",
              "          0.0482225 , -0.69297177, -0.33247674, -0.08070908, -0.18833885],\n",
              "        [-0.46493423,  0.617181  , -0.00401467, -0.9695239 ,  0.08023077,\n",
              "          0.14274761,  0.3372064 , -0.23290148,  0.01678477, -0.3276501 ],\n",
              "        [-0.4447872 , -0.08552472, -0.11568347, -1.0443282 ,  0.13870397,\n",
              "          0.38317588,  0.44551855,  0.27503225, -0.01039113,  0.02323937],\n",
              "        [ 0.01355036, -0.20440714, -0.11831788, -0.45396236, -0.24771844,\n",
              "         -0.3817329 ,  0.8295438 ,  0.02351885, -0.18058272,  0.04503174],\n",
              "        [ 0.1458161 ,  0.16151267,  0.6495312 ,  0.07686734, -0.03516272,\n",
              "          0.1087934 , -0.16144857, -0.0469225 , -0.2919601 , -0.12404469]],\n",
              "       dtype=float32),\n",
              " array([0., 0., 0., 0., 0., 0., 0., 0., 0., 0.], dtype=float32),\n",
              " array([[-0.38764986,  0.31173873, -0.3847847 , -0.39901862,  0.02785731,\n",
              "          0.49036914,  0.4032677 ,  0.29408973,  0.40809464,  0.17888297],\n",
              "        [ 0.02068471,  0.12563865, -0.22164662, -0.27337125,  0.29445073,\n",
              "          0.2704973 ,  0.78363127,  0.17430018,  0.15215039,  0.2044284 ],\n",
              "        [ 0.43518403, -0.10501184, -0.28171334, -0.13279039,  0.11818609,\n",
              "         -0.40284958, -0.28159922, -0.762625  ,  0.05672381, -0.39580303],\n",
              "        [ 0.06532649, -0.00205759, -0.21808685,  0.14118554,  0.7070169 ,\n",
              "         -0.25145072,  0.05818055,  0.74757373, -0.07370857,  0.293103  ],\n",
              "        [ 0.15635772,  0.19955142,  0.34332928, -0.40792826,  0.41455   ,\n",
              "         -0.24382451, -0.19549339,  0.02737506, -0.12114617,  0.22021766],\n",
              "        [ 0.23718056,  0.3944048 ,  0.26905107, -0.1636403 , -0.1007615 ,\n",
              "          0.00709044, -0.43238777,  0.04107815,  0.14589787, -0.44094604],\n",
              "        [-0.05427269, -0.2348766 ,  0.22417009, -0.16212791, -0.23083949,\n",
              "         -0.22430591,  0.436897  ,  0.37983048, -0.11303277, -0.23094623],\n",
              "        [ 0.14272168,  0.18646194, -0.10972442,  0.12374701, -0.721992  ,\n",
              "         -0.14261647, -0.3352663 , -0.1389111 , -0.21322809,  0.2973329 ],\n",
              "        [ 0.22811146, -0.9321983 , -0.26036948, -0.02421861,  0.23280163,\n",
              "         -0.46318853, -0.01911192, -0.02845209, -0.22285174, -0.31952348],\n",
              "        [-0.35472143, -0.09712952, -0.03309426,  0.19891071,  0.29406512,\n",
              "         -0.08154283,  0.6455235 , -0.69380873,  0.10881162,  0.28979123]],\n",
              "       dtype=float32),\n",
              " array([0., 0., 0., 0., 0., 0., 0., 0., 0., 0.], dtype=float32),\n",
              " array([[-0.19053887],\n",
              "        [-0.04340913],\n",
              "        [ 0.05897562],\n",
              "        [ 0.072644  ],\n",
              "        [-0.14435054],\n",
              "        [-0.0864154 ],\n",
              "        [-0.33818895],\n",
              "        [-0.7239227 ],\n",
              "        [ 0.24206907],\n",
              "        [-0.1376199 ]], dtype=float32),\n",
              " array([0.], dtype=float32)]"
            ]
          },
          "metadata": {},
          "execution_count": 20
        }
      ]
    },
    {
      "cell_type": "code",
      "source": [
        "model.compile(loss='binary_crossentropy',optimizer='adam',metrics=['accuracy'])"
      ],
      "metadata": {
        "id": "bjAyhD8mulGG"
      },
      "execution_count": null,
      "outputs": []
    },
    {
      "cell_type": "code",
      "source": [
        "history = model.fit(X,y,epochs=100,validation_split=0.2)"
      ],
      "metadata": {
        "colab": {
          "base_uri": "https://localhost:8080/"
        },
        "id": "H1wa0jCaun8z",
        "outputId": "6106f83f-308c-4c7c-e2e3-9e3840f63bec"
      },
      "execution_count": null,
      "outputs": [
        {
          "output_type": "stream",
          "name": "stdout",
          "text": [
            "Epoch 1/100\n",
            "\u001b[1m3/3\u001b[0m \u001b[32m━━━━━━━━━━━━━━━━━━━━\u001b[0m\u001b[37m\u001b[0m \u001b[1m2s\u001b[0m 128ms/step - accuracy: 0.7060 - loss: 0.6089 - val_accuracy: 0.8500 - val_loss: 0.5460\n",
            "Epoch 2/100\n",
            "\u001b[1m3/3\u001b[0m \u001b[32m━━━━━━━━━━━━━━━━━━━━\u001b[0m\u001b[37m\u001b[0m \u001b[1m0s\u001b[0m 19ms/step - accuracy: 0.7084 - loss: 0.6039 - val_accuracy: 0.8500 - val_loss: 0.5327\n",
            "Epoch 3/100\n",
            "\u001b[1m3/3\u001b[0m \u001b[32m━━━━━━━━━━━━━━━━━━━━\u001b[0m\u001b[37m\u001b[0m \u001b[1m0s\u001b[0m 20ms/step - accuracy: 0.7201 - loss: 0.5862 - val_accuracy: 0.8500 - val_loss: 0.5196\n",
            "Epoch 4/100\n",
            "\u001b[1m3/3\u001b[0m \u001b[32m━━━━━━━━━━━━━━━━━━━━\u001b[0m\u001b[37m\u001b[0m \u001b[1m0s\u001b[0m 29ms/step - accuracy: 0.7084 - loss: 0.5832 - val_accuracy: 0.8500 - val_loss: 0.5072\n",
            "Epoch 5/100\n",
            "\u001b[1m3/3\u001b[0m \u001b[32m━━━━━━━━━━━━━━━━━━━━\u001b[0m\u001b[37m\u001b[0m \u001b[1m0s\u001b[0m 22ms/step - accuracy: 0.7006 - loss: 0.5758 - val_accuracy: 0.8500 - val_loss: 0.4951\n",
            "Epoch 6/100\n",
            "\u001b[1m3/3\u001b[0m \u001b[32m━━━━━━━━━━━━━━━━━━━━\u001b[0m\u001b[37m\u001b[0m \u001b[1m0s\u001b[0m 24ms/step - accuracy: 0.7601 - loss: 0.5526 - val_accuracy: 0.8500 - val_loss: 0.4834\n",
            "Epoch 7/100\n",
            "\u001b[1m3/3\u001b[0m \u001b[32m━━━━━━━━━━━━━━━━━━━━\u001b[0m\u001b[37m\u001b[0m \u001b[1m0s\u001b[0m 21ms/step - accuracy: 0.7406 - loss: 0.5589 - val_accuracy: 0.8500 - val_loss: 0.4728\n",
            "Epoch 8/100\n",
            "\u001b[1m3/3\u001b[0m \u001b[32m━━━━━━━━━━━━━━━━━━━━\u001b[0m\u001b[37m\u001b[0m \u001b[1m0s\u001b[0m 21ms/step - accuracy: 0.7821 - loss: 0.5266 - val_accuracy: 0.8500 - val_loss: 0.4630\n",
            "Epoch 9/100\n",
            "\u001b[1m3/3\u001b[0m \u001b[32m━━━━━━━━━━━━━━━━━━━━\u001b[0m\u001b[37m\u001b[0m \u001b[1m0s\u001b[0m 20ms/step - accuracy: 0.7860 - loss: 0.5140 - val_accuracy: 0.8500 - val_loss: 0.4540\n",
            "Epoch 10/100\n",
            "\u001b[1m3/3\u001b[0m \u001b[32m━━━━━━━━━━━━━━━━━━━━\u001b[0m\u001b[37m\u001b[0m \u001b[1m0s\u001b[0m 23ms/step - accuracy: 0.7572 - loss: 0.5377 - val_accuracy: 0.8500 - val_loss: 0.4458\n",
            "Epoch 11/100\n",
            "\u001b[1m3/3\u001b[0m \u001b[32m━━━━━━━━━━━━━━━━━━━━\u001b[0m\u001b[37m\u001b[0m \u001b[1m0s\u001b[0m 26ms/step - accuracy: 0.7650 - loss: 0.5043 - val_accuracy: 0.8500 - val_loss: 0.4371\n",
            "Epoch 12/100\n",
            "\u001b[1m3/3\u001b[0m \u001b[32m━━━━━━━━━━━━━━━━━━━━\u001b[0m\u001b[37m\u001b[0m \u001b[1m0s\u001b[0m 32ms/step - accuracy: 0.8065 - loss: 0.4919 - val_accuracy: 0.8500 - val_loss: 0.4286\n",
            "Epoch 13/100\n",
            "\u001b[1m3/3\u001b[0m \u001b[32m━━━━━━━━━━━━━━━━━━━━\u001b[0m\u001b[37m\u001b[0m \u001b[1m0s\u001b[0m 26ms/step - accuracy: 0.7894 - loss: 0.5043 - val_accuracy: 0.8500 - val_loss: 0.4206\n",
            "Epoch 14/100\n",
            "\u001b[1m3/3\u001b[0m \u001b[32m━━━━━━━━━━━━━━━━━━━━\u001b[0m\u001b[37m\u001b[0m \u001b[1m0s\u001b[0m 30ms/step - accuracy: 0.8035 - loss: 0.4828 - val_accuracy: 0.8500 - val_loss: 0.4128\n",
            "Epoch 15/100\n",
            "\u001b[1m3/3\u001b[0m \u001b[32m━━━━━━━━━━━━━━━━━━━━\u001b[0m\u001b[37m\u001b[0m \u001b[1m0s\u001b[0m 32ms/step - accuracy: 0.8215 - loss: 0.4815 - val_accuracy: 0.8500 - val_loss: 0.4052\n",
            "Epoch 16/100\n",
            "\u001b[1m3/3\u001b[0m \u001b[32m━━━━━━━━━━━━━━━━━━━━\u001b[0m\u001b[37m\u001b[0m \u001b[1m0s\u001b[0m 21ms/step - accuracy: 0.8294 - loss: 0.4672 - val_accuracy: 0.8500 - val_loss: 0.3977\n",
            "Epoch 17/100\n",
            "\u001b[1m3/3\u001b[0m \u001b[32m━━━━━━━━━━━━━━━━━━━━\u001b[0m\u001b[37m\u001b[0m \u001b[1m0s\u001b[0m 37ms/step - accuracy: 0.8333 - loss: 0.4549 - val_accuracy: 0.8500 - val_loss: 0.3905\n",
            "Epoch 18/100\n",
            "\u001b[1m3/3\u001b[0m \u001b[32m━━━━━━━━━━━━━━━━━━━━\u001b[0m\u001b[37m\u001b[0m \u001b[1m0s\u001b[0m 25ms/step - accuracy: 0.8059 - loss: 0.4788 - val_accuracy: 0.9500 - val_loss: 0.3836\n",
            "Epoch 19/100\n",
            "\u001b[1m3/3\u001b[0m \u001b[32m━━━━━━━━━━━━━━━━━━━━\u001b[0m\u001b[37m\u001b[0m \u001b[1m0s\u001b[0m 23ms/step - accuracy: 0.8372 - loss: 0.4437 - val_accuracy: 0.9500 - val_loss: 0.3766\n",
            "Epoch 20/100\n",
            "\u001b[1m3/3\u001b[0m \u001b[32m━━━━━━━━━━━━━━━━━━━━\u001b[0m\u001b[37m\u001b[0m \u001b[1m0s\u001b[0m 20ms/step - accuracy: 0.8059 - loss: 0.4662 - val_accuracy: 0.9500 - val_loss: 0.3697\n",
            "Epoch 21/100\n",
            "\u001b[1m3/3\u001b[0m \u001b[32m━━━━━━━━━━━━━━━━━━━━\u001b[0m\u001b[37m\u001b[0m \u001b[1m0s\u001b[0m 16ms/step - accuracy: 0.8083 - loss: 0.4599 - val_accuracy: 0.9500 - val_loss: 0.3631\n",
            "Epoch 22/100\n",
            "\u001b[1m3/3\u001b[0m \u001b[32m━━━━━━━━━━━━━━━━━━━━\u001b[0m\u001b[37m\u001b[0m \u001b[1m0s\u001b[0m 15ms/step - accuracy: 0.8240 - loss: 0.4494 - val_accuracy: 0.9500 - val_loss: 0.3565\n",
            "Epoch 23/100\n",
            "\u001b[1m3/3\u001b[0m \u001b[32m━━━━━━━━━━━━━━━━━━━━\u001b[0m\u001b[37m\u001b[0m \u001b[1m0s\u001b[0m 21ms/step - accuracy: 0.8474 - loss: 0.4143 - val_accuracy: 0.9500 - val_loss: 0.3506\n",
            "Epoch 24/100\n",
            "\u001b[1m3/3\u001b[0m \u001b[32m━━━━━━━━━━━━━━━━━━━━\u001b[0m\u001b[37m\u001b[0m \u001b[1m0s\u001b[0m 16ms/step - accuracy: 0.8552 - loss: 0.3981 - val_accuracy: 0.9500 - val_loss: 0.3456\n",
            "Epoch 25/100\n",
            "\u001b[1m3/3\u001b[0m \u001b[32m━━━━━━━━━━━━━━━━━━━━\u001b[0m\u001b[37m\u001b[0m \u001b[1m0s\u001b[0m 15ms/step - accuracy: 0.8342 - loss: 0.4410 - val_accuracy: 0.9500 - val_loss: 0.3416\n",
            "Epoch 26/100\n",
            "\u001b[1m3/3\u001b[0m \u001b[32m━━━━━━━━━━━━━━━━━━━━\u001b[0m\u001b[37m\u001b[0m \u001b[1m0s\u001b[0m 15ms/step - accuracy: 0.8694 - loss: 0.3906 - val_accuracy: 0.9500 - val_loss: 0.3371\n",
            "Epoch 27/100\n",
            "\u001b[1m3/3\u001b[0m \u001b[32m━━━━━━━━━━━━━━━━━━━━\u001b[0m\u001b[37m\u001b[0m \u001b[1m0s\u001b[0m 15ms/step - accuracy: 0.8850 - loss: 0.3796 - val_accuracy: 0.9500 - val_loss: 0.3330\n",
            "Epoch 28/100\n",
            "\u001b[1m3/3\u001b[0m \u001b[32m━━━━━━━━━━━━━━━━━━━━\u001b[0m\u001b[37m\u001b[0m \u001b[1m0s\u001b[0m 15ms/step - accuracy: 0.8162 - loss: 0.4322 - val_accuracy: 0.9500 - val_loss: 0.3295\n",
            "Epoch 29/100\n",
            "\u001b[1m3/3\u001b[0m \u001b[32m━━━━━━━━━━━━━━━━━━━━\u001b[0m\u001b[37m\u001b[0m \u001b[1m0s\u001b[0m 18ms/step - accuracy: 0.8694 - loss: 0.3870 - val_accuracy: 0.9500 - val_loss: 0.3256\n",
            "Epoch 30/100\n",
            "\u001b[1m3/3\u001b[0m \u001b[32m━━━━━━━━━━━━━━━━━━━━\u001b[0m\u001b[37m\u001b[0m \u001b[1m0s\u001b[0m 20ms/step - accuracy: 0.8420 - loss: 0.4244 - val_accuracy: 0.9500 - val_loss: 0.3230\n",
            "Epoch 31/100\n",
            "\u001b[1m3/3\u001b[0m \u001b[32m━━━━━━━━━━━━━━━━━━━━\u001b[0m\u001b[37m\u001b[0m \u001b[1m0s\u001b[0m 18ms/step - accuracy: 0.8537 - loss: 0.4028 - val_accuracy: 0.9500 - val_loss: 0.3213\n",
            "Epoch 32/100\n",
            "\u001b[1m3/3\u001b[0m \u001b[32m━━━━━━━━━━━━━━━━━━━━\u001b[0m\u001b[37m\u001b[0m \u001b[1m0s\u001b[0m 18ms/step - accuracy: 0.8303 - loss: 0.4316 - val_accuracy: 0.9000 - val_loss: 0.3189\n",
            "Epoch 33/100\n",
            "\u001b[1m3/3\u001b[0m \u001b[32m━━━━━━━━━━━━━━━━━━━━\u001b[0m\u001b[37m\u001b[0m \u001b[1m0s\u001b[0m 15ms/step - accuracy: 0.8576 - loss: 0.3839 - val_accuracy: 0.9000 - val_loss: 0.3161\n",
            "Epoch 34/100\n",
            "\u001b[1m3/3\u001b[0m \u001b[32m━━━━━━━━━━━━━━━━━━━━\u001b[0m\u001b[37m\u001b[0m \u001b[1m0s\u001b[0m 16ms/step - accuracy: 0.8811 - loss: 0.3650 - val_accuracy: 0.9000 - val_loss: 0.3136\n",
            "Epoch 35/100\n",
            "\u001b[1m3/3\u001b[0m \u001b[32m━━━━━━━━━━━━━━━━━━━━\u001b[0m\u001b[37m\u001b[0m \u001b[1m0s\u001b[0m 15ms/step - accuracy: 0.8694 - loss: 0.3796 - val_accuracy: 0.9000 - val_loss: 0.3109\n",
            "Epoch 36/100\n",
            "\u001b[1m3/3\u001b[0m \u001b[32m━━━━━━━━━━━━━━━━━━━━\u001b[0m\u001b[37m\u001b[0m \u001b[1m0s\u001b[0m 16ms/step - accuracy: 0.8576 - loss: 0.3870 - val_accuracy: 0.9000 - val_loss: 0.3087\n",
            "Epoch 37/100\n",
            "\u001b[1m3/3\u001b[0m \u001b[32m━━━━━━━━━━━━━━━━━━━━\u001b[0m\u001b[37m\u001b[0m \u001b[1m0s\u001b[0m 15ms/step - accuracy: 0.8342 - loss: 0.4142 - val_accuracy: 0.9000 - val_loss: 0.3068\n",
            "Epoch 38/100\n",
            "\u001b[1m3/3\u001b[0m \u001b[32m━━━━━━━━━━━━━━━━━━━━\u001b[0m\u001b[37m\u001b[0m \u001b[1m0s\u001b[0m 15ms/step - accuracy: 0.8498 - loss: 0.4106 - val_accuracy: 0.9000 - val_loss: 0.3044\n",
            "Epoch 39/100\n",
            "\u001b[1m3/3\u001b[0m \u001b[32m━━━━━━━━━━━━━━━━━━━━\u001b[0m\u001b[37m\u001b[0m \u001b[1m0s\u001b[0m 15ms/step - accuracy: 0.8772 - loss: 0.3605 - val_accuracy: 0.9000 - val_loss: 0.3012\n",
            "Epoch 40/100\n",
            "\u001b[1m3/3\u001b[0m \u001b[32m━━━━━━━━━━━━━━━━━━━━\u001b[0m\u001b[37m\u001b[0m \u001b[1m0s\u001b[0m 17ms/step - accuracy: 0.8498 - loss: 0.3931 - val_accuracy: 0.9000 - val_loss: 0.2991\n",
            "Epoch 41/100\n",
            "\u001b[1m3/3\u001b[0m \u001b[32m━━━━━━━━━━━━━━━━━━━━\u001b[0m\u001b[37m\u001b[0m \u001b[1m0s\u001b[0m 15ms/step - accuracy: 0.8679 - loss: 0.3778 - val_accuracy: 0.9000 - val_loss: 0.2972\n",
            "Epoch 42/100\n",
            "\u001b[1m3/3\u001b[0m \u001b[32m━━━━━━━━━━━━━━━━━━━━\u001b[0m\u001b[37m\u001b[0m \u001b[1m0s\u001b[0m 15ms/step - accuracy: 0.8640 - loss: 0.3908 - val_accuracy: 0.9000 - val_loss: 0.2962\n",
            "Epoch 43/100\n",
            "\u001b[1m3/3\u001b[0m \u001b[32m━━━━━━━━━━━━━━━━━━━━\u001b[0m\u001b[37m\u001b[0m \u001b[1m0s\u001b[0m 16ms/step - accuracy: 0.8679 - loss: 0.3786 - val_accuracy: 0.9000 - val_loss: 0.2951\n",
            "Epoch 44/100\n",
            "\u001b[1m3/3\u001b[0m \u001b[32m━━━━━━━━━━━━━━━━━━━━\u001b[0m\u001b[37m\u001b[0m \u001b[1m0s\u001b[0m 19ms/step - accuracy: 0.8601 - loss: 0.3916 - val_accuracy: 0.9000 - val_loss: 0.2934\n",
            "Epoch 45/100\n",
            "\u001b[1m3/3\u001b[0m \u001b[32m━━━━━━━━━━━━━━━━━━━━\u001b[0m\u001b[37m\u001b[0m \u001b[1m0s\u001b[0m 17ms/step - accuracy: 0.8640 - loss: 0.4013 - val_accuracy: 0.9000 - val_loss: 0.2919\n",
            "Epoch 46/100\n",
            "\u001b[1m3/3\u001b[0m \u001b[32m━━━━━━━━━━━━━━━━━━━━\u001b[0m\u001b[37m\u001b[0m \u001b[1m0s\u001b[0m 16ms/step - accuracy: 0.8796 - loss: 0.3648 - val_accuracy: 0.9000 - val_loss: 0.2905\n",
            "Epoch 47/100\n",
            "\u001b[1m3/3\u001b[0m \u001b[32m━━━━━━━━━━━━━━━━━━━━\u001b[0m\u001b[37m\u001b[0m \u001b[1m0s\u001b[0m 16ms/step - accuracy: 0.8640 - loss: 0.3754 - val_accuracy: 0.9000 - val_loss: 0.2887\n",
            "Epoch 48/100\n",
            "\u001b[1m3/3\u001b[0m \u001b[32m━━━━━━━━━━━━━━━━━━━━\u001b[0m\u001b[37m\u001b[0m \u001b[1m0s\u001b[0m 15ms/step - accuracy: 0.8562 - loss: 0.3895 - val_accuracy: 0.9000 - val_loss: 0.2874\n",
            "Epoch 49/100\n",
            "\u001b[1m3/3\u001b[0m \u001b[32m━━━━━━━━━━━━━━━━━━━━\u001b[0m\u001b[37m\u001b[0m \u001b[1m0s\u001b[0m 15ms/step - accuracy: 0.8483 - loss: 0.4014 - val_accuracy: 0.9000 - val_loss: 0.2870\n",
            "Epoch 50/100\n",
            "\u001b[1m3/3\u001b[0m \u001b[32m━━━━━━━━━━━━━━━━━━━━\u001b[0m\u001b[37m\u001b[0m \u001b[1m0s\u001b[0m 15ms/step - accuracy: 0.8679 - loss: 0.3843 - val_accuracy: 0.9000 - val_loss: 0.2862\n",
            "Epoch 51/100\n",
            "\u001b[1m3/3\u001b[0m \u001b[32m━━━━━━━━━━━━━━━━━━━━\u001b[0m\u001b[37m\u001b[0m \u001b[1m0s\u001b[0m 15ms/step - accuracy: 0.8679 - loss: 0.3810 - val_accuracy: 0.9000 - val_loss: 0.2849\n",
            "Epoch 52/100\n",
            "\u001b[1m3/3\u001b[0m \u001b[32m━━━━━━━━━━━━━━━━━━━━\u001b[0m\u001b[37m\u001b[0m \u001b[1m0s\u001b[0m 15ms/step - accuracy: 0.8483 - loss: 0.3996 - val_accuracy: 0.9000 - val_loss: 0.2838\n",
            "Epoch 53/100\n",
            "\u001b[1m3/3\u001b[0m \u001b[32m━━━━━━━━━━━━━━━━━━━━\u001b[0m\u001b[37m\u001b[0m \u001b[1m0s\u001b[0m 15ms/step - accuracy: 0.8523 - loss: 0.3967 - val_accuracy: 0.9000 - val_loss: 0.2836\n",
            "Epoch 54/100\n",
            "\u001b[1m3/3\u001b[0m \u001b[32m━━━━━━━━━━━━━━━━━━━━\u001b[0m\u001b[37m\u001b[0m \u001b[1m0s\u001b[0m 15ms/step - accuracy: 0.8679 - loss: 0.3822 - val_accuracy: 0.9000 - val_loss: 0.2839\n",
            "Epoch 55/100\n",
            "\u001b[1m3/3\u001b[0m \u001b[32m━━━━━━━━━━━━━━━━━━━━\u001b[0m\u001b[37m\u001b[0m \u001b[1m0s\u001b[0m 18ms/step - accuracy: 0.8601 - loss: 0.3980 - val_accuracy: 0.9000 - val_loss: 0.2835\n",
            "Epoch 56/100\n",
            "\u001b[1m3/3\u001b[0m \u001b[32m━━━━━━━━━━━━━━━━━━━━\u001b[0m\u001b[37m\u001b[0m \u001b[1m0s\u001b[0m 15ms/step - accuracy: 0.8523 - loss: 0.3899 - val_accuracy: 0.9000 - val_loss: 0.2823\n",
            "Epoch 57/100\n",
            "\u001b[1m3/3\u001b[0m \u001b[32m━━━━━━━━━━━━━━━━━━━━\u001b[0m\u001b[37m\u001b[0m \u001b[1m0s\u001b[0m 19ms/step - accuracy: 0.8796 - loss: 0.3524 - val_accuracy: 0.9000 - val_loss: 0.2811\n",
            "Epoch 58/100\n",
            "\u001b[1m3/3\u001b[0m \u001b[32m━━━━━━━━━━━━━━━━━━━━\u001b[0m\u001b[37m\u001b[0m \u001b[1m0s\u001b[0m 16ms/step - accuracy: 0.8640 - loss: 0.3844 - val_accuracy: 0.9000 - val_loss: 0.2800\n",
            "Epoch 59/100\n",
            "\u001b[1m3/3\u001b[0m \u001b[32m━━━━━━━━━━━━━━━━━━━━\u001b[0m\u001b[37m\u001b[0m \u001b[1m0s\u001b[0m 15ms/step - accuracy: 0.8640 - loss: 0.3751 - val_accuracy: 0.9000 - val_loss: 0.2790\n",
            "Epoch 60/100\n",
            "\u001b[1m3/3\u001b[0m \u001b[32m━━━━━━━━━━━━━━━━━━━━\u001b[0m\u001b[37m\u001b[0m \u001b[1m0s\u001b[0m 15ms/step - accuracy: 0.8366 - loss: 0.4205 - val_accuracy: 0.9000 - val_loss: 0.2784\n",
            "Epoch 61/100\n",
            "\u001b[1m3/3\u001b[0m \u001b[32m━━━━━━━━━━━━━━━━━━━━\u001b[0m\u001b[37m\u001b[0m \u001b[1m0s\u001b[0m 17ms/step - accuracy: 0.8562 - loss: 0.3797 - val_accuracy: 0.9000 - val_loss: 0.2773\n",
            "Epoch 62/100\n",
            "\u001b[1m3/3\u001b[0m \u001b[32m━━━━━━━━━━━━━━━━━━━━\u001b[0m\u001b[37m\u001b[0m \u001b[1m0s\u001b[0m 16ms/step - accuracy: 0.8523 - loss: 0.3978 - val_accuracy: 0.9000 - val_loss: 0.2777\n",
            "Epoch 63/100\n",
            "\u001b[1m3/3\u001b[0m \u001b[32m━━━━━━━━━━━━━━━━━━━━\u001b[0m\u001b[37m\u001b[0m \u001b[1m0s\u001b[0m 15ms/step - accuracy: 0.8640 - loss: 0.3720 - val_accuracy: 0.9000 - val_loss: 0.2786\n",
            "Epoch 64/100\n",
            "\u001b[1m3/3\u001b[0m \u001b[32m━━━━━━━━━━━━━━━━━━━━\u001b[0m\u001b[37m\u001b[0m \u001b[1m0s\u001b[0m 15ms/step - accuracy: 0.8757 - loss: 0.3493 - val_accuracy: 0.9000 - val_loss: 0.2796\n",
            "Epoch 65/100\n",
            "\u001b[1m3/3\u001b[0m \u001b[32m━━━━━━━━━━━━━━━━━━━━\u001b[0m\u001b[37m\u001b[0m \u001b[1m0s\u001b[0m 20ms/step - accuracy: 0.8523 - loss: 0.3860 - val_accuracy: 0.9000 - val_loss: 0.2796\n",
            "Epoch 66/100\n",
            "\u001b[1m3/3\u001b[0m \u001b[32m━━━━━━━━━━━━━━━━━━━━\u001b[0m\u001b[37m\u001b[0m \u001b[1m0s\u001b[0m 15ms/step - accuracy: 0.8483 - loss: 0.3962 - val_accuracy: 0.9000 - val_loss: 0.2783\n",
            "Epoch 67/100\n",
            "\u001b[1m3/3\u001b[0m \u001b[32m━━━━━━━━━━━━━━━━━━━━\u001b[0m\u001b[37m\u001b[0m \u001b[1m0s\u001b[0m 15ms/step - accuracy: 0.8757 - loss: 0.3500 - val_accuracy: 0.9000 - val_loss: 0.2764\n",
            "Epoch 68/100\n",
            "\u001b[1m3/3\u001b[0m \u001b[32m━━━━━━━━━━━━━━━━━━━━\u001b[0m\u001b[37m\u001b[0m \u001b[1m0s\u001b[0m 15ms/step - accuracy: 0.8523 - loss: 0.3770 - val_accuracy: 0.9000 - val_loss: 0.2750\n",
            "Epoch 69/100\n",
            "\u001b[1m3/3\u001b[0m \u001b[32m━━━━━━━━━━━━━━━━━━━━\u001b[0m\u001b[37m\u001b[0m \u001b[1m0s\u001b[0m 15ms/step - accuracy: 0.8796 - loss: 0.3410 - val_accuracy: 0.9000 - val_loss: 0.2732\n",
            "Epoch 70/100\n",
            "\u001b[1m3/3\u001b[0m \u001b[32m━━━━━━━━━━━━━━━━━━━━\u001b[0m\u001b[37m\u001b[0m \u001b[1m0s\u001b[0m 20ms/step - accuracy: 0.8640 - loss: 0.3754 - val_accuracy: 0.9000 - val_loss: 0.2714\n",
            "Epoch 71/100\n",
            "\u001b[1m3/3\u001b[0m \u001b[32m━━━━━━━━━━━━━━━━━━━━\u001b[0m\u001b[37m\u001b[0m \u001b[1m0s\u001b[0m 20ms/step - accuracy: 0.8718 - loss: 0.3674 - val_accuracy: 0.9000 - val_loss: 0.2698\n",
            "Epoch 72/100\n",
            "\u001b[1m3/3\u001b[0m \u001b[32m━━━━━━━━━━━━━━━━━━━━\u001b[0m\u001b[37m\u001b[0m \u001b[1m0s\u001b[0m 15ms/step - accuracy: 0.8562 - loss: 0.3837 - val_accuracy: 0.9000 - val_loss: 0.2682\n",
            "Epoch 73/100\n",
            "\u001b[1m3/3\u001b[0m \u001b[32m━━━━━━━━━━━━━━━━━━━━\u001b[0m\u001b[37m\u001b[0m \u001b[1m0s\u001b[0m 16ms/step - accuracy: 0.8640 - loss: 0.3815 - val_accuracy: 0.9000 - val_loss: 0.2672\n",
            "Epoch 74/100\n",
            "\u001b[1m3/3\u001b[0m \u001b[32m━━━━━━━━━━━━━━━━━━━━\u001b[0m\u001b[37m\u001b[0m \u001b[1m0s\u001b[0m 15ms/step - accuracy: 0.8757 - loss: 0.3525 - val_accuracy: 0.9000 - val_loss: 0.2668\n",
            "Epoch 75/100\n",
            "\u001b[1m3/3\u001b[0m \u001b[32m━━━━━━━━━━━━━━━━━━━━\u001b[0m\u001b[37m\u001b[0m \u001b[1m0s\u001b[0m 15ms/step - accuracy: 0.8562 - loss: 0.3710 - val_accuracy: 0.9000 - val_loss: 0.2655\n",
            "Epoch 76/100\n",
            "\u001b[1m3/3\u001b[0m \u001b[32m━━━━━━━━━━━━━━━━━━━━\u001b[0m\u001b[37m\u001b[0m \u001b[1m0s\u001b[0m 15ms/step - accuracy: 0.8483 - loss: 0.3869 - val_accuracy: 0.9000 - val_loss: 0.2635\n",
            "Epoch 77/100\n",
            "\u001b[1m3/3\u001b[0m \u001b[32m━━━━━━━━━━━━━━━━━━━━\u001b[0m\u001b[37m\u001b[0m \u001b[1m0s\u001b[0m 15ms/step - accuracy: 0.8523 - loss: 0.3765 - val_accuracy: 0.9000 - val_loss: 0.2616\n",
            "Epoch 78/100\n",
            "\u001b[1m3/3\u001b[0m \u001b[32m━━━━━━━━━━━━━━━━━━━━\u001b[0m\u001b[37m\u001b[0m \u001b[1m0s\u001b[0m 15ms/step - accuracy: 0.8835 - loss: 0.3407 - val_accuracy: 0.9000 - val_loss: 0.2586\n",
            "Epoch 79/100\n",
            "\u001b[1m3/3\u001b[0m \u001b[32m━━━━━━━━━━━━━━━━━━━━\u001b[0m\u001b[37m\u001b[0m \u001b[1m0s\u001b[0m 15ms/step - accuracy: 0.8835 - loss: 0.3412 - val_accuracy: 0.9000 - val_loss: 0.2575\n",
            "Epoch 80/100\n",
            "\u001b[1m3/3\u001b[0m \u001b[32m━━━━━━━━━━━━━━━━━━━━\u001b[0m\u001b[37m\u001b[0m \u001b[1m0s\u001b[0m 22ms/step - accuracy: 0.8796 - loss: 0.3351 - val_accuracy: 0.9000 - val_loss: 0.2566\n",
            "Epoch 81/100\n",
            "\u001b[1m3/3\u001b[0m \u001b[32m━━━━━━━━━━━━━━━━━━━━\u001b[0m\u001b[37m\u001b[0m \u001b[1m0s\u001b[0m 15ms/step - accuracy: 0.8405 - loss: 0.4086 - val_accuracy: 0.9000 - val_loss: 0.2562\n",
            "Epoch 82/100\n",
            "\u001b[1m3/3\u001b[0m \u001b[32m━━━━━━━━━━━━━━━━━━━━\u001b[0m\u001b[37m\u001b[0m \u001b[1m0s\u001b[0m 15ms/step - accuracy: 0.8444 - loss: 0.3852 - val_accuracy: 0.9000 - val_loss: 0.2562\n",
            "Epoch 83/100\n",
            "\u001b[1m3/3\u001b[0m \u001b[32m━━━━━━━━━━━━━━━━━━━━\u001b[0m\u001b[37m\u001b[0m \u001b[1m0s\u001b[0m 18ms/step - accuracy: 0.8562 - loss: 0.3862 - val_accuracy: 0.9000 - val_loss: 0.2565\n",
            "Epoch 84/100\n",
            "\u001b[1m3/3\u001b[0m \u001b[32m━━━━━━━━━━━━━━━━━━━━\u001b[0m\u001b[37m\u001b[0m \u001b[1m0s\u001b[0m 19ms/step - accuracy: 0.8523 - loss: 0.3786 - val_accuracy: 0.9000 - val_loss: 0.2559\n",
            "Epoch 85/100\n",
            "\u001b[1m3/3\u001b[0m \u001b[32m━━━━━━━━━━━━━━━━━━━━\u001b[0m\u001b[37m\u001b[0m \u001b[1m0s\u001b[0m 16ms/step - accuracy: 0.8405 - loss: 0.3866 - val_accuracy: 0.9000 - val_loss: 0.2565\n",
            "Epoch 86/100\n",
            "\u001b[1m3/3\u001b[0m \u001b[32m━━━━━━━━━━━━━━━━━━━━\u001b[0m\u001b[37m\u001b[0m \u001b[1m0s\u001b[0m 16ms/step - accuracy: 0.8796 - loss: 0.3432 - val_accuracy: 0.9000 - val_loss: 0.2567\n",
            "Epoch 87/100\n",
            "\u001b[1m3/3\u001b[0m \u001b[32m━━━━━━━━━━━━━━━━━━━━\u001b[0m\u001b[37m\u001b[0m \u001b[1m0s\u001b[0m 16ms/step - accuracy: 0.8562 - loss: 0.3742 - val_accuracy: 0.9000 - val_loss: 0.2555\n",
            "Epoch 88/100\n",
            "\u001b[1m3/3\u001b[0m \u001b[32m━━━━━━━━━━━━━━━━━━━━\u001b[0m\u001b[37m\u001b[0m \u001b[1m0s\u001b[0m 16ms/step - accuracy: 0.8679 - loss: 0.3519 - val_accuracy: 0.9000 - val_loss: 0.2545\n",
            "Epoch 89/100\n",
            "\u001b[1m3/3\u001b[0m \u001b[32m━━━━━━━━━━━━━━━━━━━━\u001b[0m\u001b[37m\u001b[0m \u001b[1m0s\u001b[0m 16ms/step - accuracy: 0.8874 - loss: 0.3121 - val_accuracy: 0.9000 - val_loss: 0.2536\n",
            "Epoch 90/100\n",
            "\u001b[1m3/3\u001b[0m \u001b[32m━━━━━━━━━━━━━━━━━━━━\u001b[0m\u001b[37m\u001b[0m \u001b[1m0s\u001b[0m 16ms/step - accuracy: 0.8679 - loss: 0.3546 - val_accuracy: 0.9000 - val_loss: 0.2534\n",
            "Epoch 91/100\n",
            "\u001b[1m3/3\u001b[0m \u001b[32m━━━━━━━━━━━━━━━━━━━━\u001b[0m\u001b[37m\u001b[0m \u001b[1m0s\u001b[0m 15ms/step - accuracy: 0.8772 - loss: 0.3202 - val_accuracy: 0.9000 - val_loss: 0.2541\n",
            "Epoch 92/100\n",
            "\u001b[1m3/3\u001b[0m \u001b[32m━━━━━━━━━━━━━━━━━━━━\u001b[0m\u001b[37m\u001b[0m \u001b[1m0s\u001b[0m 21ms/step - accuracy: 0.8694 - loss: 0.3218 - val_accuracy: 0.9000 - val_loss: 0.2553\n",
            "Epoch 93/100\n",
            "\u001b[1m3/3\u001b[0m \u001b[32m━━━━━━━━━━━━━━━━━━━━\u001b[0m\u001b[37m\u001b[0m \u001b[1m0s\u001b[0m 16ms/step - accuracy: 0.8772 - loss: 0.3147 - val_accuracy: 0.9000 - val_loss: 0.2555\n",
            "Epoch 94/100\n",
            "\u001b[1m3/3\u001b[0m \u001b[32m━━━━━━━━━━━━━━━━━━━━\u001b[0m\u001b[37m\u001b[0m \u001b[1m0s\u001b[0m 19ms/step - accuracy: 0.8420 - loss: 0.3675 - val_accuracy: 0.9000 - val_loss: 0.2546\n",
            "Epoch 95/100\n",
            "\u001b[1m3/3\u001b[0m \u001b[32m━━━━━━━━━━━━━━━━━━━━\u001b[0m\u001b[37m\u001b[0m \u001b[1m0s\u001b[0m 16ms/step - accuracy: 0.8147 - loss: 0.3891 - val_accuracy: 0.9000 - val_loss: 0.2537\n",
            "Epoch 96/100\n",
            "\u001b[1m3/3\u001b[0m \u001b[32m━━━━━━━━━━━━━━━━━━━━\u001b[0m\u001b[37m\u001b[0m \u001b[1m0s\u001b[0m 18ms/step - accuracy: 0.8381 - loss: 0.3771 - val_accuracy: 0.9000 - val_loss: 0.2533\n",
            "Epoch 97/100\n",
            "\u001b[1m3/3\u001b[0m \u001b[32m━━━━━━━━━━━━━━━━━━━━\u001b[0m\u001b[37m\u001b[0m \u001b[1m0s\u001b[0m 20ms/step - accuracy: 0.8186 - loss: 0.3999 - val_accuracy: 0.9000 - val_loss: 0.2523\n",
            "Epoch 98/100\n",
            "\u001b[1m3/3\u001b[0m \u001b[32m━━━━━━━━━━━━━━━━━━━━\u001b[0m\u001b[37m\u001b[0m \u001b[1m0s\u001b[0m 19ms/step - accuracy: 0.8537 - loss: 0.3657 - val_accuracy: 0.9000 - val_loss: 0.2502\n",
            "Epoch 99/100\n",
            "\u001b[1m3/3\u001b[0m \u001b[32m━━━━━━━━━━━━━━━━━━━━\u001b[0m\u001b[37m\u001b[0m \u001b[1m0s\u001b[0m 16ms/step - accuracy: 0.8303 - loss: 0.3628 - val_accuracy: 0.9000 - val_loss: 0.2465\n",
            "Epoch 100/100\n",
            "\u001b[1m3/3\u001b[0m \u001b[32m━━━━━━━━━━━━━━━━━━━━\u001b[0m\u001b[37m\u001b[0m \u001b[1m0s\u001b[0m 16ms/step - accuracy: 0.8381 - loss: 0.3660 - val_accuracy: 0.9500 - val_loss: 0.2444\n"
          ]
        }
      ]
    },
    {
      "cell_type": "code",
      "source": [
        "model.get_weights()"
      ],
      "metadata": {
        "colab": {
          "base_uri": "https://localhost:8080/"
        },
        "id": "8K2E1Z5Oupj_",
        "outputId": "213346d1-1154-49ba-b275-f645e4650302"
      },
      "execution_count": null,
      "outputs": [
        {
          "output_type": "execute_result",
          "data": {
            "text/plain": [
              "[array([[-0.44779462, -0.44969985,  0.04100377, -1.0023783 , -0.78850925,\n",
              "         -0.56013775, -1.6410758 , -0.13610089, -0.99879956,  0.41169715],\n",
              "        [-0.1625454 , -0.49879572, -0.10682516,  0.508634  ,  0.3322408 ,\n",
              "          1.0957533 , -0.04068023,  1.881598  , -0.5558381 ,  0.07434845]],\n",
              "       dtype=float32),\n",
              " array([ 0.00995904,  0.07745726, -0.05068701, -0.0599749 , -0.01622641,\n",
              "         0.05418722,  0.28076082,  0.00883437,  0.18919295, -0.00199376],\n",
              "       dtype=float32),\n",
              " array([[ 0.2669297 ,  0.08015098, -0.7231325 , -0.26530045, -0.12273096,\n",
              "         -0.16554241, -0.42458895, -0.12143619, -0.07357187,  0.0628035 ],\n",
              "        [-0.4381738 , -0.05396036,  0.1182682 ,  0.522325  ,  0.50819045,\n",
              "          0.31978285, -0.02842785, -0.2027739 , -0.06333119,  0.63470185],\n",
              "        [ 0.01844636, -0.20621262,  0.69828   ,  0.3956611 , -0.5053286 ,\n",
              "         -0.12562785, -0.18674007,  0.49760085,  0.1649876 , -0.3683346 ],\n",
              "        [ 0.15544848,  0.12538645,  0.4089955 , -0.08343249,  0.02508104,\n",
              "          0.1203365 ,  0.02395492, -0.0062297 ,  0.47232777,  0.08767242],\n",
              "        [ 0.23414195,  0.28203645, -0.03084294, -0.3995257 , -0.70988905,\n",
              "         -0.04613367, -0.37831125, -0.21371092, -0.13257174, -0.060551  ],\n",
              "        [-0.18419367,  0.07066803,  0.13504781, -0.18908563,  0.54681426,\n",
              "         -0.795508  , -0.15969816, -0.5785716 ,  0.1600789 , -0.14834166],\n",
              "        [-0.3257701 , -0.02780158, -0.11289365,  0.02763798,  0.25997296,\n",
              "         -0.045171  ,  0.02670491,  0.47248927, -0.3212929 , -0.12649092],\n",
              "        [-0.02434109,  0.30830204, -0.09646977,  0.02209264,  0.24922578,\n",
              "         -0.00134728,  0.03727261,  0.02689942,  0.07065771, -0.02055456],\n",
              "        [-0.16082531, -0.12678388, -0.02011047,  0.30436933,  0.08477318,\n",
              "         -0.40049973,  0.6202338 ,  0.3143943 , -0.3772546 ,  0.1217379 ],\n",
              "        [-0.749856  ,  0.2176579 , -0.65434664,  0.18720697,  0.4240958 ,\n",
              "         -0.3445974 ,  0.33226642,  0.5963882 , -0.5500862 ,  0.43212757]],\n",
              "       dtype=float32),\n",
              " array([ 0.01579982,  0.03346844, -0.06737281, -0.01084078,  0.02839789,\n",
              "        -0.02174061, -0.07877139, -0.036029  , -0.04952809,  0.01617666],\n",
              "       dtype=float32),\n",
              " array([[ 0.3392973 ,  0.857248  ,  0.64236873,  0.15020052,  0.5183741 ,\n",
              "         -0.79022443,  0.34610125, -0.462434  ,  0.54016083, -0.09504179],\n",
              "        [ 0.36764756,  0.03438957,  0.2248227 , -0.0367767 ,  0.08850349,\n",
              "         -0.80212075, -0.44474453, -0.29244137, -0.2870644 , -0.04877215],\n",
              "        [ 0.18846883, -0.17959188, -0.5802728 , -0.61337537,  0.38564253,\n",
              "         -0.18348353,  0.31537873, -0.0141567 ,  0.12160674,  0.24928728],\n",
              "        [-0.35693142, -0.19020863,  0.19121061, -0.04203273, -0.6377778 ,\n",
              "          0.03419111,  0.20152101, -0.16185032, -0.08337088,  0.1430156 ],\n",
              "        [ 0.26834083,  0.13984084,  0.37405613,  0.13238439, -0.15389737,\n",
              "         -0.40724257,  0.07106256, -0.34352118,  0.04484494, -0.20642912],\n",
              "        [ 0.01738022, -0.57582515,  0.00346238, -0.17004469, -0.15158336,\n",
              "          0.06302936, -0.73681515, -0.27655682, -0.0158806 , -0.12832355],\n",
              "        [-0.5396903 ,  0.51608   ,  0.07980857, -1.0486853 , -0.04539268,\n",
              "          0.21188073,  0.26288995, -0.11933829,  0.17186786, -0.26178017],\n",
              "        [-0.6012897 , -0.22253731, -0.00303386, -1.1886712 , -0.03121655,\n",
              "          0.5546858 ,  0.34129253,  0.4264099 ,  0.20837186,  0.1006396 ],\n",
              "        [ 0.10431983, -0.09218153, -0.20946933, -0.36600113, -0.09993318,\n",
              "         -0.46853518,  0.9183573 , -0.09250297, -0.36825177, -0.03655427],\n",
              "        [ 0.11769107,  0.10201287,  0.6971676 ,  0.03108588, -0.10803317,\n",
              "          0.1179499 , -0.20186128, -0.00130689, -0.24772058, -0.07430907]],\n",
              "       dtype=float32),\n",
              " array([ 0.04106112, -0.00830083,  0.00529756,  0.02609117, -0.03449539,\n",
              "        -0.03447612, -0.00438895,  0.02040244,  0.04061319,  0.04042148],\n",
              "       dtype=float32),\n",
              " array([[-0.27639866,  0.44916052, -0.5455838 , -0.5279569 ,  0.14004138,\n",
              "          0.62977046,  0.49143684,  0.37330562,  0.27528724,  0.29619431],\n",
              "        [ 0.15519544,  0.29472053, -0.34666434, -0.3996677 ,  0.34199893,\n",
              "          0.41901731,  0.82766306,  0.23499422, -0.00469127,  0.28736696],\n",
              "        [ 0.42734057, -0.1440138 , -0.19758853, -0.12387113,  0.09211843,\n",
              "         -0.42642757, -0.25740266, -0.7341666 ,  0.08873299, -0.39210385],\n",
              "        [ 0.18170896,  0.15956005, -0.39023116, -0.00440482,  0.8405541 ,\n",
              "         -0.09868367,  0.161633  ,  0.83944476, -0.21726546,  0.4275695 ],\n",
              "        [ 0.32696563,  0.42859402,  0.16058408, -0.56549954,  0.5216662 ,\n",
              "         -0.06153372, -0.12745072,  0.11390802, -0.3183818 ,  0.33339995],\n",
              "        [ 0.1324148 ,  0.27761558,  0.40995175, -0.0462413 , -0.1968912 ,\n",
              "         -0.12033167, -0.5129411 , -0.03273159,  0.26813284, -0.5456115 ],\n",
              "        [ 0.01206197, -0.13022435,  0.08844044, -0.23390995, -0.17454867,\n",
              "         -0.1326096 ,  0.4374822 ,  0.3773436 , -0.21542859, -0.18792382],\n",
              "        [-0.01991578, -0.04015876,  0.05919097,  0.2891617 , -0.8444227 ,\n",
              "         -0.31444818, -0.45441192, -0.25233817, -0.02222827,  0.15207735],\n",
              "        [ 0.20008953, -0.96997523, -0.22209491, -0.01224509,  0.20158467,\n",
              "         -0.46244222, -0.05143176, -0.03584895, -0.18205899, -0.36086857],\n",
              "        [-0.2915334 , -0.03460393, -0.12878181,  0.12400503,  0.34970275,\n",
              "          0.01063029,  0.6808749 , -0.6457006 ,  0.03808821,  0.3361815 ]],\n",
              "       dtype=float32),\n",
              " array([-0.05074352, -0.07301717,  0.03732892,  0.04973159, -0.0026564 ,\n",
              "        -0.06585973,  0.01289667, -0.01117635,  0.05812361,  0.00153817],\n",
              "       dtype=float32),\n",
              " array([[-0.09982535],\n",
              "        [-0.17423537],\n",
              "        [ 0.1975581 ],\n",
              "        [ 0.2643712 ],\n",
              "        [-0.2942683 ],\n",
              "        [-0.26450112],\n",
              "        [-0.47462174],\n",
              "        [-0.8937234 ],\n",
              "        [ 0.31441072],\n",
              "        [-0.27594686]], dtype=float32),\n",
              " array([0.05948936], dtype=float32)]"
            ]
          },
          "metadata": {},
          "execution_count": 23
        }
      ]
    },
    {
      "cell_type": "code",
      "source": [
        "from mlxtend.plotting import plot_decision_regions\n",
        "plot_decision_regions(X,y.astype('int'), clf=model, legend=2)"
      ],
      "metadata": {
        "colab": {
          "base_uri": "https://localhost:8080/",
          "height": 465
        },
        "id": "h2jKnSGeuuLY",
        "outputId": "af23541b-e7cc-4060-d2b3-30f74984acca"
      },
      "execution_count": null,
      "outputs": [
        {
          "output_type": "stream",
          "name": "stdout",
          "text": [
            "\u001b[1m9600/9600\u001b[0m \u001b[32m━━━━━━━━━━━━━━━━━━━━\u001b[0m\u001b[37m\u001b[0m \u001b[1m13s\u001b[0m 1ms/step\n"
          ]
        },
        {
          "output_type": "execute_result",
          "data": {
            "text/plain": [
              "<Axes: >"
            ]
          },
          "metadata": {},
          "execution_count": 24
        },
        {
          "output_type": "display_data",
          "data": {
            "text/plain": [
              "<Figure size 640x480 with 1 Axes>"
            ],
            "image/png": "[encoded data removed]"
          },
          "metadata": {}
        }
      ]
    },
    {
      "cell_type": "code",
      "source": [
        "(np.random.randn(10,10)*0.01).min()"
      ],
      "metadata": {
        "colab": {
          "base_uri": "https://localhost:8080/"
        },
        "id": "6cQtO9mpuxLI",
        "outputId": "ecdeabc9-2351-4483-cd97-96788c497ded"
      },
      "execution_count": null,
      "outputs": [
        {
          "output_type": "execute_result",
          "data": {
            "text/plain": [
              "-0.01827357681213676"
            ]
          },
          "metadata": {},
          "execution_count": 25
        }
      ]
    },
    {
      "cell_type": "code",
      "source": [
        "(np.random.randn(10,10)*0.01).max()"
      ],
      "metadata": {
        "colab": {
          "base_uri": "https://localhost:8080/"
        },
        "id": "diiaUiL92T7H",
        "outputId": "c708b704-520c-4a54-ebd9-21db2c050cfd"
      },
      "execution_count": null,
      "outputs": [
        {
          "output_type": "execute_result",
          "data": {
            "text/plain": [
              "0.024869920212470503"
            ]
          },
          "metadata": {},
          "execution_count": 26
        }
      ]
    },
    {
      "cell_type": "code",
      "source": [],
      "metadata": {
        "id": "b2DJRNfI3BOE"
      },
      "execution_count": null,
      "outputs": []
    }
  ]
}