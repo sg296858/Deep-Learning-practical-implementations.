{
  "cells": [
    {
      "cell_type": "code",
      "source": [
        "import numpy as np\n",
        "import pandas as pd"
      ],
      "metadata": {
        "id": "3I4DHtLlbwAU"
      },
      "execution_count": null,
      "outputs": []
    },
    {
      "cell_type": "code",
      "source": [
        "df = pd.DataFrame([[8,8,1],[7,9,1],[6,10,0],[5,5,0]], columns=['cgpa', 'profile_score', 'placed'])"
      ],
      "metadata": {
        "id": "t22eHvtacHto"
      },
      "execution_count": null,
      "outputs": []
    },
    {
      "cell_type": "code",
      "source": [
        "df.head()"
      ],
      "metadata": {
        "id": "PhHm9MewcOma",
        "outputId": "608b0a1d-ed9b-4a91-a725-e0d0650f8a43",
        "colab": {
          "base_uri": "https://localhost:8080/",
          "height": 175
        }
      },
      "execution_count": null,
      "outputs": [
        {
          "output_type": "execute_result",
          "data": {
            "text/plain": [
              "   cgpa  profile_score  placed\n",
              "0     8              8       1\n",
              "1     7              9       1\n",
              "2     6             10       0\n",
              "3     5              5       0"
            ],
            "text/html": [
              "\n",
              "  <div id=\"df-6c339aad-f441-443f-91ec-d1b04b224436\" class=\"colab-df-container\">\n",
              "    <div>\n",
              "<style scoped>\n",
              "    .dataframe tbody tr th:only-of-type {\n",
              "        vertical-align: middle;\n",
              "    }\n",
              "\n",
              "    .dataframe tbody tr th {\n",
              "        vertical-align: top;\n",
              "    }\n",
              "\n",
              "    .dataframe thead th {\n",
              "        text-align: right;\n",
              "    }\n",
              "</style>\n",
              "<table border=\"1\" class=\"dataframe\">\n",
              "  <thead>\n",
              "    <tr style=\"text-align: right;\">\n",
              "      <th></th>\n",
              "      <th>cgpa</th>\n",
              "      <th>profile_score</th>\n",
              "      <th>placed</th>\n",
              "    </tr>\n",
              "  </thead>\n",
              "  <tbody>\n",
              "    <tr>\n",
              "      <th>0</th>\n",
              "      <td>8</td>\n",
              "      <td>8</td>\n",
              "      <td>1</td>\n",
              "    </tr>\n",
              "    <tr>\n",
              "      <th>1</th>\n",
              "      <td>7</td>\n",
              "      <td>9</td>\n",
              "      <td>1</td>\n",
              "    </tr>\n",
              "    <tr>\n",
              "      <th>2</th>\n",
              "      <td>6</td>\n",
              "      <td>10</td>\n",
              "      <td>0</td>\n",
              "    </tr>\n",
              "    <tr>\n",
              "      <th>3</th>\n",
              "      <td>5</td>\n",
              "      <td>5</td>\n",
              "      <td>0</td>\n",
              "    </tr>\n",
              "  </tbody>\n",
              "</table>\n",
              "</div>\n",
              "    <div class=\"colab-df-buttons\">\n",
              "\n",
              "  <div class=\"colab-df-container\">\n",
              "    <button class=\"colab-df-convert\" onclick=\"convertToInteractive('df-6c339aad-f441-443f-91ec-d1b04b224436')\"\n",
              "            title=\"Convert this dataframe to an interactive table.\"\n",
              "            style=\"display:none;\">\n",
              "\n",
              "  <svg xmlns=\"http://www.w3.org/2000/svg\" height=\"24px\" viewBox=\"0 -960 960 960\">\n",
              "    <path d=\"M120-120v-720h720v720H120Zm60-500h600v-160H180v160Zm220 220h160v-160H400v160Zm0 220h160v-160H400v160ZM180-400h160v-160H180v160Zm440 0h160v-160H620v160ZM180-180h160v-160H180v160Zm440 0h160v-160H620v160Z\"/>\n",
              "  </svg>\n",
              "    </button>\n",
              "\n",
              "  <style>\n",
              "    .colab-df-container {\n",
              "      display:flex;\n",
              "      gap: 12px;\n",
              "    }\n",
              "\n",
              "    .colab-df-convert {\n",
              "      background-color: #E8F0FE;\n",
              "      border: none;\n",
              "      border-radius: 50%;\n",
              "      cursor: pointer;\n",
              "      display: none;\n",
              "      fill: #1967D2;\n",
              "      height: 32px;\n",
              "      padding: 0 0 0 0;\n",
              "      width: 32px;\n",
              "    }\n",
              "\n",
              "    .colab-df-convert:hover {\n",
              "      background-color: #E2EBFA;\n",
              "      box-shadow: 0px 1px 2px rgba(60, 64, 67, 0.3), 0px 1px 3px 1px rgba(60, 64, 67, 0.15);\n",
              "      fill: #174EA6;\n",
              "    }\n",
              "\n",
              "    .colab-df-buttons div {\n",
              "      margin-bottom: 4px;\n",
              "    }\n",
              "\n",
              "    [theme=dark] .colab-df-convert {\n",
              "      background-color: #3B4455;\n",
              "      fill: #D2E3FC;\n",
              "    }\n",
              "\n",
              "    [theme=dark] .colab-df-convert:hover {\n",
              "      background-color: #434B5C;\n",
              "      box-shadow: 0px 1px 3px 1px rgba(0, 0, 0, 0.15);\n",
              "      filter: drop-shadow(0px 1px 2px rgba(0, 0, 0, 0.3));\n",
              "      fill: #FFFFFF;\n",
              "    }\n",
              "  </style>\n",
              "\n",
              "    <script>\n",
              "      const buttonEl =\n",
              "        document.querySelector('#df-6c339aad-f441-443f-91ec-d1b04b224436 button.colab-df-convert');\n",
              "      buttonEl.style.display =\n",
              "        google.colab.kernel.accessAllowed ? 'block' : 'none';\n",
              "\n",
              "      async function convertToInteractive(key) {\n",
              "        const element = document.querySelector('#df-6c339aad-f441-443f-91ec-d1b04b224436');\n",
              "        const dataTable =\n",
              "          await google.colab.kernel.invokeFunction('convertToInteractive',\n",
              "                                                    [key], {});\n",
              "        if (!dataTable) return;\n",
              "\n",
              "        const docLinkHtml = 'Like what you see? Visit the ' +\n",
              "          '<a target=\"_blank\" href=https://colab.research.google.com/notebooks/data_table.ipynb>data table notebook</a>'\n",
              "          + ' to learn more about interactive tables.';\n",
              "        element.innerHTML = '';\n",
              "        dataTable['output_type'] = 'display_data';\n",
              "        await google.colab.output.renderOutput(dataTable, element);\n",
              "        const docLink = document.createElement('div');\n",
              "        docLink.innerHTML = docLinkHtml;\n",
              "        element.appendChild(docLink);\n",
              "      }\n",
              "    </script>\n",
              "  </div>\n",
              "\n",
              "\n",
              "<div id=\"df-1e4d507b-caa7-4623-af84-13495a4de242\">\n",
              "  <button class=\"colab-df-quickchart\" onclick=\"quickchart('df-1e4d507b-caa7-4623-af84-13495a4de242')\"\n",
              "            title=\"Suggest charts\"\n",
              "            style=\"display:none;\">\n",
              "\n",
              "<svg xmlns=\"http://www.w3.org/2000/svg\" height=\"24px\"viewBox=\"0 0 24 24\"\n",
              "     width=\"24px\">\n",
              "    <g>\n",
              "        <path d=\"M19 3H5c-1.1 0-2 .9-2 2v14c0 1.1.9 2 2 2h14c1.1 0 2-.9 2-2V5c0-1.1-.9-2-2-2zM9 17H7v-7h2v7zm4 0h-2V7h2v10zm4 0h-2v-4h2v4z\"/>\n",
              "    </g>\n",
              "</svg>\n",
              "  </button>\n",
              "\n",
              "<style>\n",
              "  .colab-df-quickchart {\n",
              "      --bg-color: #E8F0FE;\n",
              "      --fill-color: #1967D2;\n",
              "      --hover-bg-color: #E2EBFA;\n",
              "      --hover-fill-color: #174EA6;\n",
              "      --disabled-fill-color: #AAA;\n",
              "      --disabled-bg-color: #DDD;\n",
              "  }\n",
              "\n",
              "  [theme=dark] .colab-df-quickchart {\n",
              "      --bg-color: #3B4455;\n",
              "      --fill-color: #D2E3FC;\n",
              "      --hover-bg-color: #434B5C;\n",
              "      --hover-fill-color: #FFFFFF;\n",
              "      --disabled-bg-color: #3B4455;\n",
              "      --disabled-fill-color: #666;\n",
              "  }\n",
              "\n",
              "  .colab-df-quickchart {\n",
              "    background-color: var(--bg-color);\n",
              "    border: none;\n",
              "    border-radius: 50%;\n",
              "    cursor: pointer;\n",
              "    display: none;\n",
              "    fill: var(--fill-color);\n",
              "    height: 32px;\n",
              "    padding: 0;\n",
              "    width: 32px;\n",
              "  }\n",
              "\n",
              "  .colab-df-quickchart:hover {\n",
              "    background-color: var(--hover-bg-color);\n",
              "    box-shadow: 0 1px 2px rgba(60, 64, 67, 0.3), 0 1px 3px 1px rgba(60, 64, 67, 0.15);\n",
              "    fill: var(--button-hover-fill-color);\n",
              "  }\n",
              "\n",
              "  .colab-df-quickchart-complete:disabled,\n",
              "  .colab-df-quickchart-complete:disabled:hover {\n",
              "    background-color: var(--disabled-bg-color);\n",
              "    fill: var(--disabled-fill-color);\n",
              "    box-shadow: none;\n",
              "  }\n",
              "\n",
              "  .colab-df-spinner {\n",
              "    border: 2px solid var(--fill-color);\n",
              "    border-color: transparent;\n",
              "    border-bottom-color: var(--fill-color);\n",
              "    animation:\n",
              "      spin 1s steps(1) infinite;\n",
              "  }\n",
              "\n",
              "  @keyframes spin {\n",
              "    0% {\n",
              "      border-color: transparent;\n",
              "      border-bottom-color: var(--fill-color);\n",
              "      border-left-color: var(--fill-color);\n",
              "    }\n",
              "    20% {\n",
              "      border-color: transparent;\n",
              "      border-left-color: var(--fill-color);\n",
              "      border-top-color: var(--fill-color);\n",
              "    }\n",
              "    30% {\n",
              "      border-color: transparent;\n",
              "      border-left-color: var(--fill-color);\n",
              "      border-top-color: var(--fill-color);\n",
              "      border-right-color: var(--fill-color);\n",
              "    }\n",
              "    40% {\n",
              "      border-color: transparent;\n",
              "      border-right-color: var(--fill-color);\n",
              "      border-top-color: var(--fill-color);\n",
              "    }\n",
              "    60% {\n",
              "      border-color: transparent;\n",
              "      border-right-color: var(--fill-color);\n",
              "    }\n",
              "    80% {\n",
              "      border-color: transparent;\n",
              "      border-right-color: var(--fill-color);\n",
              "      border-bottom-color: var(--fill-color);\n",
              "    }\n",
              "    90% {\n",
              "      border-color: transparent;\n",
              "      border-bottom-color: var(--fill-color);\n",
              "    }\n",
              "  }\n",
              "</style>\n",
              "\n",
              "  <script>\n",
              "    async function quickchart(key) {\n",
              "      const quickchartButtonEl =\n",
              "        document.querySelector('#' + key + ' button');\n",
              "      quickchartButtonEl.disabled = true;  // To prevent multiple clicks.\n",
              "      quickchartButtonEl.classList.add('colab-df-spinner');\n",
              "      try {\n",
              "        const charts = await google.colab.kernel.invokeFunction(\n",
              "            'suggestCharts', [key], {});\n",
              "      } catch (error) {\n",
              "        console.error('Error during call to suggestCharts:', error);\n",
              "      }\n",
              "      quickchartButtonEl.classList.remove('colab-df-spinner');\n",
              "      quickchartButtonEl.classList.add('colab-df-quickchart-complete');\n",
              "    }\n",
              "    (() => {\n",
              "      let quickchartButtonEl =\n",
              "        document.querySelector('#df-1e4d507b-caa7-4623-af84-13495a4de242 button');\n",
              "      quickchartButtonEl.style.display =\n",
              "        google.colab.kernel.accessAllowed ? 'block' : 'none';\n",
              "    })();\n",
              "  </script>\n",
              "</div>\n",
              "\n",
              "    </div>\n",
              "  </div>\n"
            ],
            "application/vnd.google.colaboratory.intrinsic+json": {
              "type": "dataframe",
              "variable_name": "df",
              "summary": "{\n  \"name\": \"df\",\n  \"rows\": 4,\n  \"fields\": [\n    {\n      \"column\": \"cgpa\",\n      \"properties\": {\n        \"dtype\": \"number\",\n        \"std\": 1,\n        \"min\": 5,\n        \"max\": 8,\n        \"num_unique_values\": 4,\n        \"samples\": [\n          7,\n          5,\n          8\n        ],\n        \"semantic_type\": \"\",\n        \"description\": \"\"\n      }\n    },\n    {\n      \"column\": \"profile_score\",\n      \"properties\": {\n        \"dtype\": \"number\",\n        \"std\": 2,\n        \"min\": 5,\n        \"max\": 10,\n        \"num_unique_values\": 4,\n        \"samples\": [\n          9,\n          5,\n          8\n        ],\n        \"semantic_type\": \"\",\n        \"description\": \"\"\n      }\n    },\n    {\n      \"column\": \"placed\",\n      \"properties\": {\n        \"dtype\": \"number\",\n        \"std\": 0,\n        \"min\": 0,\n        \"max\": 1,\n        \"num_unique_values\": 2,\n        \"samples\": [\n          0,\n          1\n        ],\n        \"semantic_type\": \"\",\n        \"description\": \"\"\n      }\n    }\n  ]\n}"
            }
          },
          "metadata": {},
          "execution_count": 23
        }
      ]
    },
    {
      "cell_type": "code",
      "source": [
        "X=df[['cgpa','profile_score']]\n",
        "Y=df['placed']"
      ],
      "metadata": {
        "id": "IfCYRBk9cREv"
      },
      "execution_count": null,
      "outputs": []
    },
    {
      "cell_type": "code",
      "source": [
        "import tensorflow\n",
        "from tensorflow import keras\n",
        "from tensorflow.keras import Sequential\n",
        "from tensorflow.keras.layers import Dense,Flatten"
      ],
      "metadata": {
        "id": "-mmtBXiacnOt"
      },
      "execution_count": null,
      "outputs": []
    },
    {
      "cell_type": "code",
      "source": [
        "model = Sequential()\n",
        "model.add(Dense(128,activation='relu',input_dim=2))\n",
        "model.add(Dense(32,activation='relu'))\n",
        "model.add(Dense(1,activation='sigmoid'))"
      ],
      "metadata": {
        "id": "-tI_CfLyc2hm",
        "outputId": "70cae18d-a037-4c54-ac65-cbd9b1bd1022",
        "colab": {
          "base_uri": "https://localhost:8080/"
        }
      },
      "execution_count": null,
      "outputs": [
        {
          "output_type": "stream",
          "name": "stderr",
          "text": [
            "/usr/local/lib/python3.10/dist-packages/keras/src/layers/core/dense.py:87: UserWarning: Do not pass an `input_shape`/`input_dim` argument to a layer. When using Sequential models, prefer using an `Input(shape)` object as the first layer in the model instead.\n",
            "  super().__init__(activity_regularizer=activity_regularizer, **kwargs)\n"
          ]
        }
      ]
    },
    {
      "cell_type": "code",
      "source": [
        "model.summary()"
      ],
      "metadata": {
        "id": "qev3Hnr-c8iN",
        "outputId": "955e05dd-b926-4f31-abf2-fcbed29c0be0",
        "colab": {
          "base_uri": "https://localhost:8080/",
          "height": 238
        }
      },
      "execution_count": null,
      "outputs": [
        {
          "output_type": "display_data",
          "data": {
            "text/plain": [
              "\u001b[1mModel: \"sequential_3\"\u001b[0m\n"
            ],
            "text/html": [
              "<pre style=\"white-space:pre;overflow-x:auto;line-height:normal;font-family:Menlo,'DejaVu Sans Mono',consolas,'Courier New',monospace\"><span style=\"font-weight: bold\">Model: \"sequential_3\"</span>\n",
              "</pre>\n"
            ]
          },
          "metadata": {}
        },
        {
          "output_type": "display_data",
          "data": {
            "text/plain": [
              "┏━━━━━━━━━━━━━━━━━━━━━━━━━━━━━━━━━━━━━━┳━━━━━━━━━━━━━━━━━━━━━━━━━━━━━┳━━━━━━━━━━━━━━━━━┓\n",
              "┃\u001b[1m \u001b[0m\u001b[1mLayer (type)                        \u001b[0m\u001b[1m \u001b[0m┃\u001b[1m \u001b[0m\u001b[1mOutput Shape               \u001b[0m\u001b[1m \u001b[0m┃\u001b[1m \u001b[0m\u001b[1m        Param #\u001b[0m\u001b[1m \u001b[0m┃\n",
              "┡━━━━━━━━━━━━━━━━━━━━━━━━━━━━━━━━━━━━━━╇━━━━━━━━━━━━━━━━━━━━━━━━━━━━━╇━━━━━━━━━━━━━━━━━┩\n",
              "│ dense_7 (\u001b[38;5;33mDense\u001b[0m)                      │ (\u001b[38;5;45mNone\u001b[0m, \u001b[38;5;34m128\u001b[0m)                 │             \u001b[38;5;34m384\u001b[0m │\n",
              "├──────────────────────────────────────┼─────────────────────────────┼─────────────────┤\n",
              "│ dense_8 (\u001b[38;5;33mDense\u001b[0m)                      │ (\u001b[38;5;45mNone\u001b[0m, \u001b[38;5;34m32\u001b[0m)                  │           \u001b[38;5;34m4,128\u001b[0m │\n",
              "├──────────────────────────────────────┼─────────────────────────────┼─────────────────┤\n",
              "│ dense_9 (\u001b[38;5;33mDense\u001b[0m)                      │ (\u001b[38;5;45mNone\u001b[0m, \u001b[38;5;34m1\u001b[0m)                   │              \u001b[38;5;34m33\u001b[0m │\n",
              "└──────────────────────────────────────┴─────────────────────────────┴─────────────────┘\n"
            ],
            "text/html": [
              "<pre style=\"white-space:pre;overflow-x:auto;line-height:normal;font-family:Menlo,'DejaVu Sans Mono',consolas,'Courier New',monospace\">┏━━━━━━━━━━━━━━━━━━━━━━━━━━━━━━━━━━━━━━┳━━━━━━━━━━━━━━━━━━━━━━━━━━━━━┳━━━━━━━━━━━━━━━━━┓\n",
              "┃<span style=\"font-weight: bold\"> Layer (type)                         </span>┃<span style=\"font-weight: bold\"> Output Shape                </span>┃<span style=\"font-weight: bold\">         Param # </span>┃\n",
              "┡━━━━━━━━━━━━━━━━━━━━━━━━━━━━━━━━━━━━━━╇━━━━━━━━━━━━━━━━━━━━━━━━━━━━━╇━━━━━━━━━━━━━━━━━┩\n",
              "│ dense_7 (<span style=\"color: #0087ff; text-decoration-color: #0087ff\">Dense</span>)                      │ (<span style=\"color: #00d7ff; text-decoration-color: #00d7ff\">None</span>, <span style=\"color: #00af00; text-decoration-color: #00af00\">128</span>)                 │             <span style=\"color: #00af00; text-decoration-color: #00af00\">384</span> │\n",
              "├──────────────────────────────────────┼─────────────────────────────┼─────────────────┤\n",
              "│ dense_8 (<span style=\"color: #0087ff; text-decoration-color: #0087ff\">Dense</span>)                      │ (<span style=\"color: #00d7ff; text-decoration-color: #00d7ff\">None</span>, <span style=\"color: #00af00; text-decoration-color: #00af00\">32</span>)                  │           <span style=\"color: #00af00; text-decoration-color: #00af00\">4,128</span> │\n",
              "├──────────────────────────────────────┼─────────────────────────────┼─────────────────┤\n",
              "│ dense_9 (<span style=\"color: #0087ff; text-decoration-color: #0087ff\">Dense</span>)                      │ (<span style=\"color: #00d7ff; text-decoration-color: #00d7ff\">None</span>, <span style=\"color: #00af00; text-decoration-color: #00af00\">1</span>)                   │              <span style=\"color: #00af00; text-decoration-color: #00af00\">33</span> │\n",
              "└──────────────────────────────────────┴─────────────────────────────┴─────────────────┘\n",
              "</pre>\n"
            ]
          },
          "metadata": {}
        },
        {
          "output_type": "display_data",
          "data": {
            "text/plain": [
              "\u001b[1m Total params: \u001b[0m\u001b[38;5;34m4,545\u001b[0m (17.75 KB)\n"
            ],
            "text/html": [
              "<pre style=\"white-space:pre;overflow-x:auto;line-height:normal;font-family:Menlo,'DejaVu Sans Mono',consolas,'Courier New',monospace\"><span style=\"font-weight: bold\"> Total params: </span><span style=\"color: #00af00; text-decoration-color: #00af00\">4,545</span> (17.75 KB)\n",
              "</pre>\n"
            ]
          },
          "metadata": {}
        },
        {
          "output_type": "display_data",
          "data": {
            "text/plain": [
              "\u001b[1m Trainable params: \u001b[0m\u001b[38;5;34m4,545\u001b[0m (17.75 KB)\n"
            ],
            "text/html": [
              "<pre style=\"white-space:pre;overflow-x:auto;line-height:normal;font-family:Menlo,'DejaVu Sans Mono',consolas,'Courier New',monospace\"><span style=\"font-weight: bold\"> Trainable params: </span><span style=\"color: #00af00; text-decoration-color: #00af00\">4,545</span> (17.75 KB)\n",
              "</pre>\n"
            ]
          },
          "metadata": {}
        },
        {
          "output_type": "display_data",
          "data": {
            "text/plain": [
              "\u001b[1m Non-trainable params: \u001b[0m\u001b[38;5;34m0\u001b[0m (0.00 B)\n"
            ],
            "text/html": [
              "<pre style=\"white-space:pre;overflow-x:auto;line-height:normal;font-family:Menlo,'DejaVu Sans Mono',consolas,'Courier New',monospace\"><span style=\"font-weight: bold\"> Non-trainable params: </span><span style=\"color: #00af00; text-decoration-color: #00af00\">0</span> (0.00 B)\n",
              "</pre>\n"
            ]
          },
          "metadata": {}
        }
      ]
    },
    {
      "cell_type": "code",
      "source": [
        "model.compile(loss='binary_crossentropy',optimizer='Adam',metrics=['accuracy'])"
      ],
      "metadata": {
        "id": "1hfSmXtxdM_X"
      },
      "execution_count": null,
      "outputs": []
    },
    {
      "cell_type": "markdown",
      "source": [
        "#Initially weights are initualized different by keras.\n"
      ],
      "metadata": {
        "id": "oUkJlGLAeGT6"
      }
    },
    {
      "cell_type": "code",
      "source": [
        "model.get_weights()"
      ],
      "metadata": {
        "id": "4W-LdH2ld5kh",
        "outputId": "359cabc3-50aa-476c-bbe9-fac0e7edad82",
        "colab": {
          "base_uri": "https://localhost:8080/"
        }
      },
      "execution_count": null,
      "outputs": [
        {
          "output_type": "execute_result",
          "data": {
            "text/plain": [
              "[array([[ 0.05064286, -0.09520856, -0.15338212, -0.06665921, -0.1983828 ,\n",
              "         -0.1836638 ,  0.05548577, -0.10143288, -0.05101079, -0.01323867,\n",
              "          0.2004837 ,  0.15648206,  0.1246223 , -0.17205918, -0.09553878,\n",
              "         -0.10556351, -0.07462816,  0.19484879,  0.05716269, -0.06960496,\n",
              "          0.08516611,  0.10900037,  0.00249782, -0.02323583,  0.02397023,\n",
              "          0.11828367, -0.14225739,  0.1424203 , -0.11601337, -0.11936662,\n",
              "         -0.01472513,  0.08521052,  0.07619135,  0.05814759, -0.00824922,\n",
              "         -0.07932241, -0.09084186, -0.17342374, -0.01920554, -0.1521152 ,\n",
              "         -0.07594472,  0.15878962,  0.07935627, -0.12917131, -0.00230037,\n",
              "          0.00211817, -0.1832607 , -0.21023604,  0.10415249, -0.00774209,\n",
              "         -0.18550405,  0.1134678 , -0.10382862, -0.00067386, -0.17554787,\n",
              "          0.18919171, -0.17407471, -0.21341786, -0.15701745,  0.13662799,\n",
              "         -0.12312596,  0.06831409,  0.0743175 , -0.02621953,  0.01755999,\n",
              "          0.1701235 ,  0.16007476,  0.08236404,  0.1554917 , -0.12152839,\n",
              "          0.02452086,  0.21429138,  0.05637012, -0.13177808, -0.1349071 ,\n",
              "          0.20618953, -0.19050923, -0.08280419,  0.05133568,  0.10854848,\n",
              "          0.15401737,  0.06798162,  0.13644423,  0.11961909,  0.11972426,\n",
              "         -0.11517904, -0.16597536, -0.00349088, -0.21438126, -0.08094135,\n",
              "         -0.10955042, -0.00461584, -0.08782621,  0.05428515, -0.12813011,\n",
              "         -0.17863554, -0.20878947,  0.08765124, -0.18038774, -0.17076237,\n",
              "          0.17997082, -0.12692308, -0.03013611, -0.2128781 ,  0.0998279 ,\n",
              "          0.15315823,  0.03982703,  0.18844832,  0.03725488, -0.04387684,\n",
              "          0.16607802, -0.02819367,  0.03482176, -0.00501905,  0.08549987,\n",
              "         -0.19988237, -0.07879111,  0.20911734,  0.18727742, -0.00715464,\n",
              "          0.03377031,  0.09044351, -0.11464701, -0.01274008,  0.19909556,\n",
              "          0.20297675,  0.00574197,  0.11208875],\n",
              "        [ 0.20964845,  0.16332622,  0.1478569 ,  0.08677755,  0.09622304,\n",
              "         -0.11241805, -0.05702581,  0.14145444, -0.17732915,  0.07305701,\n",
              "         -0.01106051, -0.06963247, -0.11463118,  0.1372072 ,  0.1904958 ,\n",
              "         -0.01477416,  0.15243454,  0.06520538,  0.16758876,  0.1705467 ,\n",
              "         -0.13333169,  0.02581069, -0.07058732, -0.00658804, -0.03876343,\n",
              "          0.07162468,  0.13063924,  0.00952794,  0.19231127,  0.13621874,\n",
              "         -0.18066627,  0.10838474,  0.13144632,  0.13444887,  0.06929667,\n",
              "          0.03109787, -0.17661376,  0.09909825,  0.13150845, -0.19967519,\n",
              "          0.11394374,  0.09214436, -0.02092491, -0.1520612 ,  0.0685996 ,\n",
              "         -0.19026029,  0.16538669,  0.01953433,  0.15365492,  0.03317328,\n",
              "          0.132908  , -0.12922606, -0.04119533, -0.03438476, -0.13624594,\n",
              "          0.02127035,  0.10243912,  0.07732759, -0.01241745, -0.14217405,\n",
              "          0.14459534, -0.15862234, -0.20449223,  0.05628972,  0.04370703,\n",
              "          0.11820872,  0.03515674, -0.07393566,  0.12492962,  0.17233594,\n",
              "          0.14471506,  0.19833742, -0.05801672, -0.00548033,  0.05080445,\n",
              "          0.07043023,  0.04726906, -0.00051308, -0.02037415, -0.18807542,\n",
              "          0.15132494, -0.08573414,  0.01209782,  0.1465453 , -0.175713  ,\n",
              "         -0.05318402,  0.09422697, -0.13774127, -0.05205266,  0.05769123,\n",
              "          0.03321104, -0.10129955, -0.03423984,  0.07995515,  0.06140025,\n",
              "          0.06294189, -0.08450378,  0.20393725,  0.09033461, -0.11613184,\n",
              "          0.04681377, -0.07788624, -0.18885188,  0.1738667 ,  0.06504981,\n",
              "          0.08032136, -0.02660435, -0.12634951,  0.16740067,  0.00840282,\n",
              "          0.17119063, -0.04989146,  0.0014098 , -0.01395826, -0.07713443,\n",
              "         -0.02625908, -0.10590731,  0.01835549, -0.09078705,  0.20496185,\n",
              "         -0.14236894, -0.03264059, -0.06331897, -0.04603614, -0.19384235,\n",
              "         -0.16717821,  0.03303847, -0.20063327]], dtype=float32),\n",
              " array([0., 0., 0., 0., 0., 0., 0., 0., 0., 0., 0., 0., 0., 0., 0., 0., 0.,\n",
              "        0., 0., 0., 0., 0., 0., 0., 0., 0., 0., 0., 0., 0., 0., 0., 0., 0.,\n",
              "        0., 0., 0., 0., 0., 0., 0., 0., 0., 0., 0., 0., 0., 0., 0., 0., 0.,\n",
              "        0., 0., 0., 0., 0., 0., 0., 0., 0., 0., 0., 0., 0., 0., 0., 0., 0.,\n",
              "        0., 0., 0., 0., 0., 0., 0., 0., 0., 0., 0., 0., 0., 0., 0., 0., 0.,\n",
              "        0., 0., 0., 0., 0., 0., 0., 0., 0., 0., 0., 0., 0., 0., 0., 0., 0.,\n",
              "        0., 0., 0., 0., 0., 0., 0., 0., 0., 0., 0., 0., 0., 0., 0., 0., 0.,\n",
              "        0., 0., 0., 0., 0., 0., 0., 0., 0.], dtype=float32),\n",
              " array([[-0.11533391, -0.04154721,  0.09050798, ...,  0.03021027,\n",
              "          0.12695158,  0.1627928 ],\n",
              "        [-0.08622844,  0.09495464, -0.07378104, ...,  0.03144905,\n",
              "         -0.03312293, -0.12482998],\n",
              "        [ 0.17269266, -0.17480275,  0.19236627, ..., -0.11212758,\n",
              "          0.07260838, -0.14853182],\n",
              "        ...,\n",
              "        [-0.04479195,  0.00918986, -0.12001584, ..., -0.136727  ,\n",
              "         -0.03950521,  0.1851598 ],\n",
              "        [ 0.05465013, -0.15954423, -0.16187473, ...,  0.00757237,\n",
              "         -0.0497791 ,  0.17395657],\n",
              "        [-0.19318563, -0.15572923, -0.17749237, ...,  0.14511228,\n",
              "         -0.15569834,  0.01952751]], dtype=float32),\n",
              " array([0., 0., 0., 0., 0., 0., 0., 0., 0., 0., 0., 0., 0., 0., 0., 0., 0.,\n",
              "        0., 0., 0., 0., 0., 0., 0., 0., 0., 0., 0., 0., 0., 0., 0.],\n",
              "       dtype=float32),\n",
              " array([[ 0.14813447],\n",
              "        [ 0.0248774 ],\n",
              "        [-0.22391336],\n",
              "        [ 0.19267488],\n",
              "        [ 0.18371111],\n",
              "        [-0.199456  ],\n",
              "        [ 0.36039817],\n",
              "        [-0.17252311],\n",
              "        [ 0.3150602 ],\n",
              "        [-0.02657121],\n",
              "        [ 0.12739778],\n",
              "        [-0.05600175],\n",
              "        [ 0.3287813 ],\n",
              "        [-0.34820485],\n",
              "        [ 0.00080669],\n",
              "        [-0.38008443],\n",
              "        [-0.09447664],\n",
              "        [ 0.35934854],\n",
              "        [-0.05910376],\n",
              "        [-0.1761255 ],\n",
              "        [ 0.3128478 ],\n",
              "        [-0.34293497],\n",
              "        [-0.20808336],\n",
              "        [-0.33397266],\n",
              "        [ 0.06060144],\n",
              "        [-0.11093757],\n",
              "        [-0.27519542],\n",
              "        [ 0.39874965],\n",
              "        [-0.3280309 ],\n",
              "        [ 0.27471548],\n",
              "        [ 0.26498348],\n",
              "        [ 0.25126928]], dtype=float32),\n",
              " array([0.], dtype=float32)]"
            ]
          },
          "metadata": {},
          "execution_count": 29
        }
      ]
    },
    {
      "cell_type": "code",
      "source": [
        "history = model.fit(X,Y,epochs=5)"
      ],
      "metadata": {
        "id": "3YhX6ITAdUo5",
        "outputId": "e095ce50-d78a-45f6-e832-ff7030cada42",
        "colab": {
          "base_uri": "https://localhost:8080/"
        }
      },
      "execution_count": null,
      "outputs": [
        {
          "output_type": "stream",
          "name": "stdout",
          "text": [
            "Epoch 1/5\n",
            "\u001b[1m1/1\u001b[0m \u001b[32m━━━━━━━━━━━━━━━━━━━━\u001b[0m\u001b[37m\u001b[0m \u001b[1m2s\u001b[0m 2s/step - accuracy: 0.5000 - loss: 0.6687\n",
            "Epoch 2/5\n",
            "\u001b[1m1/1\u001b[0m \u001b[32m━━━━━━━━━━━━━━━━━━━━\u001b[0m\u001b[37m\u001b[0m \u001b[1m0s\u001b[0m 56ms/step - accuracy: 0.7500 - loss: 0.6563\n",
            "Epoch 3/5\n",
            "\u001b[1m1/1\u001b[0m \u001b[32m━━━━━━━━━━━━━━━━━━━━\u001b[0m\u001b[37m\u001b[0m \u001b[1m0s\u001b[0m 30ms/step - accuracy: 0.7500 - loss: 0.6538\n",
            "Epoch 4/5\n",
            "\u001b[1m1/1\u001b[0m \u001b[32m━━━━━━━━━━━━━━━━━━━━\u001b[0m\u001b[37m\u001b[0m \u001b[1m0s\u001b[0m 30ms/step - accuracy: 0.7500 - loss: 0.6488\n",
            "Epoch 5/5\n",
            "\u001b[1m1/1\u001b[0m \u001b[32m━━━━━━━━━━━━━━━━━━━━\u001b[0m\u001b[37m\u001b[0m \u001b[1m0s\u001b[0m 29ms/step - accuracy: 0.7500 - loss: 0.6438\n"
          ]
        }
      ]
    },
    {
      "cell_type": "markdown",
      "source": [
        "#After applying backprop weights are getting upadted"
      ],
      "metadata": {
        "id": "90R8QBLkePQf"
      }
    },
    {
      "cell_type": "code",
      "source": [
        "model.get_weights()"
      ],
      "metadata": {
        "id": "tZ9GOZw9dlPG",
        "outputId": "6906e00b-1a5c-4c18-f20f-bcffd57b3a66",
        "colab": {
          "base_uri": "https://localhost:8080/"
        }
      },
      "execution_count": null,
      "outputs": [
        {
          "output_type": "execute_result",
          "data": {
            "text/plain": [
              "[array([[ 0.04950618, -0.09902949, -0.15325968, -0.0656282 , -0.1983828 ,\n",
              "         -0.1836638 ,  0.05548577, -0.09678528, -0.05101079, -0.01591531,\n",
              "          0.20194298,  0.15775791,  0.12925883, -0.17610402, -0.09462612,\n",
              "         -0.10556351, -0.07121474,  0.19228359,  0.05228465, -0.0700819 ,\n",
              "          0.08516611,  0.10926546,  0.00249782, -0.02323583,  0.02397023,\n",
              "          0.11815027, -0.14407243,  0.14351691, -0.11771973, -0.11911435,\n",
              "         -0.01472513,  0.08518592,  0.07454067,  0.05917865, -0.00415683,\n",
              "         -0.07932241, -0.09084186, -0.17342374, -0.02059465, -0.1521152 ,\n",
              "         -0.0725647 ,  0.15906326,  0.0838367 , -0.12917131, -0.00313107,\n",
              "          0.00211817, -0.18213461, -0.21023604,  0.10885403, -0.00297825,\n",
              "         -0.19044147,  0.1134678 , -0.10382862, -0.00067386, -0.17554787,\n",
              "          0.19033867, -0.17407471, -0.21341786, -0.15701745,  0.13662799,\n",
              "         -0.11825041,  0.06831409,  0.0743175 , -0.02682384,  0.01942033,\n",
              "          0.16902289,  0.15564774,  0.08455558,  0.15930526, -0.12041859,\n",
              "          0.02763711,  0.21293908,  0.05637012, -0.13177808, -0.1349071 ,\n",
              "          0.20804153, -0.19050923, -0.08280419,  0.05401788,  0.10854848,\n",
              "          0.15482308,  0.06798162,  0.13948041,  0.117017  ,  0.11972426,\n",
              "         -0.11517904, -0.16597536, -0.00349088, -0.21438126, -0.07671491,\n",
              "         -0.10955042, -0.00461584, -0.08782621,  0.05828027, -0.12813011,\n",
              "         -0.17863554, -0.20878947,  0.09082476, -0.18038774, -0.17076237,\n",
              "          0.1789856 , -0.12692308, -0.03013611, -0.21182911,  0.10030629,\n",
              "          0.15761015,  0.03546768,  0.18396856,  0.03833063, -0.04387684,\n",
              "          0.1612069 , -0.02819367,  0.03516998, -0.00501905,  0.09007144,\n",
              "         -0.19988237, -0.07879111,  0.20567608,  0.18514903, -0.00681454,\n",
              "          0.03377031,  0.09019375, -0.11464701, -0.01274008,  0.1945743 ,\n",
              "          0.20761187,  0.00912009,  0.11208875],\n",
              "        [ 0.21202497,  0.16154584,  0.14517136,  0.08979229,  0.09622304,\n",
              "         -0.11241805, -0.05702581,  0.1455385 , -0.17732915,  0.06918523,\n",
              "         -0.01192129, -0.07250363, -0.10999465,  0.13283277,  0.1912492 ,\n",
              "         -0.01477416,  0.15629648,  0.06194423,  0.16839612,  0.1724998 ,\n",
              "         -0.13333169,  0.02894361, -0.07058732, -0.00658804, -0.03876343,\n",
              "          0.06941948,  0.12683411,  0.00708462,  0.19299476,  0.13860126,\n",
              "         -0.18066627,  0.10490265,  0.13311209,  0.13344437,  0.06879352,\n",
              "          0.03109787, -0.17661376,  0.09909825,  0.13390677, -0.19967519,\n",
              "          0.1155961 ,  0.0946015 , -0.02164825, -0.1520612 ,  0.07064694,\n",
              "         -0.19026029,  0.1689513 ,  0.01953433,  0.15788306,  0.03481095,\n",
              "          0.12797055, -0.12922606, -0.04119533, -0.03438476, -0.13624594,\n",
              "          0.01789381,  0.10243912,  0.07732759, -0.01241745, -0.14217405,\n",
              "          0.14286445, -0.15862234, -0.20449223,  0.05873306,  0.04285334,\n",
              "          0.11499059,  0.03302364, -0.07174411,  0.1287545 ,  0.17469445,\n",
              "          0.14857349,  0.19545797, -0.05801672, -0.00548033,  0.05080445,\n",
              "          0.06852601,  0.04726906, -0.00051308, -0.01844049, -0.18807542,\n",
              "          0.15178661, -0.08573414,  0.0159766 ,  0.14408578, -0.175713  ,\n",
              "         -0.05318402,  0.09422697, -0.13774127, -0.05205266,  0.06219338,\n",
              "          0.03321104, -0.10129955, -0.03423984,  0.08213606,  0.06140025,\n",
              "          0.06294189, -0.08450378,  0.20676522,  0.09033461, -0.11613184,\n",
              "          0.04691555, -0.07788624, -0.18885188,  0.17776217,  0.06288871,\n",
              "          0.08042466, -0.03095598, -0.1308299 ,  0.17007518,  0.00840282,\n",
              "          0.17023386, -0.04989146, -0.0016234 , -0.01395826, -0.07256286,\n",
              "         -0.02625908, -0.10590731,  0.01443631, -0.08894885,  0.20700677,\n",
              "         -0.14236894, -0.03370637, -0.06331897, -0.04603614, -0.19836362,\n",
              "         -0.16254309,  0.03645074, -0.20063327]], dtype=float32),\n",
              " array([ 4.0456946e-03,  4.3610707e-03, -1.6488574e-03,  3.1466954e-03,\n",
              "         0.0000000e+00,  0.0000000e+00,  0.0000000e+00, -2.7489439e-03,\n",
              "         0.0000000e+00, -3.7909651e-03, -2.9634847e-03, -4.3228278e-03,\n",
              "        -4.8355288e-03, -4.2712586e-03,  6.1109371e-05,  0.0000000e+00,\n",
              "         2.4227290e-03, -2.2855189e-03,  4.7852900e-03,  3.3777610e-03,\n",
              "         0.0000000e+00,  3.8556033e-03,  0.0000000e+00,  0.0000000e+00,\n",
              "         0.0000000e+00, -3.0469748e-03, -3.2152091e-03, -4.0686447e-03,\n",
              "         3.0893649e-03,  3.1777062e-03,  0.0000000e+00, -4.3046661e-03,\n",
              "         3.9860643e-03, -2.5505386e-03, -2.2377798e-03,  0.0000000e+00,\n",
              "         0.0000000e+00,  0.0000000e+00,  4.2296764e-03,  0.0000000e+00,\n",
              "        -4.3927189e-03,  3.1904068e-03, -4.2738793e-03,  0.0000000e+00,\n",
              "         3.6445032e-03,  0.0000000e+00,  2.7733934e-03,  0.0000000e+00,\n",
              "        -3.4126979e-03, -3.8882499e-03, -4.9369498e-03,  0.0000000e+00,\n",
              "         0.0000000e+00,  0.0000000e+00,  0.0000000e+00, -4.4836439e-03,\n",
              "         0.0000000e+00,  0.0000000e+00,  0.0000000e+00,  0.0000000e+00,\n",
              "        -4.7764950e-03,  0.0000000e+00,  0.0000000e+00,  3.8140116e-03,\n",
              "        -3.4838682e-03, -3.5100575e-03,  4.7724675e-03, -8.6519367e-04,\n",
              "         2.9450301e-03,  2.1982642e-03,  3.8146498e-03, -2.9063202e-03,\n",
              "         0.0000000e+00,  0.0000000e+00,  0.0000000e+00, -4.2090933e-03,\n",
              "         0.0000000e+00,  0.0000000e+00, -5.6907826e-04,  0.0000000e+00,\n",
              "        -1.2974667e-03,  0.0000000e+00,  3.4098583e-03, -6.2685838e-05,\n",
              "         0.0000000e+00,  0.0000000e+00,  0.0000000e+00,  0.0000000e+00,\n",
              "         0.0000000e+00,  4.4017979e-03,  0.0000000e+00,  0.0000000e+00,\n",
              "         0.0000000e+00, -4.5079729e-03,  0.0000000e+00,  0.0000000e+00,\n",
              "         0.0000000e+00, -5.7174306e-04,  0.0000000e+00,  0.0000000e+00,\n",
              "         6.6856749e-04,  0.0000000e+00,  0.0000000e+00,  3.0869790e-03,\n",
              "        -3.4656676e-03, -3.2576171e-03, -4.0566288e-03, -4.4300784e-03,\n",
              "         2.6388215e-03,  0.0000000e+00,  4.5865397e-03,  0.0000000e+00,\n",
              "        -4.0607089e-03,  0.0000000e+00, -4.9417578e-03,  0.0000000e+00,\n",
              "         0.0000000e+00, -3.5680197e-03,  4.3286472e-03,  2.5034160e-03,\n",
              "         0.0000000e+00, -1.1329303e-03,  0.0000000e+00,  0.0000000e+00,\n",
              "         4.6120677e-03, -4.8454986e-03,  1.8425849e-03,  0.0000000e+00],\n",
              "       dtype=float32),\n",
              " array([[-0.11666508, -0.03692869,  0.09181319, ...,  0.03021027,\n",
              "          0.12562814,  0.16147189],\n",
              "        [-0.09031176,  0.09930934, -0.0696839 , ...,  0.03144905,\n",
              "         -0.03721087, -0.12891914],\n",
              "        [ 0.16785188, -0.17151982,  0.19721757, ..., -0.11212758,\n",
              "          0.0677638 , -0.15337752],\n",
              "        ...,\n",
              "        [-0.04017931,  0.01368184, -0.12463537, ..., -0.136727  ,\n",
              "         -0.03488148,  0.18978325],\n",
              "        [ 0.0532969 , -0.15493618, -0.16054676, ...,  0.00757237,\n",
              "         -0.05112534,  0.17261301],\n",
              "        [-0.19318563, -0.15572923, -0.17749237, ...,  0.14511228,\n",
              "         -0.15569834,  0.01952751]], dtype=float32),\n",
              " array([-0.00424175,  0.00407713,  0.00425646,  0.        ,  0.        ,\n",
              "         0.004259  ,  0.        ,  0.        , -0.00425672,  0.00429013,\n",
              "        -0.00424836,  0.        , -0.00424788,  0.00424731, -0.00222958,\n",
              "         0.00283967,  0.00426058, -0.00160424,  0.00426727,  0.        ,\n",
              "         0.        ,  0.        ,  0.        ,  0.        ,  0.        ,\n",
              "         0.00426459,  0.        ,  0.        ,  0.        ,  0.        ,\n",
              "        -0.00424655, -0.00424792], dtype=float32),\n",
              " array([[ 1.44874543e-01],\n",
              "        [ 2.93482877e-02],\n",
              "        [-2.25450069e-01],\n",
              "        [ 1.92674875e-01],\n",
              "        [ 1.83711112e-01],\n",
              "        [-2.03855470e-01],\n",
              "        [ 3.60398173e-01],\n",
              "        [-1.72523111e-01],\n",
              "        [ 3.20007652e-01],\n",
              "        [-2.84873080e-02],\n",
              "        [ 1.29349738e-01],\n",
              "        [-5.60017526e-02],\n",
              "        [ 3.26532543e-01],\n",
              "        [-3.43617797e-01],\n",
              "        [ 2.79266154e-04],\n",
              "        [-3.85079503e-01],\n",
              "        [-9.49626490e-02],\n",
              "        [ 3.57750535e-01],\n",
              "        [-6.01943471e-02],\n",
              "        [-1.76125497e-01],\n",
              "        [ 3.12847793e-01],\n",
              "        [-3.42934966e-01],\n",
              "        [-2.08083361e-01],\n",
              "        [-3.33972663e-01],\n",
              "        [ 6.06014431e-02],\n",
              "        [-1.15433395e-01],\n",
              "        [-2.75195420e-01],\n",
              "        [ 3.98749650e-01],\n",
              "        [-3.28030914e-01],\n",
              "        [ 2.74715483e-01],\n",
              "        [ 2.62196869e-01],\n",
              "        [ 2.50987440e-01]], dtype=float32),\n",
              " array([-0.00425194], dtype=float32)]"
            ]
          },
          "metadata": {},
          "execution_count": 31
        }
      ]
    },
    {
      "cell_type": "markdown",
      "source": [
        "#Prediction on unseeen data"
      ],
      "metadata": {
        "id": "kbcq8FbseeLK"
      }
    },
    {
      "cell_type": "code",
      "source": [
        "prediction=model.predict(np.array([[9,9]]))\n",
        "prediction"
      ],
      "metadata": {
        "id": "6SSRBPivegwU",
        "outputId": "375ce8ee-82e4-44da-d332-ffae8838a499",
        "colab": {
          "base_uri": "https://localhost:8080/"
        }
      },
      "execution_count": null,
      "outputs": [
        {
          "output_type": "stream",
          "name": "stdout",
          "text": [
            "\u001b[1m1/1\u001b[0m \u001b[32m━━━━━━━━━━━━━━━━━━━━\u001b[0m\u001b[37m\u001b[0m \u001b[1m0s\u001b[0m 65ms/step\n"
          ]
        },
        {
          "output_type": "execute_result",
          "data": {
            "text/plain": [
              "array([[0.6463836]], dtype=float32)"
            ]
          },
          "metadata": {},
          "execution_count": 32
        }
      ]
    }
  ],
  "metadata": {
    "colab": {
      "toc_visible": true,
      "provenance": []
    },
    "kernelspec": {
      "display_name": "Python 3",
      "name": "python3"
    }
  },
  "nbformat": 4,
  "nbformat_minor": 0
}