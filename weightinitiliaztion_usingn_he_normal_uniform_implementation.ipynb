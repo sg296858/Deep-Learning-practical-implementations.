{
  "nbformat": 4,
  "nbformat_minor": 0,
  "metadata": {
    "colab": {
      "provenance": []
    },
    "kernelspec": {
      "name": "python3",
      "display_name": "Python 3"
    },
    "language_info": {
      "name": "python"
    }
  },
  "cells": [
    {
      "cell_type": "code",
      "execution_count": null,
      "metadata": {
        "id": "cKVzInXrteyO"
      },
      "outputs": [],
      "source": [
        "import numpy as np\n",
        "import pandas as pd\n",
        "import matplotlib.pyplot as plt"
      ]
    },
    {
      "cell_type": "code",
      "source": [
        "df = pd.read_csv('/content/ushape.csv')"
      ],
      "metadata": {
        "id": "l-CtLegnti3_"
      },
      "execution_count": null,
      "outputs": []
    },
    {
      "cell_type": "code",
      "source": [
        "df.head()"
      ],
      "metadata": {
        "colab": {
          "base_uri": "https://localhost:8080/",
          "height": 206
        },
        "id": "T9P8j9Ubtt9t",
        "outputId": "754fdce6-84aa-457f-c02f-5c1d1d0cee7c"
      },
      "execution_count": null,
      "outputs": [
        {
          "output_type": "execute_result",
          "data": {
            "text/plain": [
              "   3.159499363321345566e-02  9.869877579082642072e-01  \\\n",
              "0                  2.115098                 -0.046244   \n",
              "1                  0.882490                 -0.075756   \n",
              "2                 -0.055144                 -0.037332   \n",
              "3                  0.829545                 -0.539321   \n",
              "4                  2.112857                  0.662084   \n",
              "\n",
              "   0.000000000000000000e+00  \n",
              "0                       1.0  \n",
              "1                       0.0  \n",
              "2                       1.0  \n",
              "3                       1.0  \n",
              "4                       1.0  "
            ],
            "text/html": [
              "\n",
              "  <div id=\"df-eb5abe92-80ff-4b0f-9582-54dd6a452314\" class=\"colab-df-container\">\n",
              "    <div>\n",
              "<style scoped>\n",
              "    .dataframe tbody tr th:only-of-type {\n",
              "        vertical-align: middle;\n",
              "    }\n",
              "\n",
              "    .dataframe tbody tr th {\n",
              "        vertical-align: top;\n",
              "    }\n",
              "\n",
              "    .dataframe thead th {\n",
              "        text-align: right;\n",
              "    }\n",
              "</style>\n",
              "<table border=\"1\" class=\"dataframe\">\n",
              "  <thead>\n",
              "    <tr style=\"text-align: right;\">\n",
              "      <th></th>\n",
              "      <th>3.159499363321345566e-02</th>\n",
              "      <th>9.869877579082642072e-01</th>\n",
              "      <th>0.000000000000000000e+00</th>\n",
              "    </tr>\n",
              "  </thead>\n",
              "  <tbody>\n",
              "    <tr>\n",
              "      <th>0</th>\n",
              "      <td>2.115098</td>\n",
              "      <td>-0.046244</td>\n",
              "      <td>1.0</td>\n",
              "    </tr>\n",
              "    <tr>\n",
              "      <th>1</th>\n",
              "      <td>0.882490</td>\n",
              "      <td>-0.075756</td>\n",
              "      <td>0.0</td>\n",
              "    </tr>\n",
              "    <tr>\n",
              "      <th>2</th>\n",
              "      <td>-0.055144</td>\n",
              "      <td>-0.037332</td>\n",
              "      <td>1.0</td>\n",
              "    </tr>\n",
              "    <tr>\n",
              "      <th>3</th>\n",
              "      <td>0.829545</td>\n",
              "      <td>-0.539321</td>\n",
              "      <td>1.0</td>\n",
              "    </tr>\n",
              "    <tr>\n",
              "      <th>4</th>\n",
              "      <td>2.112857</td>\n",
              "      <td>0.662084</td>\n",
              "      <td>1.0</td>\n",
              "    </tr>\n",
              "  </tbody>\n",
              "</table>\n",
              "</div>\n",
              "    <div class=\"colab-df-buttons\">\n",
              "\n",
              "  <div class=\"colab-df-container\">\n",
              "    <button class=\"colab-df-convert\" onclick=\"convertToInteractive('df-eb5abe92-80ff-4b0f-9582-54dd6a452314')\"\n",
              "            title=\"Convert this dataframe to an interactive table.\"\n",
              "            style=\"display:none;\">\n",
              "\n",
              "  <svg xmlns=\"http://www.w3.org/2000/svg\" height=\"24px\" viewBox=\"0 -960 960 960\">\n",
              "    <path d=\"M120-120v-720h720v720H120Zm60-500h600v-160H180v160Zm220 220h160v-160H400v160Zm0 220h160v-160H400v160ZM180-400h160v-160H180v160Zm440 0h160v-160H620v160ZM180-180h160v-160H180v160Zm440 0h160v-160H620v160Z\"/>\n",
              "  </svg>\n",
              "    </button>\n",
              "\n",
              "  <style>\n",
              "    .colab-df-container {\n",
              "      display:flex;\n",
              "      gap: 12px;\n",
              "    }\n",
              "\n",
              "    .colab-df-convert {\n",
              "      background-color: #E8F0FE;\n",
              "      border: none;\n",
              "      border-radius: 50%;\n",
              "      cursor: pointer;\n",
              "      display: none;\n",
              "      fill: #1967D2;\n",
              "      height: 32px;\n",
              "      padding: 0 0 0 0;\n",
              "      width: 32px;\n",
              "    }\n",
              "\n",
              "    .colab-df-convert:hover {\n",
              "      background-color: #E2EBFA;\n",
              "      box-shadow: 0px 1px 2px rgba(60, 64, 67, 0.3), 0px 1px 3px 1px rgba(60, 64, 67, 0.15);\n",
              "      fill: #174EA6;\n",
              "    }\n",
              "\n",
              "    .colab-df-buttons div {\n",
              "      margin-bottom: 4px;\n",
              "    }\n",
              "\n",
              "    [theme=dark] .colab-df-convert {\n",
              "      background-color: #3B4455;\n",
              "      fill: #D2E3FC;\n",
              "    }\n",
              "\n",
              "    [theme=dark] .colab-df-convert:hover {\n",
              "      background-color: #434B5C;\n",
              "      box-shadow: 0px 1px 3px 1px rgba(0, 0, 0, 0.15);\n",
              "      filter: drop-shadow(0px 1px 2px rgba(0, 0, 0, 0.3));\n",
              "      fill: #FFFFFF;\n",
              "    }\n",
              "  </style>\n",
              "\n",
              "    <script>\n",
              "      const buttonEl =\n",
              "        document.querySelector('#df-eb5abe92-80ff-4b0f-9582-54dd6a452314 button.colab-df-convert');\n",
              "      buttonEl.style.display =\n",
              "        google.colab.kernel.accessAllowed ? 'block' : 'none';\n",
              "\n",
              "      async function convertToInteractive(key) {\n",
              "        const element = document.querySelector('#df-eb5abe92-80ff-4b0f-9582-54dd6a452314');\n",
              "        const dataTable =\n",
              "          await google.colab.kernel.invokeFunction('convertToInteractive',\n",
              "                                                    [key], {});\n",
              "        if (!dataTable) return;\n",
              "\n",
              "        const docLinkHtml = 'Like what you see? Visit the ' +\n",
              "          '<a target=\"_blank\" href=https://colab.research.google.com/notebooks/data_table.ipynb>data table notebook</a>'\n",
              "          + ' to learn more about interactive tables.';\n",
              "        element.innerHTML = '';\n",
              "        dataTable['output_type'] = 'display_data';\n",
              "        await google.colab.output.renderOutput(dataTable, element);\n",
              "        const docLink = document.createElement('div');\n",
              "        docLink.innerHTML = docLinkHtml;\n",
              "        element.appendChild(docLink);\n",
              "      }\n",
              "    </script>\n",
              "  </div>\n",
              "\n",
              "\n",
              "<div id=\"df-6b4ec8cb-a130-449e-ae42-f1a9367bde8b\">\n",
              "  <button class=\"colab-df-quickchart\" onclick=\"quickchart('df-6b4ec8cb-a130-449e-ae42-f1a9367bde8b')\"\n",
              "            title=\"Suggest charts\"\n",
              "            style=\"display:none;\">\n",
              "\n",
              "<svg xmlns=\"http://www.w3.org/2000/svg\" height=\"24px\"viewBox=\"0 0 24 24\"\n",
              "     width=\"24px\">\n",
              "    <g>\n",
              "        <path d=\"M19 3H5c-1.1 0-2 .9-2 2v14c0 1.1.9 2 2 2h14c1.1 0 2-.9 2-2V5c0-1.1-.9-2-2-2zM9 17H7v-7h2v7zm4 0h-2V7h2v10zm4 0h-2v-4h2v4z\"/>\n",
              "    </g>\n",
              "</svg>\n",
              "  </button>\n",
              "\n",
              "<style>\n",
              "  .colab-df-quickchart {\n",
              "      --bg-color: #E8F0FE;\n",
              "      --fill-color: #1967D2;\n",
              "      --hover-bg-color: #E2EBFA;\n",
              "      --hover-fill-color: #174EA6;\n",
              "      --disabled-fill-color: #AAA;\n",
              "      --disabled-bg-color: #DDD;\n",
              "  }\n",
              "\n",
              "  [theme=dark] .colab-df-quickchart {\n",
              "      --bg-color: #3B4455;\n",
              "      --fill-color: #D2E3FC;\n",
              "      --hover-bg-color: #434B5C;\n",
              "      --hover-fill-color: #FFFFFF;\n",
              "      --disabled-bg-color: #3B4455;\n",
              "      --disabled-fill-color: #666;\n",
              "  }\n",
              "\n",
              "  .colab-df-quickchart {\n",
              "    background-color: var(--bg-color);\n",
              "    border: none;\n",
              "    border-radius: 50%;\n",
              "    cursor: pointer;\n",
              "    display: none;\n",
              "    fill: var(--fill-color);\n",
              "    height: 32px;\n",
              "    padding: 0;\n",
              "    width: 32px;\n",
              "  }\n",
              "\n",
              "  .colab-df-quickchart:hover {\n",
              "    background-color: var(--hover-bg-color);\n",
              "    box-shadow: 0 1px 2px rgba(60, 64, 67, 0.3), 0 1px 3px 1px rgba(60, 64, 67, 0.15);\n",
              "    fill: var(--button-hover-fill-color);\n",
              "  }\n",
              "\n",
              "  .colab-df-quickchart-complete:disabled,\n",
              "  .colab-df-quickchart-complete:disabled:hover {\n",
              "    background-color: var(--disabled-bg-color);\n",
              "    fill: var(--disabled-fill-color);\n",
              "    box-shadow: none;\n",
              "  }\n",
              "\n",
              "  .colab-df-spinner {\n",
              "    border: 2px solid var(--fill-color);\n",
              "    border-color: transparent;\n",
              "    border-bottom-color: var(--fill-color);\n",
              "    animation:\n",
              "      spin 1s steps(1) infinite;\n",
              "  }\n",
              "\n",
              "  @keyframes spin {\n",
              "    0% {\n",
              "      border-color: transparent;\n",
              "      border-bottom-color: var(--fill-color);\n",
              "      border-left-color: var(--fill-color);\n",
              "    }\n",
              "    20% {\n",
              "      border-color: transparent;\n",
              "      border-left-color: var(--fill-color);\n",
              "      border-top-color: var(--fill-color);\n",
              "    }\n",
              "    30% {\n",
              "      border-color: transparent;\n",
              "      border-left-color: var(--fill-color);\n",
              "      border-top-color: var(--fill-color);\n",
              "      border-right-color: var(--fill-color);\n",
              "    }\n",
              "    40% {\n",
              "      border-color: transparent;\n",
              "      border-right-color: var(--fill-color);\n",
              "      border-top-color: var(--fill-color);\n",
              "    }\n",
              "    60% {\n",
              "      border-color: transparent;\n",
              "      border-right-color: var(--fill-color);\n",
              "    }\n",
              "    80% {\n",
              "      border-color: transparent;\n",
              "      border-right-color: var(--fill-color);\n",
              "      border-bottom-color: var(--fill-color);\n",
              "    }\n",
              "    90% {\n",
              "      border-color: transparent;\n",
              "      border-bottom-color: var(--fill-color);\n",
              "    }\n",
              "  }\n",
              "</style>\n",
              "\n",
              "  <script>\n",
              "    async function quickchart(key) {\n",
              "      const quickchartButtonEl =\n",
              "        document.querySelector('#' + key + ' button');\n",
              "      quickchartButtonEl.disabled = true;  // To prevent multiple clicks.\n",
              "      quickchartButtonEl.classList.add('colab-df-spinner');\n",
              "      try {\n",
              "        const charts = await google.colab.kernel.invokeFunction(\n",
              "            'suggestCharts', [key], {});\n",
              "      } catch (error) {\n",
              "        console.error('Error during call to suggestCharts:', error);\n",
              "      }\n",
              "      quickchartButtonEl.classList.remove('colab-df-spinner');\n",
              "      quickchartButtonEl.classList.add('colab-df-quickchart-complete');\n",
              "    }\n",
              "    (() => {\n",
              "      let quickchartButtonEl =\n",
              "        document.querySelector('#df-6b4ec8cb-a130-449e-ae42-f1a9367bde8b button');\n",
              "      quickchartButtonEl.style.display =\n",
              "        google.colab.kernel.accessAllowed ? 'block' : 'none';\n",
              "    })();\n",
              "  </script>\n",
              "</div>\n",
              "\n",
              "    </div>\n",
              "  </div>\n"
            ],
            "application/vnd.google.colaboratory.intrinsic+json": {
              "type": "dataframe",
              "variable_name": "df",
              "summary": "{\n  \"name\": \"df\",\n  \"rows\": 99,\n  \"fields\": [\n    {\n      \"column\": \"3.159499363321345566e-02\",\n      \"properties\": {\n        \"dtype\": \"number\",\n        \"std\": 0.8943130566096504,\n        \"min\": -1.318500344394381,\n        \"max\": 2.181371683049025,\n        \"num_unique_values\": 99,\n        \"samples\": [\n          0.1273314190904385,\n          0.6417403675063451,\n          0.21862323352500593\n        ],\n        \"semantic_type\": \"\",\n        \"description\": \"\"\n      }\n    },\n    {\n      \"column\": \"9.869877579082642072e-01\",\n      \"properties\": {\n        \"dtype\": \"number\",\n        \"std\": 0.5909086142970597,\n        \"min\": -1.0357020680498332,\n        \"max\": 1.5718993127141032,\n        \"num_unique_values\": 99,\n        \"samples\": [\n          -0.3796548967118949,\n          -0.39369468370639576,\n          -0.6525211867631453\n        ],\n        \"semantic_type\": \"\",\n        \"description\": \"\"\n      }\n    },\n    {\n      \"column\": \"0.000000000000000000e+00\",\n      \"properties\": {\n        \"dtype\": \"number\",\n        \"std\": 0.502518907629606,\n        \"min\": 0.0,\n        \"max\": 1.0,\n        \"num_unique_values\": 2,\n        \"samples\": [\n          0.0,\n          1.0\n        ],\n        \"semantic_type\": \"\",\n        \"description\": \"\"\n      }\n    }\n  ]\n}"
            }
          },
          "metadata": {},
          "execution_count": 29
        }
      ]
    },
    {
      "cell_type": "code",
      "source": [
        "df['X']=df['3.159499363321345566e-02']\n",
        "df['Y']=df['9.869877579082642072e-01']\n",
        "df['class']=df['0.000000000000000000e+00']"
      ],
      "metadata": {
        "id": "ow1mOrY1JPgT"
      },
      "execution_count": null,
      "outputs": []
    },
    {
      "cell_type": "code",
      "source": [
        "plt.scatter(df['X'],df['Y'],c=df['class'])"
      ],
      "metadata": {
        "colab": {
          "base_uri": "https://localhost:8080/",
          "height": 447
        },
        "id": "ZuYqGD_mtuQG",
        "outputId": "5766caf4-8f31-42e3-a55b-b40ecf453817"
      },
      "execution_count": null,
      "outputs": [
        {
          "output_type": "execute_result",
          "data": {
            "text/plain": [
              "<matplotlib.collections.PathCollection at 0x78341e2286d0>"
            ]
          },
          "metadata": {},
          "execution_count": 31
        },
        {
          "output_type": "display_data",
          "data": {
            "text/plain": [
              "<Figure size 640x480 with 1 Axes>"
            ],
            "image/png": "[encoded data removed]"
          },
          "metadata": {}
        }
      ]
    },
    {
      "cell_type": "code",
      "source": [
        "X = df.iloc[:,0:2].values\n",
        "y = df.iloc[:,-1].values"
      ],
      "metadata": {
        "id": "nwXuHnqhtwEJ"
      },
      "execution_count": null,
      "outputs": []
    },
    {
      "cell_type": "code",
      "source": [
        "import tensorflow\n",
        "from tensorflow import keras\n",
        "from keras import Sequential\n",
        "from keras.layers import Dense"
      ],
      "metadata": {
        "id": "ylDVIM8Ltx0H"
      },
      "execution_count": null,
      "outputs": []
    },
    {
      "cell_type": "markdown",
      "source": [
        "#Henormal/Heuniform uses relu .use parameter kernel_initilizer=he_normal/he_uniform/glorat_uniform/glorat_normal for implementation"
      ],
      "metadata": {
        "id": "I05VhWuSJBjD"
      }
    },
    {
      "cell_type": "code",
      "source": [
        "model = Sequential()\n",
        "\n",
        "model.add(Dense(10,activation='relu',input_dim=2,kernel_initializer='he_uniform'))\n",
        "model.add(Dense(10,activation='relu',kernel_initializer='he_uniform'))\n",
        "model.add(Dense(10,activation='relu',kernel_initializer='he_uniform'))\n",
        "model.add(Dense(10,activation='relu',kernel_initializer='he_uniform'))\n",
        "model.add(Dense(1,activation='sigmoid'))\n",
        "\n",
        "model.summary()"
      ],
      "metadata": {
        "colab": {
          "base_uri": "https://localhost:8080/",
          "height": 361
        },
        "id": "id8rhK5OtzVX",
        "outputId": "95c729e0-e05f-47f6-dabf-bf29b7a1690a"
      },
      "execution_count": null,
      "outputs": [
        {
          "output_type": "stream",
          "name": "stderr",
          "text": [
            "/usr/local/lib/python3.10/dist-packages/keras/src/layers/core/dense.py:87: UserWarning: Do not pass an `input_shape`/`input_dim` argument to a layer. When using Sequential models, prefer using an `Input(shape)` object as the first layer in the model instead.\n",
            "  super().__init__(activity_regularizer=activity_regularizer, **kwargs)\n"
          ]
        },
        {
          "output_type": "display_data",
          "data": {
            "text/plain": [
              "\u001b[1mModel: \"sequential_1\"\u001b[0m\n"
            ],
            "text/html": [
              "<pre style=\"white-space:pre;overflow-x:auto;line-height:normal;font-family:Menlo,'DejaVu Sans Mono',consolas,'Courier New',monospace\"><span style=\"font-weight: bold\">Model: \"sequential_1\"</span>\n",
              "</pre>\n"
            ]
          },
          "metadata": {}
        },
        {
          "output_type": "display_data",
          "data": {
            "text/plain": [
              "┏━━━━━━━━━━━━━━━━━━━━━━━━━━━━━━━━━━━━━━┳━━━━━━━━━━━━━━━━━━━━━━━━━━━━━┳━━━━━━━━━━━━━━━━━┓\n",
              "┃\u001b[1m \u001b[0m\u001b[1mLayer (type)                        \u001b[0m\u001b[1m \u001b[0m┃\u001b[1m \u001b[0m\u001b[1mOutput Shape               \u001b[0m\u001b[1m \u001b[0m┃\u001b[1m \u001b[0m\u001b[1m        Param #\u001b[0m\u001b[1m \u001b[0m┃\n",
              "┡━━━━━━━━━━━━━━━━━━━━━━━━━━━━━━━━━━━━━━╇━━━━━━━━━━━━━━━━━━━━━━━━━━━━━╇━━━━━━━━━━━━━━━━━┩\n",
              "│ dense_5 (\u001b[38;5;33mDense\u001b[0m)                      │ (\u001b[38;5;45mNone\u001b[0m, \u001b[38;5;34m10\u001b[0m)                  │              \u001b[38;5;34m30\u001b[0m │\n",
              "├──────────────────────────────────────┼─────────────────────────────┼─────────────────┤\n",
              "│ dense_6 (\u001b[38;5;33mDense\u001b[0m)                      │ (\u001b[38;5;45mNone\u001b[0m, \u001b[38;5;34m10\u001b[0m)                  │             \u001b[38;5;34m110\u001b[0m │\n",
              "├──────────────────────────────────────┼─────────────────────────────┼─────────────────┤\n",
              "│ dense_7 (\u001b[38;5;33mDense\u001b[0m)                      │ (\u001b[38;5;45mNone\u001b[0m, \u001b[38;5;34m10\u001b[0m)                  │             \u001b[38;5;34m110\u001b[0m │\n",
              "├──────────────────────────────────────┼─────────────────────────────┼─────────────────┤\n",
              "│ dense_8 (\u001b[38;5;33mDense\u001b[0m)                      │ (\u001b[38;5;45mNone\u001b[0m, \u001b[38;5;34m10\u001b[0m)                  │             \u001b[38;5;34m110\u001b[0m │\n",
              "├──────────────────────────────────────┼─────────────────────────────┼─────────────────┤\n",
              "│ dense_9 (\u001b[38;5;33mDense\u001b[0m)                      │ (\u001b[38;5;45mNone\u001b[0m, \u001b[38;5;34m1\u001b[0m)                   │              \u001b[38;5;34m11\u001b[0m │\n",
              "└──────────────────────────────────────┴─────────────────────────────┴─────────────────┘\n"
            ],
            "text/html": [
              "<pre style=\"white-space:pre;overflow-x:auto;line-height:normal;font-family:Menlo,'DejaVu Sans Mono',consolas,'Courier New',monospace\">┏━━━━━━━━━━━━━━━━━━━━━━━━━━━━━━━━━━━━━━┳━━━━━━━━━━━━━━━━━━━━━━━━━━━━━┳━━━━━━━━━━━━━━━━━┓\n",
              "┃<span style=\"font-weight: bold\"> Layer (type)                         </span>┃<span style=\"font-weight: bold\"> Output Shape                </span>┃<span style=\"font-weight: bold\">         Param # </span>┃\n",
              "┡━━━━━━━━━━━━━━━━━━━━━━━━━━━━━━━━━━━━━━╇━━━━━━━━━━━━━━━━━━━━━━━━━━━━━╇━━━━━━━━━━━━━━━━━┩\n",
              "│ dense_5 (<span style=\"color: #0087ff; text-decoration-color: #0087ff\">Dense</span>)                      │ (<span style=\"color: #00d7ff; text-decoration-color: #00d7ff\">None</span>, <span style=\"color: #00af00; text-decoration-color: #00af00\">10</span>)                  │              <span style=\"color: #00af00; text-decoration-color: #00af00\">30</span> │\n",
              "├──────────────────────────────────────┼─────────────────────────────┼─────────────────┤\n",
              "│ dense_6 (<span style=\"color: #0087ff; text-decoration-color: #0087ff\">Dense</span>)                      │ (<span style=\"color: #00d7ff; text-decoration-color: #00d7ff\">None</span>, <span style=\"color: #00af00; text-decoration-color: #00af00\">10</span>)                  │             <span style=\"color: #00af00; text-decoration-color: #00af00\">110</span> │\n",
              "├──────────────────────────────────────┼─────────────────────────────┼─────────────────┤\n",
              "│ dense_7 (<span style=\"color: #0087ff; text-decoration-color: #0087ff\">Dense</span>)                      │ (<span style=\"color: #00d7ff; text-decoration-color: #00d7ff\">None</span>, <span style=\"color: #00af00; text-decoration-color: #00af00\">10</span>)                  │             <span style=\"color: #00af00; text-decoration-color: #00af00\">110</span> │\n",
              "├──────────────────────────────────────┼─────────────────────────────┼─────────────────┤\n",
              "│ dense_8 (<span style=\"color: #0087ff; text-decoration-color: #0087ff\">Dense</span>)                      │ (<span style=\"color: #00d7ff; text-decoration-color: #00d7ff\">None</span>, <span style=\"color: #00af00; text-decoration-color: #00af00\">10</span>)                  │             <span style=\"color: #00af00; text-decoration-color: #00af00\">110</span> │\n",
              "├──────────────────────────────────────┼─────────────────────────────┼─────────────────┤\n",
              "│ dense_9 (<span style=\"color: #0087ff; text-decoration-color: #0087ff\">Dense</span>)                      │ (<span style=\"color: #00d7ff; text-decoration-color: #00d7ff\">None</span>, <span style=\"color: #00af00; text-decoration-color: #00af00\">1</span>)                   │              <span style=\"color: #00af00; text-decoration-color: #00af00\">11</span> │\n",
              "└──────────────────────────────────────┴─────────────────────────────┴─────────────────┘\n",
              "</pre>\n"
            ]
          },
          "metadata": {}
        },
        {
          "output_type": "display_data",
          "data": {
            "text/plain": [
              "\u001b[1m Total params: \u001b[0m\u001b[38;5;34m371\u001b[0m (1.45 KB)\n"
            ],
            "text/html": [
              "<pre style=\"white-space:pre;overflow-x:auto;line-height:normal;font-family:Menlo,'DejaVu Sans Mono',consolas,'Courier New',monospace\"><span style=\"font-weight: bold\"> Total params: </span><span style=\"color: #00af00; text-decoration-color: #00af00\">371</span> (1.45 KB)\n",
              "</pre>\n"
            ]
          },
          "metadata": {}
        },
        {
          "output_type": "display_data",
          "data": {
            "text/plain": [
              "\u001b[1m Trainable params: \u001b[0m\u001b[38;5;34m371\u001b[0m (1.45 KB)\n"
            ],
            "text/html": [
              "<pre style=\"white-space:pre;overflow-x:auto;line-height:normal;font-family:Menlo,'DejaVu Sans Mono',consolas,'Courier New',monospace\"><span style=\"font-weight: bold\"> Trainable params: </span><span style=\"color: #00af00; text-decoration-color: #00af00\">371</span> (1.45 KB)\n",
              "</pre>\n"
            ]
          },
          "metadata": {}
        },
        {
          "output_type": "display_data",
          "data": {
            "text/plain": [
              "\u001b[1m Non-trainable params: \u001b[0m\u001b[38;5;34m0\u001b[0m (0.00 B)\n"
            ],
            "text/html": [
              "<pre style=\"white-space:pre;overflow-x:auto;line-height:normal;font-family:Menlo,'DejaVu Sans Mono',consolas,'Courier New',monospace\"><span style=\"font-weight: bold\"> Non-trainable params: </span><span style=\"color: #00af00; text-decoration-color: #00af00\">0</span> (0.00 B)\n",
              "</pre>\n"
            ]
          },
          "metadata": {}
        }
      ]
    },
    {
      "cell_type": "code",
      "source": [
        "model.get_weights()"
      ],
      "metadata": {
        "colab": {
          "base_uri": "https://localhost:8080/"
        },
        "id": "YjST2L1qt1UP",
        "outputId": "b37094e4-d148-43a0-bdc6-fcc98fbf670f"
      },
      "execution_count": null,
      "outputs": [
        {
          "output_type": "execute_result",
          "data": {
            "text/plain": [
              "[array([[ 0.06833506,  0.71936715,  0.6286868 ,  0.11495411,  0.7279433 ,\n",
              "         -1.0948844 , -0.68561196,  1.5016693 , -0.9762748 ,  1.2713116 ],\n",
              "        [ 0.7171649 ,  0.41634643, -0.5357951 , -0.96194327,  0.37526357,\n",
              "         -1.1776171 ,  0.11865914,  1.1022204 ,  0.3924657 , -0.3977275 ]],\n",
              "       dtype=float32),\n",
              " array([0., 0., 0., 0., 0., 0., 0., 0., 0., 0.], dtype=float32),\n",
              " array([[ 0.20293242, -0.48165286, -0.65326846, -0.5170044 , -0.10741884,\n",
              "          0.10961282, -0.00188261,  0.08163649,  0.06558204, -0.03129447],\n",
              "        [ 0.26119006, -0.2073918 , -0.74274355,  0.50366724,  0.4561379 ,\n",
              "          0.09997004, -0.37246424, -0.31376964,  0.5334445 , -0.35508436],\n",
              "        [ 0.62184095, -0.5793674 , -0.16369104, -0.12719661,  0.32897866,\n",
              "         -0.7025299 , -0.15980709,  0.5723034 ,  0.48372555,  0.28284013],\n",
              "        [ 0.02992064, -0.21568537,  0.07149172, -0.41644445, -0.12695134,\n",
              "          0.39754117,  0.3927319 , -0.56271774, -0.551534  , -0.4738587 ],\n",
              "        [-0.69947934, -0.5476783 , -0.22358328, -0.62883383,  0.01754296,\n",
              "          0.7232938 , -0.65071565,  0.44684505,  0.3990432 , -0.12043792],\n",
              "        [-0.36174718,  0.67736876,  0.31828725,  0.0195334 , -0.63060564,\n",
              "          0.12258422,  0.62789273,  0.17294657,  0.02952397, -0.18193614],\n",
              "        [-0.41710725,  0.40282595,  0.5517241 ,  0.31146944, -0.7678085 ,\n",
              "          0.5622699 ,  0.48369944,  0.13280046,  0.1828649 ,  0.36483717],\n",
              "        [-0.21369892, -0.658893  ,  0.35702217, -0.09473664,  0.20500207,\n",
              "         -0.5892652 , -0.76978713,  0.20212495,  0.37723005, -0.4291071 ],\n",
              "        [ 0.6620728 ,  0.54120517,  0.68701327, -0.44388413, -0.6088984 ,\n",
              "          0.61399996, -0.2023769 , -0.5104579 ,  0.29280257,  0.44383943],\n",
              "        [ 0.59336126,  0.6704097 , -0.5405519 , -0.2769108 ,  0.11735344,\n",
              "          0.07114971, -0.3423927 , -0.6163921 , -0.41338673,  0.5037159 ]],\n",
              "       dtype=float32),\n",
              " array([0., 0., 0., 0., 0., 0., 0., 0., 0., 0.], dtype=float32),\n",
              " array([[-0.41522852, -0.46138072, -0.5276128 , -0.24007708,  0.44756877,\n",
              "          0.00683713, -0.00153321, -0.44941303,  0.04016459,  0.36426437],\n",
              "        [-0.5626276 ,  0.5661328 ,  0.13973808, -0.10948998, -0.6901995 ,\n",
              "         -0.4567187 ,  0.6570431 ,  0.26331127,  0.02861071, -0.61456376],\n",
              "        [-0.6963476 ,  0.27726662,  0.5322988 ,  0.46307862,  0.1268605 ,\n",
              "          0.53146446, -0.10602617,  0.54421353, -0.5366166 , -0.6606039 ],\n",
              "        [-0.48336336,  0.516852  ,  0.2099042 , -0.6928433 , -0.3145521 ,\n",
              "         -0.6795343 ,  0.42960262, -0.25869638, -0.7074874 , -0.6018769 ],\n",
              "        [ 0.7463908 , -0.73206955,  0.3534404 ,  0.4997934 , -0.34822616,\n",
              "          0.31237292, -0.42829284,  0.2722484 ,  0.01702088, -0.5863916 ],\n",
              "        [-0.19007581,  0.04833877,  0.02112681,  0.5618396 , -0.6741975 ,\n",
              "          0.07220936,  0.6604283 , -0.69072306, -0.7050999 , -0.38075575],\n",
              "        [-0.5136124 ,  0.50000834, -0.10778487,  0.670259  ,  0.5670749 ,\n",
              "         -0.26956338,  0.03281564,  0.17456454, -0.4449307 , -0.23715496],\n",
              "        [ 0.5625242 , -0.55230796,  0.3680054 , -0.4242207 , -0.5915554 ,\n",
              "          0.38698792, -0.45018977, -0.24597222, -0.46171334,  0.5204202 ],\n",
              "        [ 0.05621272, -0.56979424, -0.65306216, -0.14682215,  0.1862098 ,\n",
              "         -0.24837762,  0.3609444 , -0.20487154,  0.61591434,  0.42009115],\n",
              "        [ 0.6379725 , -0.02397865, -0.11694068, -0.18369669, -0.39978462,\n",
              "         -0.34849966, -0.3918479 , -0.74077064,  0.02127993,  0.46518433]],\n",
              "       dtype=float32),\n",
              " array([0., 0., 0., 0., 0., 0., 0., 0., 0., 0.], dtype=float32),\n",
              " array([[-0.4128449 ,  0.05676287, -0.06975186,  0.4968884 , -0.11473262,\n",
              "          0.16324335,  0.57435465,  0.16944265, -0.62311494,  0.32332158],\n",
              "        [-0.65018374,  0.4060216 , -0.639651  ,  0.379048  , -0.23943847,\n",
              "         -0.5271834 ,  0.7021196 ,  0.14421117,  0.6105828 , -0.526029  ],\n",
              "        [ 0.02900189,  0.13612098, -0.63123244, -0.51395774, -0.06463903,\n",
              "         -0.46044275,  0.56687415, -0.47033116, -0.5752223 , -0.5231346 ],\n",
              "        [ 0.6982331 ,  0.52859986,  0.7291304 , -0.37565604, -0.3901906 ,\n",
              "         -0.30650255,  0.61228526, -0.01234853,  0.69933295,  0.67010665],\n",
              "        [ 0.74283206,  0.2706493 ,  0.15450937,  0.52225757, -0.6980426 ,\n",
              "          0.44501376, -0.67365915,  0.45236433, -0.7712171 ,  0.66477406],\n",
              "        [ 0.477767  , -0.44407582,  0.16468608,  0.3763137 , -0.43583345,\n",
              "          0.15712404, -0.10850108, -0.46280035, -0.41168898,  0.2962873 ],\n",
              "        [ 0.07972747,  0.3385328 , -0.53653795, -0.7599949 ,  0.43244255,\n",
              "          0.05533332, -0.13546723, -0.44521546,  0.19217509, -0.5239115 ],\n",
              "        [-0.76158684,  0.55722857, -0.23636246, -0.45368278, -0.6785195 ,\n",
              "         -0.01240671, -0.5365588 , -0.5014821 ,  0.6784582 , -0.5038794 ],\n",
              "        [ 0.5720556 , -0.4789595 ,  0.08094686,  0.42695892,  0.64523804,\n",
              "         -0.51956844, -0.32735512, -0.47058824,  0.5061767 ,  0.25399852],\n",
              "        [-0.3026389 ,  0.08608019, -0.5835101 , -0.24460709,  0.18049455,\n",
              "         -0.25065637, -0.22517413,  0.29445612, -0.6460413 ,  0.10810971]],\n",
              "       dtype=float32),\n",
              " array([0., 0., 0., 0., 0., 0., 0., 0., 0., 0.], dtype=float32),\n",
              " array([[ 0.34063238],\n",
              "        [-0.39868364],\n",
              "        [-0.01277632],\n",
              "        [-0.68923753],\n",
              "        [-0.16270757],\n",
              "        [-0.55794084],\n",
              "        [ 0.61732084],\n",
              "        [-0.26583052],\n",
              "        [ 0.48939544],\n",
              "        [ 0.22836024]], dtype=float32),\n",
              " array([0.], dtype=float32)]"
            ]
          },
          "metadata": {},
          "execution_count": 35
        }
      ]
    },
    {
      "cell_type": "code",
      "source": [
        "model.compile(loss='binary_crossentropy',optimizer='adam',metrics=['accuracy'])"
      ],
      "metadata": {
        "id": "bjAyhD8mulGG"
      },
      "execution_count": null,
      "outputs": []
    },
    {
      "cell_type": "code",
      "source": [
        "history = model.fit(X,y,epochs=100,validation_split=0.2)"
      ],
      "metadata": {
        "colab": {
          "base_uri": "https://localhost:8080/"
        },
        "id": "H1wa0jCaun8z",
        "outputId": "b73a1d0e-cfdd-4b48-be24-6ad01c69e4bf"
      },
      "execution_count": null,
      "outputs": [
        {
          "output_type": "stream",
          "name": "stdout",
          "text": [
            "Epoch 1/100\n",
            "\u001b[1m3/3\u001b[0m \u001b[32m━━━━━━━━━━━━━━━━━━━━\u001b[0m\u001b[37m\u001b[0m \u001b[1m3s\u001b[0m 161ms/step - accuracy: 0.3978 - loss: 0.7674 - val_accuracy: 0.4000 - val_loss: 0.8887\n",
            "Epoch 2/100\n",
            "\u001b[1m3/3\u001b[0m \u001b[32m━━━━━━━━━━━━━━━━━━━━\u001b[0m\u001b[37m\u001b[0m \u001b[1m0s\u001b[0m 15ms/step - accuracy: 0.5300 - loss: 0.7177 - val_accuracy: 0.5000 - val_loss: 0.8688\n",
            "Epoch 3/100\n",
            "\u001b[1m3/3\u001b[0m \u001b[32m━━━━━━━━━━━━━━━━━━━━\u001b[0m\u001b[37m\u001b[0m \u001b[1m0s\u001b[0m 16ms/step - accuracy: 0.6446 - loss: 0.7159 - val_accuracy: 0.5000 - val_loss: 0.8472\n",
            "Epoch 4/100\n",
            "\u001b[1m3/3\u001b[0m \u001b[32m━━━━━━━━━━━━━━━━━━━━\u001b[0m\u001b[37m\u001b[0m \u001b[1m0s\u001b[0m 15ms/step - accuracy: 0.6377 - loss: 0.7183 - val_accuracy: 0.5000 - val_loss: 0.8258\n",
            "Epoch 5/100\n",
            "\u001b[1m3/3\u001b[0m \u001b[32m━━━━━━━━━━━━━━━━━━━━\u001b[0m\u001b[37m\u001b[0m \u001b[1m0s\u001b[0m 14ms/step - accuracy: 0.6870 - loss: 0.6979 - val_accuracy: 0.5000 - val_loss: 0.8053\n",
            "Epoch 6/100\n",
            "\u001b[1m3/3\u001b[0m \u001b[32m━━━━━━━━━━━━━━━━━━━━\u001b[0m\u001b[37m\u001b[0m \u001b[1m0s\u001b[0m 19ms/step - accuracy: 0.6777 - loss: 0.7010 - val_accuracy: 0.5000 - val_loss: 0.7854\n",
            "Epoch 7/100\n",
            "\u001b[1m3/3\u001b[0m \u001b[32m━━━━━━━━━━━━━━━━━━━━\u001b[0m\u001b[37m\u001b[0m \u001b[1m0s\u001b[0m 15ms/step - accuracy: 0.6801 - loss: 0.6847 - val_accuracy: 0.5000 - val_loss: 0.7667\n",
            "Epoch 8/100\n",
            "\u001b[1m3/3\u001b[0m \u001b[32m━━━━━━━━━━━━━━━━━━━━\u001b[0m\u001b[37m\u001b[0m \u001b[1m0s\u001b[0m 15ms/step - accuracy: 0.7255 - loss: 0.6693 - val_accuracy: 0.5500 - val_loss: 0.7496\n",
            "Epoch 9/100\n",
            "\u001b[1m3/3\u001b[0m \u001b[32m━━━━━━━━━━━━━━━━━━━━\u001b[0m\u001b[37m\u001b[0m \u001b[1m0s\u001b[0m 15ms/step - accuracy: 0.6933 - loss: 0.6612 - val_accuracy: 0.5500 - val_loss: 0.7329\n",
            "Epoch 10/100\n",
            "\u001b[1m3/3\u001b[0m \u001b[32m━━━━━━━━━━━━━━━━━━━━\u001b[0m\u001b[37m\u001b[0m \u001b[1m0s\u001b[0m 15ms/step - accuracy: 0.6792 - loss: 0.6482 - val_accuracy: 0.5500 - val_loss: 0.7168\n",
            "Epoch 11/100\n",
            "\u001b[1m3/3\u001b[0m \u001b[32m━━━━━━━━━━━━━━━━━━━━\u001b[0m\u001b[37m\u001b[0m \u001b[1m0s\u001b[0m 16ms/step - accuracy: 0.7090 - loss: 0.6337 - val_accuracy: 0.5500 - val_loss: 0.7016\n",
            "Epoch 12/100\n",
            "\u001b[1m3/3\u001b[0m \u001b[32m━━━━━━━━━━━━━━━━━━━━\u001b[0m\u001b[37m\u001b[0m \u001b[1m0s\u001b[0m 15ms/step - accuracy: 0.7099 - loss: 0.6392 - val_accuracy: 0.5500 - val_loss: 0.6872\n",
            "Epoch 13/100\n",
            "\u001b[1m3/3\u001b[0m \u001b[32m━━━━━━━━━━━━━━━━━━━━\u001b[0m\u001b[37m\u001b[0m \u001b[1m0s\u001b[0m 15ms/step - accuracy: 0.7201 - loss: 0.6373 - val_accuracy: 0.6000 - val_loss: 0.6743\n",
            "Epoch 14/100\n",
            "\u001b[1m3/3\u001b[0m \u001b[32m━━━━━━━━━━━━━━━━━━━━\u001b[0m\u001b[37m\u001b[0m \u001b[1m0s\u001b[0m 19ms/step - accuracy: 0.7162 - loss: 0.6310 - val_accuracy: 0.6000 - val_loss: 0.6617\n",
            "Epoch 15/100\n",
            "\u001b[1m3/3\u001b[0m \u001b[32m━━━━━━━━━━━━━━━━━━━━\u001b[0m\u001b[37m\u001b[0m \u001b[1m0s\u001b[0m 15ms/step - accuracy: 0.7358 - loss: 0.6150 - val_accuracy: 0.6000 - val_loss: 0.6493\n",
            "Epoch 16/100\n",
            "\u001b[1m3/3\u001b[0m \u001b[32m━━━━━━━━━━━━━━━━━━━━\u001b[0m\u001b[37m\u001b[0m \u001b[1m0s\u001b[0m 15ms/step - accuracy: 0.7240 - loss: 0.6045 - val_accuracy: 0.6500 - val_loss: 0.6375\n",
            "Epoch 17/100\n",
            "\u001b[1m3/3\u001b[0m \u001b[32m━━━━━━━━━━━━━━━━━━━━\u001b[0m\u001b[37m\u001b[0m \u001b[1m0s\u001b[0m 16ms/step - accuracy: 0.7460 - loss: 0.6059 - val_accuracy: 0.6500 - val_loss: 0.6273\n",
            "Epoch 18/100\n",
            "\u001b[1m3/3\u001b[0m \u001b[32m━━━━━━━━━━━━━━━━━━━━\u001b[0m\u001b[37m\u001b[0m \u001b[1m0s\u001b[0m 16ms/step - accuracy: 0.7499 - loss: 0.6028 - val_accuracy: 0.6500 - val_loss: 0.6167\n",
            "Epoch 19/100\n",
            "\u001b[1m3/3\u001b[0m \u001b[32m━━━━━━━━━━━━━━━━━━━━\u001b[0m\u001b[37m\u001b[0m \u001b[1m0s\u001b[0m 22ms/step - accuracy: 0.7265 - loss: 0.6025 - val_accuracy: 0.6500 - val_loss: 0.6067\n",
            "Epoch 20/100\n",
            "\u001b[1m3/3\u001b[0m \u001b[32m━━━━━━━━━━━━━━━━━━━━\u001b[0m\u001b[37m\u001b[0m \u001b[1m0s\u001b[0m 21ms/step - accuracy: 0.7147 - loss: 0.5960 - val_accuracy: 0.6500 - val_loss: 0.5973\n",
            "Epoch 21/100\n",
            "\u001b[1m3/3\u001b[0m \u001b[32m━━━━━━━━━━━━━━━━━━━━\u001b[0m\u001b[37m\u001b[0m \u001b[1m0s\u001b[0m 16ms/step - accuracy: 0.7250 - loss: 0.5867 - val_accuracy: 0.6500 - val_loss: 0.5882\n",
            "Epoch 22/100\n",
            "\u001b[1m3/3\u001b[0m \u001b[32m━━━━━━━━━━━━━━━━━━━━\u001b[0m\u001b[37m\u001b[0m \u001b[1m0s\u001b[0m 16ms/step - accuracy: 0.8362 - loss: 0.5681 - val_accuracy: 0.7500 - val_loss: 0.5794\n",
            "Epoch 23/100\n",
            "\u001b[1m3/3\u001b[0m \u001b[32m━━━━━━━━━━━━━━━━━━━━\u001b[0m\u001b[37m\u001b[0m \u001b[1m0s\u001b[0m 15ms/step - accuracy: 0.7933 - loss: 0.5738 - val_accuracy: 0.7500 - val_loss: 0.5703\n",
            "Epoch 24/100\n",
            "\u001b[1m3/3\u001b[0m \u001b[32m━━━━━━━━━━━━━━━━━━━━\u001b[0m\u001b[37m\u001b[0m \u001b[1m0s\u001b[0m 21ms/step - accuracy: 0.8191 - loss: 0.5607 - val_accuracy: 0.7500 - val_loss: 0.5616\n",
            "Epoch 25/100\n",
            "\u001b[1m3/3\u001b[0m \u001b[32m━━━━━━━━━━━━━━━━━━━━\u001b[0m\u001b[37m\u001b[0m \u001b[1m0s\u001b[0m 16ms/step - accuracy: 0.8269 - loss: 0.5580 - val_accuracy: 0.8000 - val_loss: 0.5530\n",
            "Epoch 26/100\n",
            "\u001b[1m3/3\u001b[0m \u001b[32m━━━━━━━━━━━━━━━━━━━━\u001b[0m\u001b[37m\u001b[0m \u001b[1m0s\u001b[0m 17ms/step - accuracy: 0.8152 - loss: 0.5506 - val_accuracy: 0.8000 - val_loss: 0.5444\n",
            "Epoch 27/100\n",
            "\u001b[1m3/3\u001b[0m \u001b[32m━━━━━━━━━━━━━━━━━━━━\u001b[0m\u001b[37m\u001b[0m \u001b[1m0s\u001b[0m 18ms/step - accuracy: 0.8191 - loss: 0.5436 - val_accuracy: 0.8000 - val_loss: 0.5359\n",
            "Epoch 28/100\n",
            "\u001b[1m3/3\u001b[0m \u001b[32m━━━━━━━━━━━━━━━━━━━━\u001b[0m\u001b[37m\u001b[0m \u001b[1m0s\u001b[0m 16ms/step - accuracy: 0.8074 - loss: 0.5397 - val_accuracy: 0.8000 - val_loss: 0.5277\n",
            "Epoch 29/100\n",
            "\u001b[1m3/3\u001b[0m \u001b[32m━━━━━━━━━━━━━━━━━━━━\u001b[0m\u001b[37m\u001b[0m \u001b[1m0s\u001b[0m 16ms/step - accuracy: 0.8255 - loss: 0.5296 - val_accuracy: 0.8500 - val_loss: 0.5195\n",
            "Epoch 30/100\n",
            "\u001b[1m3/3\u001b[0m \u001b[32m━━━━━━━━━━━━━━━━━━━━\u001b[0m\u001b[37m\u001b[0m \u001b[1m0s\u001b[0m 15ms/step - accuracy: 0.8567 - loss: 0.5334 - val_accuracy: 0.9000 - val_loss: 0.5113\n",
            "Epoch 31/100\n",
            "\u001b[1m3/3\u001b[0m \u001b[32m━━━━━━━━━━━━━━━━━━━━\u001b[0m\u001b[37m\u001b[0m \u001b[1m0s\u001b[0m 19ms/step - accuracy: 0.8255 - loss: 0.5301 - val_accuracy: 0.9500 - val_loss: 0.5030\n",
            "Epoch 32/100\n",
            "\u001b[1m3/3\u001b[0m \u001b[32m━━━━━━━━━━━━━━━━━━━━\u001b[0m\u001b[37m\u001b[0m \u001b[1m0s\u001b[0m 20ms/step - accuracy: 0.8215 - loss: 0.5236 - val_accuracy: 0.9500 - val_loss: 0.4943\n",
            "Epoch 33/100\n",
            "\u001b[1m3/3\u001b[0m \u001b[32m━━━━━━━━━━━━━━━━━━━━\u001b[0m\u001b[37m\u001b[0m \u001b[1m0s\u001b[0m 17ms/step - accuracy: 0.8137 - loss: 0.5272 - val_accuracy: 0.9500 - val_loss: 0.4856\n",
            "Epoch 34/100\n",
            "\u001b[1m3/3\u001b[0m \u001b[32m━━━━━━━━━━━━━━━━━━━━\u001b[0m\u001b[37m\u001b[0m \u001b[1m0s\u001b[0m 15ms/step - accuracy: 0.8450 - loss: 0.4949 - val_accuracy: 0.9500 - val_loss: 0.4766\n",
            "Epoch 35/100\n",
            "\u001b[1m3/3\u001b[0m \u001b[32m━━━━━━━━━━━━━━━━━━━━\u001b[0m\u001b[37m\u001b[0m \u001b[1m0s\u001b[0m 15ms/step - accuracy: 0.8372 - loss: 0.4917 - val_accuracy: 0.9500 - val_loss: 0.4685\n",
            "Epoch 36/100\n",
            "\u001b[1m3/3\u001b[0m \u001b[32m━━━━━━━━━━━━━━━━━━━━\u001b[0m\u001b[37m\u001b[0m \u001b[1m0s\u001b[0m 15ms/step - accuracy: 0.8279 - loss: 0.4880 - val_accuracy: 0.9500 - val_loss: 0.4602\n",
            "Epoch 37/100\n",
            "\u001b[1m3/3\u001b[0m \u001b[32m━━━━━━━━━━━━━━━━━━━━\u001b[0m\u001b[37m\u001b[0m \u001b[1m0s\u001b[0m 15ms/step - accuracy: 0.8435 - loss: 0.4694 - val_accuracy: 0.9500 - val_loss: 0.4519\n",
            "Epoch 38/100\n",
            "\u001b[1m3/3\u001b[0m \u001b[32m━━━━━━━━━━━━━━━━━━━━\u001b[0m\u001b[37m\u001b[0m \u001b[1m0s\u001b[0m 16ms/step - accuracy: 0.8513 - loss: 0.4670 - val_accuracy: 0.9500 - val_loss: 0.4435\n",
            "Epoch 39/100\n",
            "\u001b[1m3/3\u001b[0m \u001b[32m━━━━━━━━━━━━━━━━━━━━\u001b[0m\u001b[37m\u001b[0m \u001b[1m0s\u001b[0m 16ms/step - accuracy: 0.8005 - loss: 0.4924 - val_accuracy: 0.9500 - val_loss: 0.4351\n",
            "Epoch 40/100\n",
            "\u001b[1m3/3\u001b[0m \u001b[32m━━━━━━━━━━━━━━━━━━━━\u001b[0m\u001b[37m\u001b[0m \u001b[1m0s\u001b[0m 16ms/step - accuracy: 0.8357 - loss: 0.4667 - val_accuracy: 0.9500 - val_loss: 0.4267\n",
            "Epoch 41/100\n",
            "\u001b[1m3/3\u001b[0m \u001b[32m━━━━━━━━━━━━━━━━━━━━\u001b[0m\u001b[37m\u001b[0m \u001b[1m0s\u001b[0m 15ms/step - accuracy: 0.8396 - loss: 0.4519 - val_accuracy: 0.9500 - val_loss: 0.4186\n",
            "Epoch 42/100\n",
            "\u001b[1m3/3\u001b[0m \u001b[32m━━━━━━━━━━━━━━━━━━━━\u001b[0m\u001b[37m\u001b[0m \u001b[1m0s\u001b[0m 15ms/step - accuracy: 0.8474 - loss: 0.4470 - val_accuracy: 0.9500 - val_loss: 0.4109\n",
            "Epoch 43/100\n",
            "\u001b[1m3/3\u001b[0m \u001b[32m━━━━━━━━━━━━━━━━━━━━\u001b[0m\u001b[37m\u001b[0m \u001b[1m0s\u001b[0m 16ms/step - accuracy: 0.8083 - loss: 0.4521 - val_accuracy: 0.9500 - val_loss: 0.4035\n",
            "Epoch 44/100\n",
            "\u001b[1m3/3\u001b[0m \u001b[32m━━━━━━━━━━━━━━━━━━━━\u001b[0m\u001b[37m\u001b[0m \u001b[1m0s\u001b[0m 15ms/step - accuracy: 0.8318 - loss: 0.4602 - val_accuracy: 0.9500 - val_loss: 0.3962\n",
            "Epoch 45/100\n",
            "\u001b[1m3/3\u001b[0m \u001b[32m━━━━━━━━━━━━━━━━━━━━\u001b[0m\u001b[37m\u001b[0m \u001b[1m0s\u001b[0m 15ms/step - accuracy: 0.8318 - loss: 0.4362 - val_accuracy: 0.9500 - val_loss: 0.3890\n",
            "Epoch 46/100\n",
            "\u001b[1m3/3\u001b[0m \u001b[32m━━━━━━━━━━━━━━━━━━━━\u001b[0m\u001b[37m\u001b[0m \u001b[1m0s\u001b[0m 16ms/step - accuracy: 0.8420 - loss: 0.4422 - val_accuracy: 0.9500 - val_loss: 0.3819\n",
            "Epoch 47/100\n",
            "\u001b[1m3/3\u001b[0m \u001b[32m━━━━━━━━━━━━━━━━━━━━\u001b[0m\u001b[37m\u001b[0m \u001b[1m0s\u001b[0m 28ms/step - accuracy: 0.8498 - loss: 0.4172 - val_accuracy: 0.9500 - val_loss: 0.3747\n",
            "Epoch 48/100\n",
            "\u001b[1m3/3\u001b[0m \u001b[32m━━━━━━━━━━━━━━━━━━━━\u001b[0m\u001b[37m\u001b[0m \u001b[1m0s\u001b[0m 21ms/step - accuracy: 0.8850 - loss: 0.4136 - val_accuracy: 0.9500 - val_loss: 0.3673\n",
            "Epoch 49/100\n",
            "\u001b[1m3/3\u001b[0m \u001b[32m━━━━━━━━━━━━━━━━━━━━\u001b[0m\u001b[37m\u001b[0m \u001b[1m0s\u001b[0m 17ms/step - accuracy: 0.8342 - loss: 0.4163 - val_accuracy: 0.9500 - val_loss: 0.3606\n",
            "Epoch 50/100\n",
            "\u001b[1m3/3\u001b[0m \u001b[32m━━━━━━━━━━━━━━━━━━━━\u001b[0m\u001b[37m\u001b[0m \u001b[1m0s\u001b[0m 15ms/step - accuracy: 0.8342 - loss: 0.4320 - val_accuracy: 0.9500 - val_loss: 0.3547\n",
            "Epoch 51/100\n",
            "\u001b[1m3/3\u001b[0m \u001b[32m━━━━━━━━━━━━━━━━━━━━\u001b[0m\u001b[37m\u001b[0m \u001b[1m0s\u001b[0m 16ms/step - accuracy: 0.8576 - loss: 0.3984 - val_accuracy: 0.9500 - val_loss: 0.3481\n",
            "Epoch 52/100\n",
            "\u001b[1m3/3\u001b[0m \u001b[32m━━━━━━━━━━━━━━━━━━━━\u001b[0m\u001b[37m\u001b[0m \u001b[1m0s\u001b[0m 16ms/step - accuracy: 0.8576 - loss: 0.3889 - val_accuracy: 0.9500 - val_loss: 0.3420\n",
            "Epoch 53/100\n",
            "\u001b[1m3/3\u001b[0m \u001b[32m━━━━━━━━━━━━━━━━━━━━\u001b[0m\u001b[37m\u001b[0m \u001b[1m0s\u001b[0m 21ms/step - accuracy: 0.8562 - loss: 0.4041 - val_accuracy: 0.9500 - val_loss: 0.3365\n",
            "Epoch 54/100\n",
            "\u001b[1m3/3\u001b[0m \u001b[32m━━━━━━━━━━━━━━━━━━━━\u001b[0m\u001b[37m\u001b[0m \u001b[1m0s\u001b[0m 16ms/step - accuracy: 0.8562 - loss: 0.3983 - val_accuracy: 0.9500 - val_loss: 0.3317\n",
            "Epoch 55/100\n",
            "\u001b[1m3/3\u001b[0m \u001b[32m━━━━━━━━━━━━━━━━━━━━\u001b[0m\u001b[37m\u001b[0m \u001b[1m0s\u001b[0m 18ms/step - accuracy: 0.8640 - loss: 0.3913 - val_accuracy: 0.9500 - val_loss: 0.3266\n",
            "Epoch 56/100\n",
            "\u001b[1m3/3\u001b[0m \u001b[32m━━━━━━━━━━━━━━━━━━━━\u001b[0m\u001b[37m\u001b[0m \u001b[1m0s\u001b[0m 16ms/step - accuracy: 0.8483 - loss: 0.4111 - val_accuracy: 0.9000 - val_loss: 0.3224\n",
            "Epoch 57/100\n",
            "\u001b[1m3/3\u001b[0m \u001b[32m━━━━━━━━━━━━━━━━━━━━\u001b[0m\u001b[37m\u001b[0m \u001b[1m0s\u001b[0m 18ms/step - accuracy: 0.8562 - loss: 0.3992 - val_accuracy: 0.9000 - val_loss: 0.3172\n",
            "Epoch 58/100\n",
            "\u001b[1m3/3\u001b[0m \u001b[32m━━━━━━━━━━━━━━━━━━━━\u001b[0m\u001b[37m\u001b[0m \u001b[1m0s\u001b[0m 20ms/step - accuracy: 0.9030 - loss: 0.3482 - val_accuracy: 0.9000 - val_loss: 0.3126\n",
            "Epoch 59/100\n",
            "\u001b[1m3/3\u001b[0m \u001b[32m━━━━━━━━━━━━━━━━━━━━\u001b[0m\u001b[37m\u001b[0m \u001b[1m0s\u001b[0m 21ms/step - accuracy: 0.8757 - loss: 0.3806 - val_accuracy: 0.9000 - val_loss: 0.3077\n",
            "Epoch 60/100\n",
            "\u001b[1m3/3\u001b[0m \u001b[32m━━━━━━━━━━━━━━━━━━━━\u001b[0m\u001b[37m\u001b[0m \u001b[1m0s\u001b[0m 18ms/step - accuracy: 0.8601 - loss: 0.3801 - val_accuracy: 0.9000 - val_loss: 0.3035\n",
            "Epoch 61/100\n",
            "\u001b[1m3/3\u001b[0m \u001b[32m━━━━━━━━━━━━━━━━━━━━\u001b[0m\u001b[37m\u001b[0m \u001b[1m0s\u001b[0m 16ms/step - accuracy: 0.8640 - loss: 0.3642 - val_accuracy: 0.9000 - val_loss: 0.2988\n",
            "Epoch 62/100\n",
            "\u001b[1m3/3\u001b[0m \u001b[32m━━━━━━━━━━━━━━━━━━━━\u001b[0m\u001b[37m\u001b[0m \u001b[1m0s\u001b[0m 17ms/step - accuracy: 0.8679 - loss: 0.3629 - val_accuracy: 0.9000 - val_loss: 0.2948\n",
            "Epoch 63/100\n",
            "\u001b[1m3/3\u001b[0m \u001b[32m━━━━━━━━━━━━━━━━━━━━\u001b[0m\u001b[37m\u001b[0m \u001b[1m0s\u001b[0m 16ms/step - accuracy: 0.8913 - loss: 0.3371 - val_accuracy: 0.9000 - val_loss: 0.2903\n",
            "Epoch 64/100\n",
            "\u001b[1m3/3\u001b[0m \u001b[32m━━━━━━━━━━━━━━━━━━━━\u001b[0m\u001b[37m\u001b[0m \u001b[1m0s\u001b[0m 17ms/step - accuracy: 0.8366 - loss: 0.3918 - val_accuracy: 0.9000 - val_loss: 0.2859\n",
            "Epoch 65/100\n",
            "\u001b[1m3/3\u001b[0m \u001b[32m━━━━━━━━━━━━━━━━━━━━\u001b[0m\u001b[37m\u001b[0m \u001b[1m0s\u001b[0m 21ms/step - accuracy: 0.8366 - loss: 0.3820 - val_accuracy: 0.9000 - val_loss: 0.2819\n",
            "Epoch 66/100\n",
            "\u001b[1m3/3\u001b[0m \u001b[32m━━━━━━━━━━━━━━━━━━━━\u001b[0m\u001b[37m\u001b[0m \u001b[1m0s\u001b[0m 15ms/step - accuracy: 0.8640 - loss: 0.3568 - val_accuracy: 0.9000 - val_loss: 0.2776\n",
            "Epoch 67/100\n",
            "\u001b[1m3/3\u001b[0m \u001b[32m━━━━━━━━━━━━━━━━━━━━\u001b[0m\u001b[37m\u001b[0m \u001b[1m0s\u001b[0m 16ms/step - accuracy: 0.8523 - loss: 0.3697 - val_accuracy: 0.9000 - val_loss: 0.2739\n",
            "Epoch 68/100\n",
            "\u001b[1m3/3\u001b[0m \u001b[32m━━━━━━━━━━━━━━━━━━━━\u001b[0m\u001b[37m\u001b[0m \u001b[1m0s\u001b[0m 15ms/step - accuracy: 0.8640 - loss: 0.3600 - val_accuracy: 0.9000 - val_loss: 0.2711\n",
            "Epoch 69/100\n",
            "\u001b[1m3/3\u001b[0m \u001b[32m━━━━━━━━━━━━━━━━━━━━\u001b[0m\u001b[37m\u001b[0m \u001b[1m0s\u001b[0m 16ms/step - accuracy: 0.8523 - loss: 0.3662 - val_accuracy: 0.9000 - val_loss: 0.2667\n",
            "Epoch 70/100\n",
            "\u001b[1m3/3\u001b[0m \u001b[32m━━━━━━━━━━━━━━━━━━━━\u001b[0m\u001b[37m\u001b[0m \u001b[1m0s\u001b[0m 17ms/step - accuracy: 0.8483 - loss: 0.3790 - val_accuracy: 0.9000 - val_loss: 0.2630\n",
            "Epoch 71/100\n",
            "\u001b[1m3/3\u001b[0m \u001b[32m━━━━━━━━━━━━━━━━━━━━\u001b[0m\u001b[37m\u001b[0m \u001b[1m0s\u001b[0m 20ms/step - accuracy: 0.8562 - loss: 0.3564 - val_accuracy: 0.9000 - val_loss: 0.2586\n",
            "Epoch 72/100\n",
            "\u001b[1m3/3\u001b[0m \u001b[32m━━━━━━━━━━━━━━━━━━━━\u001b[0m\u001b[37m\u001b[0m \u001b[1m0s\u001b[0m 17ms/step - accuracy: 0.8483 - loss: 0.3686 - val_accuracy: 0.9500 - val_loss: 0.2546\n",
            "Epoch 73/100\n",
            "\u001b[1m3/3\u001b[0m \u001b[32m━━━━━━━━━━━━━━━━━━━━\u001b[0m\u001b[37m\u001b[0m \u001b[1m0s\u001b[0m 15ms/step - accuracy: 0.8679 - loss: 0.3327 - val_accuracy: 0.9500 - val_loss: 0.2512\n",
            "Epoch 74/100\n",
            "\u001b[1m3/3\u001b[0m \u001b[32m━━━━━━━━━━━━━━━━━━━━\u001b[0m\u001b[37m\u001b[0m \u001b[1m0s\u001b[0m 15ms/step - accuracy: 0.8523 - loss: 0.3404 - val_accuracy: 0.9000 - val_loss: 0.2494\n",
            "Epoch 75/100\n",
            "\u001b[1m3/3\u001b[0m \u001b[32m━━━━━━━━━━━━━━━━━━━━\u001b[0m\u001b[37m\u001b[0m \u001b[1m0s\u001b[0m 16ms/step - accuracy: 0.8562 - loss: 0.3384 - val_accuracy: 0.9000 - val_loss: 0.2478\n",
            "Epoch 76/100\n",
            "\u001b[1m3/3\u001b[0m \u001b[32m━━━━━━━━━━━━━━━━━━━━\u001b[0m\u001b[37m\u001b[0m \u001b[1m0s\u001b[0m 16ms/step - accuracy: 0.8757 - loss: 0.3247 - val_accuracy: 0.9000 - val_loss: 0.2456\n",
            "Epoch 77/100\n",
            "\u001b[1m3/3\u001b[0m \u001b[32m━━━━━━━━━━━━━━━━━━━━\u001b[0m\u001b[37m\u001b[0m \u001b[1m0s\u001b[0m 16ms/step - accuracy: 0.8796 - loss: 0.3055 - val_accuracy: 0.9000 - val_loss: 0.2438\n",
            "Epoch 78/100\n",
            "\u001b[1m3/3\u001b[0m \u001b[32m━━━━━━━━━━━━━━━━━━━━\u001b[0m\u001b[37m\u001b[0m \u001b[1m0s\u001b[0m 29ms/step - accuracy: 0.8796 - loss: 0.3172 - val_accuracy: 0.9000 - val_loss: 0.2421\n",
            "Epoch 79/100\n",
            "\u001b[1m3/3\u001b[0m \u001b[32m━━━━━━━━━━━━━━━━━━━━\u001b[0m\u001b[37m\u001b[0m \u001b[1m0s\u001b[0m 16ms/step - accuracy: 0.8718 - loss: 0.3240 - val_accuracy: 0.9000 - val_loss: 0.2416\n",
            "Epoch 80/100\n",
            "\u001b[1m3/3\u001b[0m \u001b[32m━━━━━━━━━━━━━━━━━━━━\u001b[0m\u001b[37m\u001b[0m \u001b[1m0s\u001b[0m 16ms/step - accuracy: 0.8562 - loss: 0.3315 - val_accuracy: 0.9000 - val_loss: 0.2394\n",
            "Epoch 81/100\n",
            "\u001b[1m3/3\u001b[0m \u001b[32m━━━━━━━━━━━━━━━━━━━━\u001b[0m\u001b[37m\u001b[0m \u001b[1m0s\u001b[0m 16ms/step - accuracy: 0.8601 - loss: 0.3397 - val_accuracy: 0.9000 - val_loss: 0.2378\n",
            "Epoch 82/100\n",
            "\u001b[1m3/3\u001b[0m \u001b[32m━━━━━━━━━━━━━━━━━━━━\u001b[0m\u001b[37m\u001b[0m \u001b[1m0s\u001b[0m 16ms/step - accuracy: 0.8562 - loss: 0.3336 - val_accuracy: 0.9000 - val_loss: 0.2349\n",
            "Epoch 83/100\n",
            "\u001b[1m3/3\u001b[0m \u001b[32m━━━━━━━━━━━━━━━━━━━━\u001b[0m\u001b[37m\u001b[0m \u001b[1m0s\u001b[0m 16ms/step - accuracy: 0.8835 - loss: 0.3003 - val_accuracy: 0.9000 - val_loss: 0.2303\n",
            "Epoch 84/100\n",
            "\u001b[1m3/3\u001b[0m \u001b[32m━━━━━━━━━━━━━━━━━━━━\u001b[0m\u001b[37m\u001b[0m \u001b[1m0s\u001b[0m 20ms/step - accuracy: 0.8483 - loss: 0.3599 - val_accuracy: 0.9500 - val_loss: 0.2270\n",
            "Epoch 85/100\n",
            "\u001b[1m3/3\u001b[0m \u001b[32m━━━━━━━━━━━━━━━━━━━━\u001b[0m\u001b[37m\u001b[0m \u001b[1m0s\u001b[0m 20ms/step - accuracy: 0.8444 - loss: 0.3576 - val_accuracy: 0.9500 - val_loss: 0.2253\n",
            "Epoch 86/100\n",
            "\u001b[1m3/3\u001b[0m \u001b[32m━━━━━━━━━━━━━━━━━━━━\u001b[0m\u001b[37m\u001b[0m \u001b[1m0s\u001b[0m 21ms/step - accuracy: 0.8327 - loss: 0.3797 - val_accuracy: 0.9000 - val_loss: 0.2249\n",
            "Epoch 87/100\n",
            "\u001b[1m3/3\u001b[0m \u001b[32m━━━━━━━━━━━━━━━━━━━━\u001b[0m\u001b[37m\u001b[0m \u001b[1m0s\u001b[0m 16ms/step - accuracy: 0.8640 - loss: 0.3234 - val_accuracy: 0.9000 - val_loss: 0.2241\n",
            "Epoch 88/100\n",
            "\u001b[1m3/3\u001b[0m \u001b[32m━━━━━━━━━━━━━━━━━━━━\u001b[0m\u001b[37m\u001b[0m \u001b[1m0s\u001b[0m 17ms/step - accuracy: 0.8679 - loss: 0.3125 - val_accuracy: 0.9000 - val_loss: 0.2250\n",
            "Epoch 89/100\n",
            "\u001b[1m3/3\u001b[0m \u001b[32m━━━━━━━━━━━━━━━━━━━━\u001b[0m\u001b[37m\u001b[0m \u001b[1m0s\u001b[0m 16ms/step - accuracy: 0.8523 - loss: 0.3363 - val_accuracy: 0.9000 - val_loss: 0.2262\n",
            "Epoch 90/100\n",
            "\u001b[1m3/3\u001b[0m \u001b[32m━━━━━━━━━━━━━━━━━━━━\u001b[0m\u001b[37m\u001b[0m \u001b[1m0s\u001b[0m 16ms/step - accuracy: 0.8796 - loss: 0.3045 - val_accuracy: 0.9000 - val_loss: 0.2260\n",
            "Epoch 91/100\n",
            "\u001b[1m3/3\u001b[0m \u001b[32m━━━━━━━━━━━━━━━━━━━━\u001b[0m\u001b[37m\u001b[0m \u001b[1m0s\u001b[0m 16ms/step - accuracy: 0.8405 - loss: 0.3587 - val_accuracy: 0.9000 - val_loss: 0.2250\n",
            "Epoch 92/100\n",
            "\u001b[1m3/3\u001b[0m \u001b[32m━━━━━━━━━━━━━━━━━━━━\u001b[0m\u001b[37m\u001b[0m \u001b[1m0s\u001b[0m 17ms/step - accuracy: 0.8679 - loss: 0.3156 - val_accuracy: 0.9000 - val_loss: 0.2233\n",
            "Epoch 93/100\n",
            "\u001b[1m3/3\u001b[0m \u001b[32m━━━━━━━━━━━━━━━━━━━━\u001b[0m\u001b[37m\u001b[0m \u001b[1m0s\u001b[0m 17ms/step - accuracy: 0.8483 - loss: 0.3412 - val_accuracy: 0.9000 - val_loss: 0.2197\n",
            "Epoch 94/100\n",
            "\u001b[1m3/3\u001b[0m \u001b[32m━━━━━━━━━━━━━━━━━━━━\u001b[0m\u001b[37m\u001b[0m \u001b[1m0s\u001b[0m 15ms/step - accuracy: 0.8718 - loss: 0.3030 - val_accuracy: 0.9000 - val_loss: 0.2159\n",
            "Epoch 95/100\n",
            "\u001b[1m3/3\u001b[0m \u001b[32m━━━━━━━━━━━━━━━━━━━━\u001b[0m\u001b[37m\u001b[0m \u001b[1m0s\u001b[0m 16ms/step - accuracy: 0.8562 - loss: 0.3236 - val_accuracy: 0.9000 - val_loss: 0.2135\n",
            "Epoch 96/100\n",
            "\u001b[1m3/3\u001b[0m \u001b[32m━━━━━━━━━━━━━━━━━━━━\u001b[0m\u001b[37m\u001b[0m \u001b[1m0s\u001b[0m 17ms/step - accuracy: 0.8679 - loss: 0.3281 - val_accuracy: 0.9000 - val_loss: 0.2138\n",
            "Epoch 97/100\n",
            "\u001b[1m3/3\u001b[0m \u001b[32m━━━━━━━━━━━━━━━━━━━━\u001b[0m\u001b[37m\u001b[0m \u001b[1m0s\u001b[0m 20ms/step - accuracy: 0.8562 - loss: 0.3208 - val_accuracy: 0.9000 - val_loss: 0.2127\n",
            "Epoch 98/100\n",
            "\u001b[1m3/3\u001b[0m \u001b[32m━━━━━━━━━━━━━━━━━━━━\u001b[0m\u001b[37m\u001b[0m \u001b[1m0s\u001b[0m 19ms/step - accuracy: 0.8601 - loss: 0.3169 - val_accuracy: 0.9000 - val_loss: 0.2131\n",
            "Epoch 99/100\n",
            "\u001b[1m3/3\u001b[0m \u001b[32m━━━━━━━━━━━━━━━━━━━━\u001b[0m\u001b[37m\u001b[0m \u001b[1m0s\u001b[0m 16ms/step - accuracy: 0.8523 - loss: 0.3171 - val_accuracy: 0.9000 - val_loss: 0.2127\n",
            "Epoch 100/100\n",
            "\u001b[1m3/3\u001b[0m \u001b[32m━━━━━━━━━━━━━━━━━━━━\u001b[0m\u001b[37m\u001b[0m \u001b[1m0s\u001b[0m 16ms/step - accuracy: 0.8562 - loss: 0.3123 - val_accuracy: 0.9000 - val_loss: 0.2139\n"
          ]
        }
      ]
    },
    {
      "cell_type": "code",
      "source": [
        "model.get_weights()"
      ],
      "metadata": {
        "colab": {
          "base_uri": "https://localhost:8080/"
        },
        "id": "8K2E1Z5Oupj_",
        "outputId": "c1160a42-0310-4f07-a8a9-4b648f3969ef"
      },
      "execution_count": null,
      "outputs": [
        {
          "output_type": "execute_result",
          "data": {
            "text/plain": [
              "[array([[ 0.04508534,  0.8521351 ,  0.62748677,  0.34335005,  0.7735059 ,\n",
              "         -1.1385816 , -0.6704783 ,  1.6482716 , -1.1492846 ,  1.288606  ],\n",
              "        [ 0.8923528 ,  0.35113072, -0.5817242 , -1.010276  ,  0.56335646,\n",
              "         -1.0109516 ,  0.14362352,  1.171892  ,  0.4942697 , -0.5977411 ]],\n",
              "       dtype=float32),\n",
              " array([ 0.15505607,  0.12691258,  0.14800479,  0.17109673,  0.15378776,\n",
              "        -0.10365088, -0.03991505,  0.14050992,  0.05552428, -0.15428612],\n",
              "       dtype=float32),\n",
              " array([[ 0.35013998, -0.32547125, -0.73823434, -0.5170044 , -0.20969893,\n",
              "          0.17604326, -0.0615114 ,  0.23667727,  0.28883845,  0.02663571],\n",
              "        [ 0.20281142, -0.3382888 , -0.78596234,  0.50366724,  0.53732884,\n",
              "          0.09520636, -0.13244672, -0.29728454,  0.5983029 , -0.38952583],\n",
              "        [ 0.5445266 , -0.6661074 , -0.21634717, -0.12719661,  0.51140094,\n",
              "         -0.70963   ,  0.02454109,  0.46021017,  0.35711908,  0.24643925],\n",
              "        [-0.07468092, -0.33153644,  0.05524921, -0.41644445,  0.1186257 ,\n",
              "          0.3499211 ,  0.5307189 , -0.79738766, -0.74290544, -0.51441574],\n",
              "        [-0.7537873 , -0.68781716, -0.31119594, -0.62883383,  0.0907587 ,\n",
              "          0.7534776 , -0.4748478 ,  0.47162846,  0.47668552, -0.15600103],\n",
              "        [-0.29103714,  0.8601412 ,  0.2901908 ,  0.0195334 , -0.42517513,\n",
              "          0.06937291,  0.54700714,  0.09098604,  0.1311093 , -0.29295075],\n",
              "        [-0.3081845 ,  0.6174661 ,  0.49290866,  0.31146944, -0.7480017 ,\n",
              "          0.55493516,  0.40033183,  0.16143176,  0.3248994 ,  0.29961672],\n",
              "        [-0.2613944 , -0.69808066,  0.30467117, -0.09473664,  0.26244608,\n",
              "         -0.5697829 , -0.76978713,  0.23085552,  0.4698782 , -0.45319226],\n",
              "        [ 0.7839082 ,  0.76210713,  0.6230885 , -0.44388413, -0.42262375,\n",
              "          0.62847346, -0.2896058 , -0.51432043,  0.45021018,  0.38726136],\n",
              "        [ 0.5218706 ,  0.5953982 , -0.5405519 , -0.2769108 ,  0.27768657,\n",
              "          0.07525677, -0.1801892 , -0.7023596 , -0.51520556,  0.46795353]],\n",
              "       dtype=float32),\n",
              " array([-0.03311903,  0.10013448, -0.05722008,  0.        ,  0.09867264,\n",
              "        -0.01404816, -0.03864491,  0.09379523,  0.13776511, -0.08614774],\n",
              "       dtype=float32),\n",
              " array([[-0.5106379 , -0.55340385, -0.30134848, -0.09674152,  0.4056231 ,\n",
              "          0.17129497,  0.23321629, -0.46996662,  0.1791645 ,  0.46567327],\n",
              "        [-0.5626276 ,  0.47223815,  0.38318604, -0.22739644, -0.6646982 ,\n",
              "         -0.3908383 ,  0.8717326 ,  0.3835756 ,  0.10634201, -0.4768976 ],\n",
              "        [-0.6963476 ,  0.1912615 ,  0.76897794,  0.3634905 ,  0.1463315 ,\n",
              "          0.5584778 ,  0.07943197,  0.6506187 , -0.5743924 , -0.5299454 ],\n",
              "        [-0.48336336,  0.516852  ,  0.2099042 , -0.6928433 , -0.3145521 ,\n",
              "         -0.6795343 ,  0.42960262, -0.25869638, -0.7074874 , -0.6018769 ],\n",
              "        [ 0.66804403, -0.73206955,  0.47234648,  0.61615884, -0.3876935 ,\n",
              "          0.35941502, -0.55571175,  0.1249139 ,  0.24825747, -0.566418  ],\n",
              "        [-0.30875832, -0.03413984,  0.24703874,  0.47024834, -0.6726904 ,\n",
              "          0.2424136 ,  0.88634855, -0.57996696, -0.80028844, -0.22048168],\n",
              "        [-0.5136124 ,  0.42568272,  0.02199519,  0.61651033,  0.56258255,\n",
              "         -0.05212015,  0.16023   ,  0.24275851, -0.2360553 , -0.34756806],\n",
              "        [ 0.7614031 , -0.55230796,  0.3732472 , -0.6322703 , -0.5835444 ,\n",
              "          0.26623338, -0.5458492 , -0.23770826, -0.23185086,  0.74719393],\n",
              "        [ 0.08556285, -0.67737484, -0.4639455 , -0.18389969,  0.16307184,\n",
              "         -0.35908136,  0.477472  , -0.08488938,  0.82986414,  0.53221154],\n",
              "        [ 0.6138553 , -0.09870739,  0.12709415, -0.27396598, -0.4230002 ,\n",
              "         -0.3145727 , -0.18262699, -0.6370422 ,  0.03080369,  0.630674  ]],\n",
              "       dtype=float32),\n",
              " array([-0.10587935, -0.06743626,  0.03324988,  0.0652323 , -0.04143124,\n",
              "         0.15613334,  0.06472524, -0.00728003,  0.21502611,  0.08391359],\n",
              "       dtype=float32),\n",
              " array([[-0.4013824 , -0.10239206,  0.01836534,  0.57326454,  0.02294972,\n",
              "          0.1436556 ,  0.5987018 ,  0.15414225, -0.51103103,  0.25321394],\n",
              "        [-0.7029617 ,  0.48773825, -0.639651  ,  0.379048  , -0.13118164,\n",
              "         -0.5271834 ,  0.6294348 ,  0.14421117,  0.5357588 , -0.51812714],\n",
              "        [ 0.06935956,  0.3023758 , -0.3557358 , -0.7203117 ,  0.14378367,\n",
              "         -0.46044275,  0.52840406, -0.47033116, -0.6528506 , -0.26311088],\n",
              "        [ 0.82177824,  0.5839176 ,  0.96229565, -0.52375466, -0.4251122 ,\n",
              "         -0.32765758,  0.679162  , -0.04095893,  0.7677596 ,  0.8582572 ],\n",
              "        [ 0.8072289 ,  0.16911994,  0.30001578,  0.48839286, -0.7673208 ,\n",
              "          0.4193229 , -0.6148178 ,  0.4246492 , -0.66539836,  0.72829795],\n",
              "        [ 0.7225753 , -0.6276814 ,  0.46544784,  0.2053578 , -0.64146066,\n",
              "          0.13486634,  0.11539165, -0.48577076, -0.1696567 ,  0.5358144 ],\n",
              "        [-0.03735492,  0.53553414, -0.31344032, -0.8076291 ,  0.69307846,\n",
              "          0.02343166, -0.24968398, -0.456507  ,  0.0493976 , -0.37594962],\n",
              "        [-0.79144037,  0.6936645 , -0.15794945, -0.51234734, -0.53377426,\n",
              "         -0.01240671, -0.6376492 , -0.5014821 ,  0.563912  , -0.43861052],\n",
              "        [ 0.57894766, -0.51833695,  0.16768019,  0.51903903,  0.8105715 ,\n",
              "         -0.53983164, -0.30911756, -0.4988933 ,  0.62592095,  0.18135527],\n",
              "        [-0.48799345,  0.23342694, -0.8512428 , -0.01090783,  0.45827988,\n",
              "         -0.2741474 , -0.4218669 ,  0.26690918, -0.82530314, -0.12845893]],\n",
              "       dtype=float32),\n",
              " array([ 0.10784549,  0.00773613,  0.17668268, -0.03558183,  0.12348559,\n",
              "        -0.02749423,  0.00227341, -0.02823935,  0.07130424,  0.11558305],\n",
              "       dtype=float32),\n",
              " array([[ 0.5354976 ],\n",
              "        [-0.5485954 ],\n",
              "        [ 0.202717  ],\n",
              "        [-0.81813735],\n",
              "        [-0.42717147],\n",
              "        [-0.53324777],\n",
              "        [ 0.6830789 ],\n",
              "        [-0.24257043],\n",
              "        [ 0.48655725],\n",
              "        [ 0.32019675]], dtype=float32),\n",
              " array([-0.02728754], dtype=float32)]"
            ]
          },
          "metadata": {},
          "execution_count": 38
        }
      ]
    },
    {
      "cell_type": "code",
      "source": [
        "from mlxtend.plotting import plot_decision_regions\n",
        "plot_decision_regions(X,y.astype('int'), clf=model, legend=2)"
      ],
      "metadata": {
        "colab": {
          "base_uri": "https://localhost:8080/",
          "height": 465
        },
        "id": "h2jKnSGeuuLY",
        "outputId": "104ce916-db84-40c8-e70b-31c9cfb54bd3"
      },
      "execution_count": null,
      "outputs": [
        {
          "output_type": "stream",
          "name": "stdout",
          "text": [
            "\u001b[1m9600/9600\u001b[0m \u001b[32m━━━━━━━━━━━━━━━━━━━━\u001b[0m\u001b[37m\u001b[0m \u001b[1m13s\u001b[0m 1ms/step\n"
          ]
        },
        {
          "output_type": "execute_result",
          "data": {
            "text/plain": [
              "<Axes: >"
            ]
          },
          "metadata": {},
          "execution_count": 39
        },
        {
          "output_type": "display_data",
          "data": {
            "text/plain": [
              "<Figure size 640x480 with 1 Axes>"
            ],
            "image/png": "[encoded data removed]"
          },
          "metadata": {}
        }
      ]
    },
    {
      "cell_type": "code",
      "source": [],
      "metadata": {
        "id": "b2DJRNfI3BOE"
      },
      "execution_count": null,
      "outputs": []
    }
  ]
}