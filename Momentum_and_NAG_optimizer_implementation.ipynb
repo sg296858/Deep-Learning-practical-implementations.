{
  "nbformat": 4,
  "nbformat_minor": 0,
  "metadata": {
    "colab": {
      "provenance": []
    },
    "kernelspec": {
      "name": "python3",
      "display_name": "Python 3"
    },
    "language_info": {
      "name": "python"
    }
  },
  "cells": [
    {
      "cell_type": "markdown",
      "source": [
        "#Momentuum optimizer in keras"
      ],
      "metadata": {
        "id": "EDyV2d-wW16Z"
      }
    },
    {
      "cell_type": "code",
      "source": [
        "import tensorflow as tf\n",
        "from tensorflow.keras.models import Sequential\n",
        "from tensorflow.keras.layers import Dense\n",
        "from tensorflow.keras.optimizers import SGD\n",
        "\n",
        "# Build a simple model\n",
        "model = Sequential([\n",
        "    Dense(64, activation='relu', input_shape=(32,)),\n",
        "    Dense(10, activation='softmax')\n",
        "])\n",
        "\n",
        "# Use SGD with Momentum\n",
        "optimizer = SGD(learning_rate=0.01, momentum=0.9)\n",
        "\n",
        "# Compile the model\n",
        "model.compile(optimizer=optimizer, loss='categorical_crossentropy', metrics=['accuracy'])\n",
        "\n",
        "# Example of training\n",
        "# model.fit(x_train, y_train, epochs=10, batch_size=32)\n"
      ],
      "metadata": {
        "colab": {
          "base_uri": "https://localhost:8080/"
        },
        "id": "B_kAeRsoW5gg",
        "outputId": "56cc804b-7b30-4718-cb3f-c307dd534532"
      },
      "execution_count": 1,
      "outputs": [
        {
          "output_type": "stream",
          "name": "stderr",
          "text": [
            "/usr/local/lib/python3.10/dist-packages/keras/src/layers/core/dense.py:87: UserWarning: Do not pass an `input_shape`/`input_dim` argument to a layer. When using Sequential models, prefer using an `Input(shape)` object as the first layer in the model instead.\n",
            "  super().__init__(activity_regularizer=activity_regularizer, **kwargs)\n"
          ]
        }
      ]
    },
    {
      "cell_type": "markdown",
      "source": [
        "#NAG optimizer in keras"
      ],
      "metadata": {
        "id": "wzz6eAjIW6oB"
      }
    },
    {
      "cell_type": "code",
      "source": [
        "import tensorflow as tf\n",
        "from tensorflow.keras.models import Sequential\n",
        "from tensorflow.keras.layers import Dense\n",
        "from tensorflow.keras.optimizers import SGD\n",
        "\n",
        "# Build a simple model\n",
        "model = Sequential([\n",
        "    Dense(64, activation='relu', input_shape=(32,)),\n",
        "    Dense(10, activation='softmax')\n",
        "])\n",
        "\n",
        "# Use SGD with Nesterov Accelerated Gradient (NAG)\n",
        "optimizer = SGD(learning_rate=0.01, momentum=0.9, nesterov=True)\n",
        "\n",
        "# Compile the model\n",
        "model.compile(optimizer=optimizer, loss='categorical_crossentropy', metrics=['accuracy'])\n",
        "\n",
        "# Example of training\n",
        "# model.fit(x_train, y_train, epochs=10, batch_size=32)\n"
      ],
      "metadata": {
        "id": "eviPIymtW983"
      },
      "execution_count": 2,
      "outputs": []
    }
  ]
}