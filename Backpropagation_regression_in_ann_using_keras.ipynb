{
  "nbformat": 4,
  "nbformat_minor": 0,
  "metadata": {
    "colab": {
      "provenance": []
    },
    "kernelspec": {
      "name": "python3",
      "display_name": "Python 3"
    },
    "language_info": {
      "name": "python"
    }
  },
  "cells": [
    {
      "cell_type": "code",
      "execution_count": 2,
      "metadata": {
        "id": "zYyk_jD2fcJE"
      },
      "outputs": [],
      "source": [
        "import numpy as np\n",
        "import pandas as pd"
      ]
    },
    {
      "cell_type": "code",
      "source": [
        "df = pd.DataFrame([[8,8,4],[7,9,5],[6,10,6],[5,12,7]], columns=['cgpa', 'profile_score', 'lpa'])"
      ],
      "metadata": {
        "id": "ttE_tLjxfiqQ"
      },
      "execution_count": 3,
      "outputs": []
    },
    {
      "cell_type": "code",
      "source": [
        "df"
      ],
      "metadata": {
        "colab": {
          "base_uri": "https://localhost:8080/",
          "height": 175
        },
        "id": "L9wDWDQvfpD5",
        "outputId": "5baa7d55-e0dc-4a74-bea8-06b957aace70"
      },
      "execution_count": 4,
      "outputs": [
        {
          "output_type": "execute_result",
          "data": {
            "text/plain": [
              "   cgpa  profile_score  lpa\n",
              "0     8              8    4\n",
              "1     7              9    5\n",
              "2     6             10    6\n",
              "3     5             12    7"
            ],
            "text/html": [
              "\n",
              "  <div id=\"df-39b32c0a-53a3-40b3-98cb-a6ca129b0959\" class=\"colab-df-container\">\n",
              "    <div>\n",
              "<style scoped>\n",
              "    .dataframe tbody tr th:only-of-type {\n",
              "        vertical-align: middle;\n",
              "    }\n",
              "\n",
              "    .dataframe tbody tr th {\n",
              "        vertical-align: top;\n",
              "    }\n",
              "\n",
              "    .dataframe thead th {\n",
              "        text-align: right;\n",
              "    }\n",
              "</style>\n",
              "<table border=\"1\" class=\"dataframe\">\n",
              "  <thead>\n",
              "    <tr style=\"text-align: right;\">\n",
              "      <th></th>\n",
              "      <th>cgpa</th>\n",
              "      <th>profile_score</th>\n",
              "      <th>lpa</th>\n",
              "    </tr>\n",
              "  </thead>\n",
              "  <tbody>\n",
              "    <tr>\n",
              "      <th>0</th>\n",
              "      <td>8</td>\n",
              "      <td>8</td>\n",
              "      <td>4</td>\n",
              "    </tr>\n",
              "    <tr>\n",
              "      <th>1</th>\n",
              "      <td>7</td>\n",
              "      <td>9</td>\n",
              "      <td>5</td>\n",
              "    </tr>\n",
              "    <tr>\n",
              "      <th>2</th>\n",
              "      <td>6</td>\n",
              "      <td>10</td>\n",
              "      <td>6</td>\n",
              "    </tr>\n",
              "    <tr>\n",
              "      <th>3</th>\n",
              "      <td>5</td>\n",
              "      <td>12</td>\n",
              "      <td>7</td>\n",
              "    </tr>\n",
              "  </tbody>\n",
              "</table>\n",
              "</div>\n",
              "    <div class=\"colab-df-buttons\">\n",
              "\n",
              "  <div class=\"colab-df-container\">\n",
              "    <button class=\"colab-df-convert\" onclick=\"convertToInteractive('df-39b32c0a-53a3-40b3-98cb-a6ca129b0959')\"\n",
              "            title=\"Convert this dataframe to an interactive table.\"\n",
              "            style=\"display:none;\">\n",
              "\n",
              "  <svg xmlns=\"http://www.w3.org/2000/svg\" height=\"24px\" viewBox=\"0 -960 960 960\">\n",
              "    <path d=\"M120-120v-720h720v720H120Zm60-500h600v-160H180v160Zm220 220h160v-160H400v160Zm0 220h160v-160H400v160ZM180-400h160v-160H180v160Zm440 0h160v-160H620v160ZM180-180h160v-160H180v160Zm440 0h160v-160H620v160Z\"/>\n",
              "  </svg>\n",
              "    </button>\n",
              "\n",
              "  <style>\n",
              "    .colab-df-container {\n",
              "      display:flex;\n",
              "      gap: 12px;\n",
              "    }\n",
              "\n",
              "    .colab-df-convert {\n",
              "      background-color: #E8F0FE;\n",
              "      border: none;\n",
              "      border-radius: 50%;\n",
              "      cursor: pointer;\n",
              "      display: none;\n",
              "      fill: #1967D2;\n",
              "      height: 32px;\n",
              "      padding: 0 0 0 0;\n",
              "      width: 32px;\n",
              "    }\n",
              "\n",
              "    .colab-df-convert:hover {\n",
              "      background-color: #E2EBFA;\n",
              "      box-shadow: 0px 1px 2px rgba(60, 64, 67, 0.3), 0px 1px 3px 1px rgba(60, 64, 67, 0.15);\n",
              "      fill: #174EA6;\n",
              "    }\n",
              "\n",
              "    .colab-df-buttons div {\n",
              "      margin-bottom: 4px;\n",
              "    }\n",
              "\n",
              "    [theme=dark] .colab-df-convert {\n",
              "      background-color: #3B4455;\n",
              "      fill: #D2E3FC;\n",
              "    }\n",
              "\n",
              "    [theme=dark] .colab-df-convert:hover {\n",
              "      background-color: #434B5C;\n",
              "      box-shadow: 0px 1px 3px 1px rgba(0, 0, 0, 0.15);\n",
              "      filter: drop-shadow(0px 1px 2px rgba(0, 0, 0, 0.3));\n",
              "      fill: #FFFFFF;\n",
              "    }\n",
              "  </style>\n",
              "\n",
              "    <script>\n",
              "      const buttonEl =\n",
              "        document.querySelector('#df-39b32c0a-53a3-40b3-98cb-a6ca129b0959 button.colab-df-convert');\n",
              "      buttonEl.style.display =\n",
              "        google.colab.kernel.accessAllowed ? 'block' : 'none';\n",
              "\n",
              "      async function convertToInteractive(key) {\n",
              "        const element = document.querySelector('#df-39b32c0a-53a3-40b3-98cb-a6ca129b0959');\n",
              "        const dataTable =\n",
              "          await google.colab.kernel.invokeFunction('convertToInteractive',\n",
              "                                                    [key], {});\n",
              "        if (!dataTable) return;\n",
              "\n",
              "        const docLinkHtml = 'Like what you see? Visit the ' +\n",
              "          '<a target=\"_blank\" href=https://colab.research.google.com/notebooks/data_table.ipynb>data table notebook</a>'\n",
              "          + ' to learn more about interactive tables.';\n",
              "        element.innerHTML = '';\n",
              "        dataTable['output_type'] = 'display_data';\n",
              "        await google.colab.output.renderOutput(dataTable, element);\n",
              "        const docLink = document.createElement('div');\n",
              "        docLink.innerHTML = docLinkHtml;\n",
              "        element.appendChild(docLink);\n",
              "      }\n",
              "    </script>\n",
              "  </div>\n",
              "\n",
              "\n",
              "<div id=\"df-81470458-bfdd-40fd-8993-b2fc839a4236\">\n",
              "  <button class=\"colab-df-quickchart\" onclick=\"quickchart('df-81470458-bfdd-40fd-8993-b2fc839a4236')\"\n",
              "            title=\"Suggest charts\"\n",
              "            style=\"display:none;\">\n",
              "\n",
              "<svg xmlns=\"http://www.w3.org/2000/svg\" height=\"24px\"viewBox=\"0 0 24 24\"\n",
              "     width=\"24px\">\n",
              "    <g>\n",
              "        <path d=\"M19 3H5c-1.1 0-2 .9-2 2v14c0 1.1.9 2 2 2h14c1.1 0 2-.9 2-2V5c0-1.1-.9-2-2-2zM9 17H7v-7h2v7zm4 0h-2V7h2v10zm4 0h-2v-4h2v4z\"/>\n",
              "    </g>\n",
              "</svg>\n",
              "  </button>\n",
              "\n",
              "<style>\n",
              "  .colab-df-quickchart {\n",
              "      --bg-color: #E8F0FE;\n",
              "      --fill-color: #1967D2;\n",
              "      --hover-bg-color: #E2EBFA;\n",
              "      --hover-fill-color: #174EA6;\n",
              "      --disabled-fill-color: #AAA;\n",
              "      --disabled-bg-color: #DDD;\n",
              "  }\n",
              "\n",
              "  [theme=dark] .colab-df-quickchart {\n",
              "      --bg-color: #3B4455;\n",
              "      --fill-color: #D2E3FC;\n",
              "      --hover-bg-color: #434B5C;\n",
              "      --hover-fill-color: #FFFFFF;\n",
              "      --disabled-bg-color: #3B4455;\n",
              "      --disabled-fill-color: #666;\n",
              "  }\n",
              "\n",
              "  .colab-df-quickchart {\n",
              "    background-color: var(--bg-color);\n",
              "    border: none;\n",
              "    border-radius: 50%;\n",
              "    cursor: pointer;\n",
              "    display: none;\n",
              "    fill: var(--fill-color);\n",
              "    height: 32px;\n",
              "    padding: 0;\n",
              "    width: 32px;\n",
              "  }\n",
              "\n",
              "  .colab-df-quickchart:hover {\n",
              "    background-color: var(--hover-bg-color);\n",
              "    box-shadow: 0 1px 2px rgba(60, 64, 67, 0.3), 0 1px 3px 1px rgba(60, 64, 67, 0.15);\n",
              "    fill: var(--button-hover-fill-color);\n",
              "  }\n",
              "\n",
              "  .colab-df-quickchart-complete:disabled,\n",
              "  .colab-df-quickchart-complete:disabled:hover {\n",
              "    background-color: var(--disabled-bg-color);\n",
              "    fill: var(--disabled-fill-color);\n",
              "    box-shadow: none;\n",
              "  }\n",
              "\n",
              "  .colab-df-spinner {\n",
              "    border: 2px solid var(--fill-color);\n",
              "    border-color: transparent;\n",
              "    border-bottom-color: var(--fill-color);\n",
              "    animation:\n",
              "      spin 1s steps(1) infinite;\n",
              "  }\n",
              "\n",
              "  @keyframes spin {\n",
              "    0% {\n",
              "      border-color: transparent;\n",
              "      border-bottom-color: var(--fill-color);\n",
              "      border-left-color: var(--fill-color);\n",
              "    }\n",
              "    20% {\n",
              "      border-color: transparent;\n",
              "      border-left-color: var(--fill-color);\n",
              "      border-top-color: var(--fill-color);\n",
              "    }\n",
              "    30% {\n",
              "      border-color: transparent;\n",
              "      border-left-color: var(--fill-color);\n",
              "      border-top-color: var(--fill-color);\n",
              "      border-right-color: var(--fill-color);\n",
              "    }\n",
              "    40% {\n",
              "      border-color: transparent;\n",
              "      border-right-color: var(--fill-color);\n",
              "      border-top-color: var(--fill-color);\n",
              "    }\n",
              "    60% {\n",
              "      border-color: transparent;\n",
              "      border-right-color: var(--fill-color);\n",
              "    }\n",
              "    80% {\n",
              "      border-color: transparent;\n",
              "      border-right-color: var(--fill-color);\n",
              "      border-bottom-color: var(--fill-color);\n",
              "    }\n",
              "    90% {\n",
              "      border-color: transparent;\n",
              "      border-bottom-color: var(--fill-color);\n",
              "    }\n",
              "  }\n",
              "</style>\n",
              "\n",
              "  <script>\n",
              "    async function quickchart(key) {\n",
              "      const quickchartButtonEl =\n",
              "        document.querySelector('#' + key + ' button');\n",
              "      quickchartButtonEl.disabled = true;  // To prevent multiple clicks.\n",
              "      quickchartButtonEl.classList.add('colab-df-spinner');\n",
              "      try {\n",
              "        const charts = await google.colab.kernel.invokeFunction(\n",
              "            'suggestCharts', [key], {});\n",
              "      } catch (error) {\n",
              "        console.error('Error during call to suggestCharts:', error);\n",
              "      }\n",
              "      quickchartButtonEl.classList.remove('colab-df-spinner');\n",
              "      quickchartButtonEl.classList.add('colab-df-quickchart-complete');\n",
              "    }\n",
              "    (() => {\n",
              "      let quickchartButtonEl =\n",
              "        document.querySelector('#df-81470458-bfdd-40fd-8993-b2fc839a4236 button');\n",
              "      quickchartButtonEl.style.display =\n",
              "        google.colab.kernel.accessAllowed ? 'block' : 'none';\n",
              "    })();\n",
              "  </script>\n",
              "</div>\n",
              "\n",
              "  <div id=\"id_20d23e9c-f7b2-4ad8-b88a-e1e3d641a3c0\">\n",
              "    <style>\n",
              "      .colab-df-generate {\n",
              "        background-color: #E8F0FE;\n",
              "        border: none;\n",
              "        border-radius: 50%;\n",
              "        cursor: pointer;\n",
              "        display: none;\n",
              "        fill: #1967D2;\n",
              "        height: 32px;\n",
              "        padding: 0 0 0 0;\n",
              "        width: 32px;\n",
              "      }\n",
              "\n",
              "      .colab-df-generate:hover {\n",
              "        background-color: #E2EBFA;\n",
              "        box-shadow: 0px 1px 2px rgba(60, 64, 67, 0.3), 0px 1px 3px 1px rgba(60, 64, 67, 0.15);\n",
              "        fill: #174EA6;\n",
              "      }\n",
              "\n",
              "      [theme=dark] .colab-df-generate {\n",
              "        background-color: #3B4455;\n",
              "        fill: #D2E3FC;\n",
              "      }\n",
              "\n",
              "      [theme=dark] .colab-df-generate:hover {\n",
              "        background-color: #434B5C;\n",
              "        box-shadow: 0px 1px 3px 1px rgba(0, 0, 0, 0.15);\n",
              "        filter: drop-shadow(0px 1px 2px rgba(0, 0, 0, 0.3));\n",
              "        fill: #FFFFFF;\n",
              "      }\n",
              "    </style>\n",
              "    <button class=\"colab-df-generate\" onclick=\"generateWithVariable('df')\"\n",
              "            title=\"Generate code using this dataframe.\"\n",
              "            style=\"display:none;\">\n",
              "\n",
              "  <svg xmlns=\"http://www.w3.org/2000/svg\" height=\"24px\"viewBox=\"0 0 24 24\"\n",
              "       width=\"24px\">\n",
              "    <path d=\"M7,19H8.4L18.45,9,17,7.55,7,17.6ZM5,21V16.75L18.45,3.32a2,2,0,0,1,2.83,0l1.4,1.43a1.91,1.91,0,0,1,.58,1.4,1.91,1.91,0,0,1-.58,1.4L9.25,21ZM18.45,9,17,7.55Zm-12,3A5.31,5.31,0,0,0,4.9,8.1,5.31,5.31,0,0,0,1,6.5,5.31,5.31,0,0,0,4.9,4.9,5.31,5.31,0,0,0,6.5,1,5.31,5.31,0,0,0,8.1,4.9,5.31,5.31,0,0,0,12,6.5,5.46,5.46,0,0,0,6.5,12Z\"/>\n",
              "  </svg>\n",
              "    </button>\n",
              "    <script>\n",
              "      (() => {\n",
              "      const buttonEl =\n",
              "        document.querySelector('#id_20d23e9c-f7b2-4ad8-b88a-e1e3d641a3c0 button.colab-df-generate');\n",
              "      buttonEl.style.display =\n",
              "        google.colab.kernel.accessAllowed ? 'block' : 'none';\n",
              "\n",
              "      buttonEl.onclick = () => {\n",
              "        google.colab.notebook.generateWithVariable('df');\n",
              "      }\n",
              "      })();\n",
              "    </script>\n",
              "  </div>\n",
              "\n",
              "    </div>\n",
              "  </div>\n"
            ],
            "application/vnd.google.colaboratory.intrinsic+json": {
              "type": "dataframe",
              "variable_name": "df",
              "summary": "{\n  \"name\": \"df\",\n  \"rows\": 4,\n  \"fields\": [\n    {\n      \"column\": \"cgpa\",\n      \"properties\": {\n        \"dtype\": \"number\",\n        \"std\": 1,\n        \"min\": 5,\n        \"max\": 8,\n        \"num_unique_values\": 4,\n        \"samples\": [\n          7,\n          5,\n          8\n        ],\n        \"semantic_type\": \"\",\n        \"description\": \"\"\n      }\n    },\n    {\n      \"column\": \"profile_score\",\n      \"properties\": {\n        \"dtype\": \"number\",\n        \"std\": 1,\n        \"min\": 8,\n        \"max\": 12,\n        \"num_unique_values\": 4,\n        \"samples\": [\n          9,\n          12,\n          8\n        ],\n        \"semantic_type\": \"\",\n        \"description\": \"\"\n      }\n    },\n    {\n      \"column\": \"lpa\",\n      \"properties\": {\n        \"dtype\": \"number\",\n        \"std\": 1,\n        \"min\": 4,\n        \"max\": 7,\n        \"num_unique_values\": 4,\n        \"samples\": [\n          5,\n          7,\n          4\n        ],\n        \"semantic_type\": \"\",\n        \"description\": \"\"\n      }\n    }\n  ]\n}"
            }
          },
          "metadata": {},
          "execution_count": 4
        }
      ]
    },
    {
      "cell_type": "code",
      "source": [
        "X=df[['cgpa','profile_score']]\n",
        "Y=df['lpa']"
      ],
      "metadata": {
        "id": "hAfWFLb0fq-a"
      },
      "execution_count": 6,
      "outputs": []
    },
    {
      "cell_type": "code",
      "source": [
        "import tensorflow\n",
        "from tensorflow import keras\n",
        "from tensorflow.keras import Sequential\n",
        "from tensorflow.keras.layers import Dense,Flatten"
      ],
      "metadata": {
        "id": "EMdxCxD5f2TS"
      },
      "execution_count": 7,
      "outputs": []
    },
    {
      "cell_type": "code",
      "source": [
        "model = Sequential()\n",
        "model.add(Dense(128,activation='relu',input_dim=2))\n",
        "model.add(Dense(32,activation='relu'))\n",
        "model.add(Dense(1,activation='linear'))"
      ],
      "metadata": {
        "colab": {
          "base_uri": "https://localhost:8080/"
        },
        "id": "X7q4ordNf3nU",
        "outputId": "7fb2ebda-40ae-4a1a-89f2-b221808ad4f9"
      },
      "execution_count": 8,
      "outputs": [
        {
          "output_type": "stream",
          "name": "stderr",
          "text": [
            "/usr/local/lib/python3.10/dist-packages/keras/src/layers/core/dense.py:87: UserWarning: Do not pass an `input_shape`/`input_dim` argument to a layer. When using Sequential models, prefer using an `Input(shape)` object as the first layer in the model instead.\n",
            "  super().__init__(activity_regularizer=activity_regularizer, **kwargs)\n"
          ]
        }
      ]
    },
    {
      "cell_type": "code",
      "source": [
        "model.summary()"
      ],
      "metadata": {
        "colab": {
          "base_uri": "https://localhost:8080/",
          "height": 238
        },
        "id": "WnXhBseNf-Ej",
        "outputId": "7e4b45aa-0561-4999-cc12-f3dad6ed45e1"
      },
      "execution_count": 9,
      "outputs": [
        {
          "output_type": "display_data",
          "data": {
            "text/plain": [
              "\u001b[1mModel: \"sequential\"\u001b[0m\n"
            ],
            "text/html": [
              "<pre style=\"white-space:pre;overflow-x:auto;line-height:normal;font-family:Menlo,'DejaVu Sans Mono',consolas,'Courier New',monospace\"><span style=\"font-weight: bold\">Model: \"sequential\"</span>\n",
              "</pre>\n"
            ]
          },
          "metadata": {}
        },
        {
          "output_type": "display_data",
          "data": {
            "text/plain": [
              "┏━━━━━━━━━━━━━━━━━━━━━━━━━━━━━━━━━━━━━━┳━━━━━━━━━━━━━━━━━━━━━━━━━━━━━┳━━━━━━━━━━━━━━━━━┓\n",
              "┃\u001b[1m \u001b[0m\u001b[1mLayer (type)                        \u001b[0m\u001b[1m \u001b[0m┃\u001b[1m \u001b[0m\u001b[1mOutput Shape               \u001b[0m\u001b[1m \u001b[0m┃\u001b[1m \u001b[0m\u001b[1m        Param #\u001b[0m\u001b[1m \u001b[0m┃\n",
              "┡━━━━━━━━━━━━━━━━━━━━━━━━━━━━━━━━━━━━━━╇━━━━━━━━━━━━━━━━━━━━━━━━━━━━━╇━━━━━━━━━━━━━━━━━┩\n",
              "│ dense (\u001b[38;5;33mDense\u001b[0m)                        │ (\u001b[38;5;45mNone\u001b[0m, \u001b[38;5;34m128\u001b[0m)                 │             \u001b[38;5;34m384\u001b[0m │\n",
              "├──────────────────────────────────────┼─────────────────────────────┼─────────────────┤\n",
              "│ dense_1 (\u001b[38;5;33mDense\u001b[0m)                      │ (\u001b[38;5;45mNone\u001b[0m, \u001b[38;5;34m32\u001b[0m)                  │           \u001b[38;5;34m4,128\u001b[0m │\n",
              "├──────────────────────────────────────┼─────────────────────────────┼─────────────────┤\n",
              "│ dense_2 (\u001b[38;5;33mDense\u001b[0m)                      │ (\u001b[38;5;45mNone\u001b[0m, \u001b[38;5;34m1\u001b[0m)                   │              \u001b[38;5;34m33\u001b[0m │\n",
              "└──────────────────────────────────────┴─────────────────────────────┴─────────────────┘\n"
            ],
            "text/html": [
              "<pre style=\"white-space:pre;overflow-x:auto;line-height:normal;font-family:Menlo,'DejaVu Sans Mono',consolas,'Courier New',monospace\">┏━━━━━━━━━━━━━━━━━━━━━━━━━━━━━━━━━━━━━━┳━━━━━━━━━━━━━━━━━━━━━━━━━━━━━┳━━━━━━━━━━━━━━━━━┓\n",
              "┃<span style=\"font-weight: bold\"> Layer (type)                         </span>┃<span style=\"font-weight: bold\"> Output Shape                </span>┃<span style=\"font-weight: bold\">         Param # </span>┃\n",
              "┡━━━━━━━━━━━━━━━━━━━━━━━━━━━━━━━━━━━━━━╇━━━━━━━━━━━━━━━━━━━━━━━━━━━━━╇━━━━━━━━━━━━━━━━━┩\n",
              "│ dense (<span style=\"color: #0087ff; text-decoration-color: #0087ff\">Dense</span>)                        │ (<span style=\"color: #00d7ff; text-decoration-color: #00d7ff\">None</span>, <span style=\"color: #00af00; text-decoration-color: #00af00\">128</span>)                 │             <span style=\"color: #00af00; text-decoration-color: #00af00\">384</span> │\n",
              "├──────────────────────────────────────┼─────────────────────────────┼─────────────────┤\n",
              "│ dense_1 (<span style=\"color: #0087ff; text-decoration-color: #0087ff\">Dense</span>)                      │ (<span style=\"color: #00d7ff; text-decoration-color: #00d7ff\">None</span>, <span style=\"color: #00af00; text-decoration-color: #00af00\">32</span>)                  │           <span style=\"color: #00af00; text-decoration-color: #00af00\">4,128</span> │\n",
              "├──────────────────────────────────────┼─────────────────────────────┼─────────────────┤\n",
              "│ dense_2 (<span style=\"color: #0087ff; text-decoration-color: #0087ff\">Dense</span>)                      │ (<span style=\"color: #00d7ff; text-decoration-color: #00d7ff\">None</span>, <span style=\"color: #00af00; text-decoration-color: #00af00\">1</span>)                   │              <span style=\"color: #00af00; text-decoration-color: #00af00\">33</span> │\n",
              "└──────────────────────────────────────┴─────────────────────────────┴─────────────────┘\n",
              "</pre>\n"
            ]
          },
          "metadata": {}
        },
        {
          "output_type": "display_data",
          "data": {
            "text/plain": [
              "\u001b[1m Total params: \u001b[0m\u001b[38;5;34m4,545\u001b[0m (17.75 KB)\n"
            ],
            "text/html": [
              "<pre style=\"white-space:pre;overflow-x:auto;line-height:normal;font-family:Menlo,'DejaVu Sans Mono',consolas,'Courier New',monospace\"><span style=\"font-weight: bold\"> Total params: </span><span style=\"color: #00af00; text-decoration-color: #00af00\">4,545</span> (17.75 KB)\n",
              "</pre>\n"
            ]
          },
          "metadata": {}
        },
        {
          "output_type": "display_data",
          "data": {
            "text/plain": [
              "\u001b[1m Trainable params: \u001b[0m\u001b[38;5;34m4,545\u001b[0m (17.75 KB)\n"
            ],
            "text/html": [
              "<pre style=\"white-space:pre;overflow-x:auto;line-height:normal;font-family:Menlo,'DejaVu Sans Mono',consolas,'Courier New',monospace\"><span style=\"font-weight: bold\"> Trainable params: </span><span style=\"color: #00af00; text-decoration-color: #00af00\">4,545</span> (17.75 KB)\n",
              "</pre>\n"
            ]
          },
          "metadata": {}
        },
        {
          "output_type": "display_data",
          "data": {
            "text/plain": [
              "\u001b[1m Non-trainable params: \u001b[0m\u001b[38;5;34m0\u001b[0m (0.00 B)\n"
            ],
            "text/html": [
              "<pre style=\"white-space:pre;overflow-x:auto;line-height:normal;font-family:Menlo,'DejaVu Sans Mono',consolas,'Courier New',monospace\"><span style=\"font-weight: bold\"> Non-trainable params: </span><span style=\"color: #00af00; text-decoration-color: #00af00\">0</span> (0.00 B)\n",
              "</pre>\n"
            ]
          },
          "metadata": {}
        }
      ]
    },
    {
      "cell_type": "code",
      "source": [
        "model.compile(loss='mse',optimizer='Adam',metrics=['r2_score'])"
      ],
      "metadata": {
        "id": "cBXs_pqPgEYF"
      },
      "execution_count": 19,
      "outputs": []
    },
    {
      "cell_type": "markdown",
      "source": [
        "Initially weights are initualized different by keras."
      ],
      "metadata": {
        "id": "dmfWHkjtgP0i"
      }
    },
    {
      "cell_type": "code",
      "source": [
        "model.get_weights()"
      ],
      "metadata": {
        "colab": {
          "base_uri": "https://localhost:8080/"
        },
        "id": "FWhfW7OEgRBU",
        "outputId": "57005857-32f7-4885-fc26-051ccc93d623"
      },
      "execution_count": 20,
      "outputs": [
        {
          "output_type": "execute_result",
          "data": {
            "text/plain": [
              "[array([[ 0.22334719,  0.14670834,  0.14854883,  0.12385435, -0.21467082,\n",
              "          0.12216926,  0.10992   , -0.00191151, -0.01988827,  0.21094532,\n",
              "         -0.1603327 , -0.17687885,  0.13245456,  0.18586585,  0.13166879,\n",
              "         -0.15039408, -0.20455605,  0.00523084,  0.19408056, -0.1968905 ,\n",
              "         -0.04559464, -0.1263978 , -0.15483627,  0.1736123 , -0.10882396,\n",
              "         -0.08072288,  0.06567269, -0.21084847, -0.02150197,  0.13854651,\n",
              "          0.15978931,  0.11279579,  0.20131417,  0.13689797,  0.00833268,\n",
              "          0.06801499,  0.02439588,  0.15566143,  0.0829166 ,  0.13522647,\n",
              "          0.18933621,  0.1924209 , -0.10364714,  0.10272586,  0.05053633,\n",
              "          0.12110716, -0.106288  , -0.04849366, -0.21268156,  0.05672638,\n",
              "          0.08266424,  0.04053681, -0.07610863,  0.10890215, -0.03221561,\n",
              "         -0.15783377, -0.10822733, -0.01614656, -0.16699377,  0.04161572,\n",
              "          0.01264122,  0.1256439 ,  0.21609375, -0.0118072 , -0.07731694,\n",
              "          0.1854539 , -0.15760627,  0.10416715, -0.18724217, -0.00342701,\n",
              "          0.08924536, -0.0959295 ,  0.20806018, -0.20796625,  0.0311534 ,\n",
              "         -0.06389751, -0.204978  ,  0.12515482,  0.07272874, -0.05234945,\n",
              "         -0.06857471, -0.05723023, -0.13340776, -0.16404834, -0.04389784,\n",
              "          0.05643907,  0.20347376, -0.14671347, -0.2026873 , -0.15559515,\n",
              "         -0.04162754, -0.08773687,  0.04510837,  0.16507557,  0.15663593,\n",
              "          0.11527524, -0.10864238,  0.15954354,  0.13174002, -0.20640299,\n",
              "         -0.0221854 ,  0.157109  , -0.15258217, -0.0549587 , -0.16334595,\n",
              "          0.12271341,  0.10870363,  0.21318276, -0.09012298, -0.16254255,\n",
              "          0.00506003, -0.03719515,  0.11848492,  0.21183898, -0.14912498,\n",
              "          0.10669436,  0.143843  , -0.16041137, -0.0376517 ,  0.03388406,\n",
              "          0.01155645, -0.11556438,  0.06165775, -0.10890453, -0.0188759 ,\n",
              "         -0.09225992, -0.18458301, -0.12095076],\n",
              "        [ 0.02919009,  0.06950495,  0.12283628, -0.18735373,  0.06583045,\n",
              "         -0.07603326,  0.21489176, -0.0661633 ,  0.02469961,  0.06704026,\n",
              "         -0.12463538,  0.20431119, -0.2084823 , -0.1470669 ,  0.15319882,\n",
              "         -0.03185456, -0.04752743, -0.21039626,  0.05215841,  0.15952796,\n",
              "          0.05302813,  0.15164417, -0.11042956, -0.12891024,  0.17274724,\n",
              "         -0.08402143,  0.0400422 ,  0.19032022, -0.06413768, -0.17902835,\n",
              "          0.0865582 , -0.10442564, -0.00553919,  0.11462996,  0.13474786,\n",
              "         -0.04537318, -0.14262141, -0.0446924 , -0.01495746, -0.07413995,\n",
              "         -0.01953917, -0.09453748,  0.13492797, -0.00336719,  0.08946802,\n",
              "          0.11638105,  0.134841  ,  0.03868128, -0.15138596, -0.06482613,\n",
              "         -0.10599776, -0.06882544, -0.17297629,  0.1445295 , -0.03961462,\n",
              "          0.17498256, -0.18808219,  0.00116619,  0.01253904,  0.05487776,\n",
              "         -0.08838907, -0.15015298,  0.03643373, -0.14850439,  0.15963404,\n",
              "          0.06727341, -0.1718315 , -0.12293905,  0.08817109, -0.1263276 ,\n",
              "         -0.16665782, -0.07672113,  0.07439192, -0.03823207, -0.06384648,\n",
              "         -0.06565729, -0.02243854, -0.11377224,  0.02800144,  0.0615648 ,\n",
              "         -0.06619342, -0.18579336,  0.03859691, -0.06030162, -0.10087945,\n",
              "         -0.04445629, -0.17846559,  0.0319466 ,  0.20743388, -0.04949434,\n",
              "          0.16120318,  0.0353186 ,  0.15661551,  0.06007972, -0.0304961 ,\n",
              "          0.09985824, -0.06485395,  0.14748006,  0.15050752,  0.17666417,\n",
              "         -0.15588148, -0.07178927, -0.12598519, -0.00856382,  0.00563052,\n",
              "          0.02904748, -0.00842319,  0.21087393,  0.03513087,  0.18155935,\n",
              "         -0.0282535 ,  0.06913857,  0.02027281, -0.17903496, -0.06664973,\n",
              "         -0.16690634, -0.14663957, -0.11015226,  0.19321114, -0.20504571,\n",
              "          0.08388359,  0.16862231,  0.01591996,  0.14841066, -0.05566299,\n",
              "          0.05294815,  0.18767834,  0.13595441]], dtype=float32),\n",
              " array([ 9.7687962e-03,  9.8409038e-03,  9.8773222e-03,  0.0000000e+00,\n",
              "         0.0000000e+00,  9.7174197e-03,  9.7862389e-03,  0.0000000e+00,\n",
              "         9.7688464e-03,  7.2693196e-04,  0.0000000e+00,  2.4524401e-05,\n",
              "         0.0000000e+00,  8.7439129e-03,  1.5352119e-04,  0.0000000e+00,\n",
              "         0.0000000e+00,  0.0000000e+00, -6.1665731e-03, -9.4106188e-03,\n",
              "        -9.7398935e-03,  9.9532399e-03,  0.0000000e+00,  9.5297080e-03,\n",
              "        -9.8057836e-03,  0.0000000e+00,  9.8465420e-03, -9.8836720e-03,\n",
              "         0.0000000e+00,  0.0000000e+00, -9.8129539e-03, -1.1874049e-03,\n",
              "        -9.6242530e-03,  9.9503379e-03,  9.7415820e-03, -8.9395465e-03,\n",
              "         0.0000000e+00,  9.7184088e-03, -5.1852250e-03,  9.7469101e-03,\n",
              "         9.9146739e-03, -9.5760683e-03,  9.8178610e-03,  9.9168820e-03,\n",
              "        -7.2796140e-03, -9.5337275e-03,  9.9081751e-03,  9.8888688e-03,\n",
              "         0.0000000e+00,  0.0000000e+00,  0.0000000e+00,  0.0000000e+00,\n",
              "         0.0000000e+00,  2.7407510e-03,  0.0000000e+00, -9.8357778e-03,\n",
              "         0.0000000e+00,  0.0000000e+00,  0.0000000e+00, -9.6430145e-03,\n",
              "         0.0000000e+00,  0.0000000e+00,  3.5070027e-03,  0.0000000e+00,\n",
              "         2.2477761e-03, -9.7691128e-03,  0.0000000e+00,  0.0000000e+00,\n",
              "        -9.2871198e-03,  0.0000000e+00,  0.0000000e+00,  0.0000000e+00,\n",
              "         9.8986262e-03,  0.0000000e+00,  0.0000000e+00,  0.0000000e+00,\n",
              "         0.0000000e+00, -8.6201942e-03, -9.7639952e-03,  9.9572763e-03,\n",
              "         0.0000000e+00,  0.0000000e+00,  0.0000000e+00,  0.0000000e+00,\n",
              "         0.0000000e+00, -8.3650043e-03,  8.7475944e-03,  0.0000000e+00,\n",
              "        -8.9618247e-03,  0.0000000e+00,  9.1851633e-03,  0.0000000e+00,\n",
              "         9.6044969e-03,  9.8843751e-03,  9.1940947e-03,  9.4594518e-03,\n",
              "         0.0000000e+00,  8.5050631e-03,  9.8100388e-03, -9.9354861e-03,\n",
              "         0.0000000e+00,  9.7530782e-03,  0.0000000e+00,  0.0000000e+00,\n",
              "         0.0000000e+00, -9.8500084e-03, -9.7601535e-03,  9.8518152e-03,\n",
              "         0.0000000e+00,  9.9139363e-03,  0.0000000e+00, -9.8305605e-03,\n",
              "         7.3621012e-03,  8.0566201e-03,  0.0000000e+00,  0.0000000e+00,\n",
              "        -8.8648787e-03,  0.0000000e+00,  9.6319756e-03,  0.0000000e+00,\n",
              "         9.8610278e-03, -9.8832501e-03, -7.0730406e-03, -9.8349219e-03,\n",
              "         0.0000000e+00,  9.8040029e-03, -9.7383587e-03, -9.8148296e-03],\n",
              "       dtype=float32),\n",
              " array([[ 0.1397239 , -0.07469492, -0.16575922, ...,  0.11168561,\n",
              "          0.01766173, -0.162479  ],\n",
              "        [ 0.02807702,  0.0451704 ,  0.09087605, ...,  0.1411736 ,\n",
              "          0.06598008,  0.1578615 ],\n",
              "        [ 0.03372974,  0.19195244, -0.0914558 , ...,  0.04924925,\n",
              "         -0.05639015, -0.00310772],\n",
              "        ...,\n",
              "        [ 0.15640007,  0.07630732,  0.10760237, ...,  0.00718278,\n",
              "          0.12257677,  0.13271032],\n",
              "        [-0.06664564, -0.09777056, -0.07432567, ..., -0.12304767,\n",
              "         -0.15884885,  0.18425806],\n",
              "        [-0.15461726, -0.15095189,  0.15963732, ...,  0.03641025,\n",
              "          0.06471628,  0.1950396 ]], dtype=float32),\n",
              " array([-0.00978534,  0.00835411, -0.00976691,  0.00980554,  0.        ,\n",
              "         0.00953417,  0.        ,  0.        ,  0.00980577, -0.00978825,\n",
              "         0.        ,  0.00985828,  0.00980269, -0.00958997, -0.00978031,\n",
              "         0.00985303,  0.00983984,  0.00985277, -0.00449397,  0.        ,\n",
              "        -0.00978228, -0.00398292,  0.00958638,  0.00980509,  0.00981522,\n",
              "        -0.00979007,  0.        , -0.00971334,  0.        ,  0.00980385,\n",
              "         0.00981228,  0.00994313], dtype=float32),\n",
              " array([[-0.13504657],\n",
              "        [ 0.42850548],\n",
              "        [-0.05345937],\n",
              "        [ 0.25749448],\n",
              "        [ 0.26734114],\n",
              "        [ 0.13774365],\n",
              "        [ 0.05921304],\n",
              "        [-0.22659692],\n",
              "        [ 0.24977346],\n",
              "        [-0.17384398],\n",
              "        [-0.40201342],\n",
              "        [ 0.12385251],\n",
              "        [ 0.42468998],\n",
              "        [-0.27698222],\n",
              "        [-0.09571788],\n",
              "        [ 0.20747894],\n",
              "        [ 0.04765778],\n",
              "        [ 0.2690651 ],\n",
              "        [-0.1658894 ],\n",
              "        [-0.17649208],\n",
              "        [-0.10878075],\n",
              "        [-0.30650362],\n",
              "        [ 0.06905648],\n",
              "        [ 0.27463186],\n",
              "        [ 0.11173993],\n",
              "        [-0.21216215],\n",
              "        [-0.09229285],\n",
              "        [-0.05435266],\n",
              "        [-0.15639552],\n",
              "        [ 0.33615628],\n",
              "        [ 0.13429266],\n",
              "        [ 0.01571203]], dtype=float32),\n",
              " array([0.00979837], dtype=float32)]"
            ]
          },
          "metadata": {},
          "execution_count": 20
        }
      ]
    },
    {
      "cell_type": "code",
      "source": [
        "history = model.fit(X,Y,epochs=5)"
      ],
      "metadata": {
        "colab": {
          "base_uri": "https://localhost:8080/"
        },
        "id": "Kvvxox6ogKm7",
        "outputId": "6a19ddbc-ff84-43c5-97c3-c2962c3f4043"
      },
      "execution_count": 21,
      "outputs": [
        {
          "output_type": "stream",
          "name": "stdout",
          "text": [
            "Epoch 1/5\n",
            "\u001b[1m1/1\u001b[0m \u001b[32m━━━━━━━━━━━━━━━━━━━━\u001b[0m\u001b[37m\u001b[0m \u001b[1m1s\u001b[0m 1s/step - loss: 2.2604 - r2_score: -0.8083\n",
            "Epoch 2/5\n",
            "\u001b[1m1/1\u001b[0m \u001b[32m━━━━━━━━━━━━━━━━━━━━\u001b[0m\u001b[37m\u001b[0m \u001b[1m0s\u001b[0m 55ms/step - loss: 1.6154 - r2_score: -0.2923\n",
            "Epoch 3/5\n",
            "\u001b[1m1/1\u001b[0m \u001b[32m━━━━━━━━━━━━━━━━━━━━\u001b[0m\u001b[37m\u001b[0m \u001b[1m0s\u001b[0m 33ms/step - loss: 1.2936 - r2_score: -0.0349\n",
            "Epoch 4/5\n",
            "\u001b[1m1/1\u001b[0m \u001b[32m━━━━━━━━━━━━━━━━━━━━\u001b[0m\u001b[37m\u001b[0m \u001b[1m0s\u001b[0m 45ms/step - loss: 1.2122 - r2_score: 0.0302\n",
            "Epoch 5/5\n",
            "\u001b[1m1/1\u001b[0m \u001b[32m━━━━━━━━━━━━━━━━━━━━\u001b[0m\u001b[37m\u001b[0m \u001b[1m0s\u001b[0m 38ms/step - loss: 1.2136 - r2_score: 0.0291\n"
          ]
        }
      ]
    },
    {
      "cell_type": "markdown",
      "source": [
        "After applying backprop weights are getting upadted"
      ],
      "metadata": {
        "id": "5hsGZCz_g2Ii"
      }
    },
    {
      "cell_type": "code",
      "source": [
        "model.get_weights()"
      ],
      "metadata": {
        "colab": {
          "base_uri": "https://localhost:8080/"
        },
        "id": "fbrUXU5Ygtzu",
        "outputId": "3c542e5b-a3cc-412d-82f9-1931cd4f5ef6"
      },
      "execution_count": 22,
      "outputs": [
        {
          "output_type": "execute_result",
          "data": {
            "text/plain": [
              "[array([[ 0.22572707,  0.14882223,  0.15107957,  0.12385435, -0.21467082,\n",
              "          0.11731094,  0.11234827, -0.00191151, -0.01567812,  0.21404245,\n",
              "         -0.1603327 , -0.17330185,  0.13245456,  0.18086953,  0.13347794,\n",
              "         -0.15039408, -0.20455605,  0.00523084,  0.19226395, -0.20119183,\n",
              "         -0.04954445, -0.12365433, -0.15483627,  0.16876724, -0.11377618,\n",
              "         -0.08072288,  0.06840923, -0.21522306, -0.02150197,  0.13854651,\n",
              "          0.15770902,  0.10814255,  0.19876696,  0.13900912,  0.01167973,\n",
              "          0.07280007,  0.02439588,  0.15855964,  0.08225487,  0.13545741,\n",
              "          0.19136086,  0.19380137, -0.10223058,  0.10517091,  0.04926261,\n",
              "          0.11632452, -0.1036223 , -0.04411567, -0.21268156,  0.05672638,\n",
              "          0.08266424,  0.04053681, -0.07610863,  0.1107342 , -0.03221561,\n",
              "         -0.16109136, -0.10822733, -0.01614656, -0.16699377,  0.03666618,\n",
              "          0.01264122,  0.1256439 ,  0.21843548, -0.0118072 , -0.07499859,\n",
              "          0.18230008, -0.15760627,  0.10416715, -0.19014955, -0.00342701,\n",
              "          0.08924536, -0.0959295 ,  0.21025416, -0.20796625,  0.0311534 ,\n",
              "         -0.06389751, -0.204978  ,  0.1301164 ,  0.06872562, -0.05030271,\n",
              "         -0.06857471, -0.05723023, -0.13340776, -0.16404834, -0.04389784,\n",
              "          0.05171484,  0.19845869, -0.14671347, -0.2070335 , -0.15559515,\n",
              "         -0.03851922, -0.08773687,  0.04970406,  0.16751146,  0.16150457,\n",
              "          0.11770928, -0.10864238,  0.15491506,  0.13146177, -0.21079364,\n",
              "         -0.0221854 ,  0.15767756, -0.15258217, -0.0549587 , -0.16334595,\n",
              "          0.12057275,  0.1067023 ,  0.21559797, -0.09012298, -0.16055068,\n",
              "          0.00506003, -0.03691064,  0.12107066,  0.20692861, -0.14912498,\n",
              "          0.10669436,  0.143843  , -0.16041137, -0.03519404,  0.03388406,\n",
              "          0.01336806, -0.11850102,  0.06292254, -0.11153884, -0.0188759 ,\n",
              "         -0.08736242, -0.18908983, -0.1233192 ],\n",
              "        [ 0.03314914,  0.07340097,  0.12682463, -0.18735373,  0.06583045,\n",
              "         -0.0808322 ,  0.2189526 , -0.0661633 ,  0.02916922,  0.07122482,\n",
              "         -0.12463538,  0.20864524, -0.2084823 , -0.15206322,  0.15690807,\n",
              "         -0.03185456, -0.04752743, -0.21039626,  0.04849523,  0.1551678 ,\n",
              "          0.04875072,  0.15572795, -0.11042956, -0.13368   ,  0.16799192,\n",
              "         -0.08402143,  0.04412158,  0.18580174, -0.06413768, -0.17902835,\n",
              "          0.08272851, -0.10907888, -0.00933939,  0.11851966,  0.13915248,\n",
              "         -0.04066037, -0.14262141, -0.04059114, -0.01829239, -0.07226961,\n",
              "         -0.01565242, -0.09496304,  0.13859   ,  0.00057991,  0.08560219,\n",
              "          0.11180235,  0.13883157,  0.04321683, -0.15138596, -0.06482613,\n",
              "         -0.10599776, -0.06882544, -0.17297629,  0.14479052, -0.03961462,\n",
              "          0.17075086, -0.18808219,  0.00116619,  0.01253904,  0.05014152,\n",
              "         -0.08838907, -0.15015298,  0.04037776, -0.14850439,  0.16345547,\n",
              "          0.0631526 , -0.1718315 , -0.12293905,  0.08526368, -0.1263276 ,\n",
              "         -0.16665782, -0.07672113,  0.07832135, -0.03823207, -0.06384648,\n",
              "         -0.06565729, -0.02243854, -0.10881066,  0.02363724,  0.06545648,\n",
              "         -0.06619342, -0.18579336,  0.03859691, -0.06030162, -0.10087945,\n",
              "         -0.04918052, -0.18348067,  0.0319466 ,  0.20292199, -0.04949434,\n",
              "          0.16540354,  0.0353186 ,  0.1611547 ,  0.06406763, -0.02561918,\n",
              "          0.10380162, -0.06485395,  0.14322676,  0.15279685,  0.17215155,\n",
              "         -0.15588148, -0.06926757, -0.12598519, -0.00856382,  0.00563052,\n",
              "          0.025274  , -0.01195365,  0.21485984,  0.03513087,  0.1853721 ,\n",
              "         -0.0282535 ,  0.06688168,  0.02428691, -0.18394533, -0.06664973,\n",
              "         -0.16690634, -0.14663957, -0.11015226,  0.19717172, -0.20504571,\n",
              "          0.08766694,  0.16462201,  0.01957496,  0.1444194 , -0.05566299,\n",
              "          0.05785287,  0.18305147,  0.13204244]], dtype=float32),\n",
              " array([ 0.01318124,  0.01312472,  0.01338456,  0.        ,  0.        ,\n",
              "         0.00488803,  0.01335581,  0.        ,  0.01415491,  0.00457125,\n",
              "         0.        ,  0.00411353,  0.        ,  0.00374765,  0.00311706,\n",
              "         0.        ,  0.        ,  0.        , -0.00915912, -0.01374435,\n",
              "        -0.01391179,  0.01359155,  0.        ,  0.00472075, -0.01470463,\n",
              "         0.        ,  0.0135037 , -0.01434468,  0.        ,  0.        ,\n",
              "        -0.01302737, -0.00583946, -0.01298657,  0.01321215,  0.01379573,\n",
              "        -0.00418973,  0.        ,  0.01341578, -0.00746124,  0.01096347,\n",
              "         0.01312228, -0.00921993,  0.01256847,  0.01336316, -0.01039167,\n",
              "        -0.01421406,  0.01346044,  0.0143619 ,  0.        ,  0.        ,\n",
              "         0.        ,  0.        ,  0.        ,  0.00382666,  0.        ,\n",
              "        -0.01375719,  0.        ,  0.        ,  0.        , -0.01454222,\n",
              "         0.        ,  0.        ,  0.00691226,  0.        ,  0.00557077,\n",
              "        -0.01359354,  0.        ,  0.        , -0.01219421,  0.        ,\n",
              "         0.        ,  0.        ,  0.01323017,  0.        ,  0.        ,\n",
              "         0.        ,  0.        , -0.00365889, -0.01401141,  0.01320322,\n",
              "         0.        ,  0.        ,  0.        ,  0.        ,  0.        ,\n",
              "        -0.01308836,  0.00373258,  0.        , -0.0134177 ,  0.        ,\n",
              "         0.01297481,  0.        ,  0.01416379,  0.01335574,  0.01407701,\n",
              "         0.01284403,  0.        ,  0.00408753,  0.0108722 , -0.0143982 ,\n",
              "         0.        ,  0.0115277 ,  0.        ,  0.        ,  0.        ,\n",
              "        -0.01305429, -0.01272219,  0.01330995,  0.        ,  0.01306569,\n",
              "         0.        , -0.0109359 ,  0.01091622,  0.0031467 ,  0.        ,\n",
              "         0.        , -0.00886488,  0.        ,  0.01307536,  0.        ,\n",
              "         0.01299489, -0.01355667, -0.00434042, -0.01338526,  0.        ,\n",
              "         0.01470682, -0.01432081, -0.01316328], dtype=float32),\n",
              " array([[ 0.13692145, -0.07190803, -0.1682054 , ...,  0.11447085,\n",
              "          0.02043878, -0.1597925 ],\n",
              "        [ 0.02482176,  0.04841631,  0.08804383, ...,  0.14441833,\n",
              "          0.06921958,  0.16104262],\n",
              "        [ 0.03026911,  0.1954072 , -0.09447297, ...,  0.05270315,\n",
              "         -0.05293978,  0.00030349],\n",
              "        ...,\n",
              "        [ 0.15151237,  0.08120351,  0.10310471, ...,  0.01207967,\n",
              "          0.12747741,  0.13764843],\n",
              "        [-0.07128917, -0.09311552, -0.07868154, ..., -0.11839169,\n",
              "         -0.1541874 ,  0.18898037],\n",
              "        [-0.15920493, -0.14635262,  0.1553578 , ...,  0.04101046,\n",
              "          0.069322  ,  0.1997072 ]], dtype=float32),\n",
              " array([-0.01323015,  0.0117929 , -0.01278371,  0.01324337,  0.        ,\n",
              "         0.01296948,  0.        ,  0.        ,  0.01324267, -0.01440831,\n",
              "         0.        ,  0.01329358,  0.01324095, -0.00958997, -0.01429178,\n",
              "         0.01328905,  0.01326394,  0.01329019, -0.00449397,  0.        ,\n",
              "        -0.01322867, -0.00398292,  0.01301758,  0.01324291,  0.01324871,\n",
              "        -0.01369248,  0.        , -0.00996649, -0.00160432,  0.01324177,\n",
              "         0.01324659,  0.01333732], dtype=float32),\n",
              " array([[-0.13129161],\n",
              "        [ 0.4306742 ],\n",
              "        [-0.05355209],\n",
              "        [ 0.2601342 ],\n",
              "        [ 0.26734114],\n",
              "        [ 0.1409023 ],\n",
              "        [ 0.05921304],\n",
              "        [-0.22659692],\n",
              "        [ 0.25372335],\n",
              "        [-0.1696905 ],\n",
              "        [-0.40201342],\n",
              "        [ 0.12667796],\n",
              "        [ 0.42821607],\n",
              "        [-0.27698222],\n",
              "        [-0.09175216],\n",
              "        [ 0.21186839],\n",
              "        [ 0.05180159],\n",
              "        [ 0.27240548],\n",
              "        [-0.1658894 ],\n",
              "        [-0.17649208],\n",
              "        [-0.10478599],\n",
              "        [-0.30650362],\n",
              "        [ 0.07211344],\n",
              "        [ 0.27746063],\n",
              "        [ 0.11556167],\n",
              "        [-0.20859995],\n",
              "        [-0.09229285],\n",
              "        [-0.05648182],\n",
              "        [-0.15479183],\n",
              "        [ 0.33950576],\n",
              "        [ 0.13837004],\n",
              "        [ 0.0196931 ]], dtype=float32),\n",
              " array([0.0132382], dtype=float32)]"
            ]
          },
          "metadata": {},
          "execution_count": 22
        }
      ]
    },
    {
      "cell_type": "markdown",
      "source": [
        "#Prediction on unseen data"
      ],
      "metadata": {
        "id": "nvabKVZvg9pb"
      }
    },
    {
      "cell_type": "code",
      "source": [
        "prediction=model.predict(np.array([[9,9]]))\n",
        "prediction"
      ],
      "metadata": {
        "colab": {
          "base_uri": "https://localhost:8080/"
        },
        "id": "43I8wBHVhANd",
        "outputId": "c4c7e95e-b948-499e-8506-2ac5c9e9105f"
      },
      "execution_count": 23,
      "outputs": [
        {
          "output_type": "stream",
          "name": "stdout",
          "text": [
            "\u001b[1m1/1\u001b[0m \u001b[32m━━━━━━━━━━━━━━━━━━━━\u001b[0m\u001b[37m\u001b[0m \u001b[1m0s\u001b[0m 73ms/step\n"
          ]
        },
        {
          "output_type": "execute_result",
          "data": {
            "text/plain": [
              "array([[6.589548]], dtype=float32)"
            ]
          },
          "metadata": {},
          "execution_count": 23
        }
      ]
    }
  ]
}